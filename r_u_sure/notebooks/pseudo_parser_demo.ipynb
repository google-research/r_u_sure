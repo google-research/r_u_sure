{
 "cells": [
  {
    "cell_type": "markdown",
    "metadata": {
      "colab_type": "text",
      "id": "view-in-github"
    },
    "source": [
      "[![Open In Colab](https://colab.research.google.com/assets/colab-badge.svg)](https://colab.research.google.com/github/google-research/r_u_sure/blob/main/r_u_sure/notebooks/pseudo_parser_demo.ipynb)"
    ]
  },
  {
   "cell_type": "markdown",
   "metadata": {
    "id": "JndnmDMp66FL"
   },
   "source": [
    "##### Copyright 2023 Google LLC.\n",
    "\n",
    "Licensed under the Apache License, Version 2.0 (the \"License\");"
   ]
  },
  {
   "cell_type": "code",
   "execution_count": 0,
   "metadata": {
    "id": "hMqWDc_m6rUC"
   },
   "outputs": [],
   "source": [
    "# Licensed under the Apache License, Version 2.0 (the \"License\");\n",
    "# you may not use this file except in compliance with the License.\n",
    "# You may obtain a copy of the License at\n",
    "#\n",
    "# https://www.apache.org/licenses/LICENSE-2.0\n",
    "#\n",
    "# Unless required by applicable law or agreed to in writing, software\n",
    "# distributed under the License is distributed on an \"AS IS\" BASIS,\n",
    "# WITHOUT WARRANTIES OR CONDITIONS OF ANY KIND, either express or implied.\n",
    "# See the License for the specific language governing permissions and\n",
    "# limitations under the License."
   ]
  },
  {
   "cell_type": "markdown",
   "metadata": {
    "id": "4LorQSEhzlcm"
   },
   "source": [
    "# Pseudo-Parser Demo"
   ]
  },
  {
   "cell_type": "markdown",
   "metadata": {
    "id": "PnRgJ_hGzrB4"
   },
   "source": [
    "This notebook demonstrates the behaviour of the pseudo-parser developed for use with R-U-SURE, by presenting a set of of examples of source code with the corresponding pseudo parse tree."
   ]
  },
  {
   "cell_type": "markdown",
   "metadata": {
    "id": "6OVK5uQuzwy6"
   },
   "source": [
    "## Setup"
   ]
  },
  {
   "cell_type": "markdown",
   "metadata": {
    "id": "1F9Ra5mJ9Eg-"
   },
   "source": [
    "### Installation"
   ]
  },
  {
   "cell_type": "markdown",
   "metadata": {
    "id": "kqOBHS9-z5g_"
   },
   "source": [
    "To run this notebook, you need a Python environment with `r_u_sure` installed. \n",
    "\n",
    "If you are running this from Colab, you can install it by running the following command:"
   ]
  },
  {
   "cell_type": "code",
   "execution_count": 0,
   "metadata": {
    "id": "7N0vnG7suL-m"
   },
   "outputs": [],
   "source": [
    "try:\n",
    "  import r_u_sure\n",
    "except ImportError:\n",
    "  try:\n",
    "    import google.colab\n",
    "    in_colab = True\n",
    "  except ImportError:\n",
    "    in_colab = False\n",
    "  \n",
    "  if in_colab:\n",
    "    print(\"Installing r_u_sure from GitHub...\")\n",
    "    %env NUMBA_DISABLE_TBB=1\n",
    "    %env NUMBA_DISABLE_OPENMP=1\n",
    "    !pip install \"r_u_sure @ git+https://github.com/google-research/r_u_sure\"\n",
    "  else:\n",
    "    # Don't install in this case, to avoid messing up the python environment.\n",
    "    print(\"WARNING: Not running in Colab and r_u_sure not found. \"\n",
    "          \"Please install r_u_sure following the instructions in the README.\")\n",
    "    raise"
   ]
  },
  {
   "cell_type": "markdown",
   "metadata": {
    "id": "1bzZUo248iHL"
   },
   "source": [
    "### Imports"
   ]
  },
  {
   "cell_type": "code",
   "execution_count": 0,
   "metadata": {
    "id": "F6WVQ02g3BP-"
   },
   "outputs": [],
   "source": [
    "import numpy as np\n",
    "import textwrap\n",
    "from IPython import display\n",
    "\n",
    "%matplotlib inline\n",
    "\n",
    "from r_u_sure.wrappers import parser_tools\n",
    "from r_u_sure.tree_structure import sequence_node_helpers\n"
   ]
  },
  {
   "cell_type": "markdown",
   "metadata": {
    "id": "uU0RnbRB8mxm"
   },
   "source": [
    "## Basic Bracket Matching Examples for Java\n"
   ]
  },
  {
   "cell_type": "markdown",
   "metadata": {
    "id": "66cZ3gAZ9G76"
   },
   "source": [
    "Our pseudo parser supports python, cpp, java, and javascript. All of these are the same except for python which has some extra language specific parse tree transformations. The language specific parameters are specified in `stack_parser.py`, and it is simple to add additional languages by modifying that file. \n",
    "\n",
    "We begin with some examples using simpler the java version."
   ]
  },
  {
   "cell_type": "code",
   "execution_count": 0,
   "metadata": {
    "id": "9gIqV2yE8lJC"
   },
   "outputs": [],
   "source": [
    "java_parser_helper = parser_tools.ParserHelper(language=\"java\")"
   ]
  },
  {
   "cell_type": "code",
   "execution_count": 0,
   "metadata": {
    "id": "yyFsjioVgsBd",
    "outputId": "2b740345-ff19-4a9b-a08e-ebba2f12e4ad"
   },
   "outputs": [
    {
     "name": "stdout",
     "output_type": "stream",
     "text": [
      "GROUP(ROOT): 'foo bar'\n",
      "  TOK(CONTENT_LEAF): 'foo'\n",
      "  DEC: ' '\n",
      "  TOK(CONTENT_LEAF): 'bar'\n"
     ]
    }
   ],
   "source": [
    "#@title Tokens can be delimited with whitespace\n",
    "\n",
    "parsed = java_parser_helper.parse_to_nodes('''foo bar''')\n",
    "print(sequence_node_helpers.render_debug(parsed))"
   ]
  },
  {
   "cell_type": "code",
   "execution_count": 0,
   "metadata": {
    "id": "ef6ceWrnHE1h",
    "outputId": "f608a362-7211-4178-d586-fa049c03ef16"
   },
   "outputs": [
    {
     "name": "stdout",
     "output_type": "stream",
     "text": [
      "GROUP(ROOT): 'foo bar; baz qux;'\n",
      "  GROUP(SPLIT_GROUP): 'foo bar;'\n",
      "    TOK(CONTENT_LEAF): 'foo'\n",
      "    DEC: ' '\n",
      "    TOK(CONTENT_LEAF): 'bar'\n",
      "    TOK(CONTENT_LEAF): ';'\n",
      "  GROUP(SPLIT_GROUP): ' baz qux;'\n",
      "    DEC: ' '\n",
      "    TOK(CONTENT_LEAF): 'baz'\n",
      "    DEC: ' '\n",
      "    TOK(CONTENT_LEAF): 'qux'\n",
      "    TOK(CONTENT_LEAF): ';'\n"
     ]
    }
   ],
   "source": [
    "#@title Statements will be split into groups demarcated by semicolons\n",
    "\n",
    "parsed = java_parser_helper.parse_to_nodes('''foo bar; baz qux;''')\n",
    "print(sequence_node_helpers.render_debug(parsed))"
   ]
  },
  {
   "cell_type": "code",
   "execution_count": 0,
   "metadata": {
    "id": "TtUvcZ6LHgTv",
    "outputId": "418d66c1-927d-4380-fbe6-47fc77e57d2b"
   },
   "outputs": [
    {
     "name": "stdout",
     "output_type": "stream",
     "text": [
      "GROUP(ROOT): 'foo(bar)'\n",
      "  TOK(CONTENT_LEAF): 'foo'\n",
      "  GROUP(MATCH): '(bar)'\n",
      "    TOK(MATCH_LEFT): '('\n",
      "    GROUP(MATCH_INNER): 'bar'\n",
      "      TOK(CONTENT_LEAF): 'bar'\n",
      "    TOK(MATCH_RIGHT): ')'\n"
     ]
    }
   ],
   "source": [
    "#@title Brackets are matched to yield sub-trees\n",
    "\n",
    "parsed = java_parser_helper.parse_to_nodes('''foo(bar)''')\n",
    "print(sequence_node_helpers.render_debug(parsed))"
   ]
  },
  {
   "cell_type": "code",
   "execution_count": 0,
   "metadata": {
    "id": "9jVihnFrHtaY",
    "outputId": "1973bb2e-afd3-43fd-fd5a-152d93e30f81"
   },
   "outputs": [
    {
     "name": "stdout",
     "output_type": "stream",
     "text": [
      "GROUP(ROOT): 'foo(bar]'\n",
      "  TOK(CONTENT_LEAF): 'foo'\n",
      "  GROUP(MATCH): '(bar]'\n",
      "    TOK(MATCH_LEFT): '('\n",
      "    GROUP(MATCH_INNER): 'bar]'\n",
      "      TOK(CONTENT_LEAF): 'bar'\n",
      "      TOK(CONTENT_LEAF): ']'\n",
      "    TOK(MATCH_RIGHT): ''\n"
     ]
    }
   ],
   "source": [
    "#@title Non-matching brackets are tolerated ...\n",
    "\n",
    "parsed = java_parser_helper.parse_to_nodes('''foo(bar]''')\n",
    "print(sequence_node_helpers.render_debug(parsed))"
   ]
  },
  {
   "cell_type": "code",
   "execution_count": 0,
   "metadata": {
    "id": "4BTIzlVWH686",
    "outputId": "60409e2c-3853-485e-f209-12e8b96aa20a"
   },
   "outputs": [
    {
     "name": "stdout",
     "output_type": "stream",
     "text": [
      "GROUP(ROOT): 'foo(bar)]'\n",
      "  GROUP(MATCH): 'foo(bar)]'\n",
      "    TOK(MATCH_LEFT): ''\n",
      "    GROUP(MATCH_INNER): 'foo(bar)'\n",
      "      TOK(CONTENT_LEAF): 'foo'\n",
      "      GROUP(MATCH): '(bar)'\n",
      "        TOK(MATCH_LEFT): '('\n",
      "        GROUP(MATCH_INNER): 'bar'\n",
      "          TOK(CONTENT_LEAF): 'bar'\n",
      "        TOK(MATCH_RIGHT): ')'\n",
      "    TOK(MATCH_RIGHT): ']'\n"
     ]
    }
   ],
   "source": [
    "#@title ... but the non-matching brackets are handled somewhat arbitrarily\n",
    "\n",
    "parsed = java_parser_helper.parse_to_nodes('''foo(bar)]''')\n",
    "print(sequence_node_helpers.render_debug(parsed))"
   ]
  },
  {
   "cell_type": "markdown",
   "metadata": {
    "id": "SiBgTGC1JZO8"
   },
   "source": [
    "## More Complex Bracket Matching Examples for Python\n",
    "\n",
    "Python does creative things with whitespace which we account for in our pseudo parser."
   ]
  },
  {
   "cell_type": "code",
   "execution_count": 0,
   "metadata": {
    "id": "vJIqDawUIpE_"
   },
   "outputs": [],
   "source": [
    "python_parser_helper = parser_tools.ParserHelper(language=\"python\")"
   ]
  },
  {
   "cell_type": "code",
   "execution_count": 0,
   "metadata": {
    "id": "nqoSnR8ZJsJo",
    "outputId": "467ac8f2-cc0e-42a7-d045-71bb4e77c213"
   },
   "outputs": [
    {
     "name": "stdout",
     "output_type": "stream",
     "text": [
      "GROUP(ROOT): 'foo bar\\nbaz qux\\n'\n",
      "  GROUP(SPLIT_GROUP): 'foo bar\\n'\n",
      "    TOK(CONTENT_LEAF): 'foo'\n",
      "    DEC: ' '\n",
      "    TOK(CONTENT_LEAF): 'bar'\n",
      "    DEC: '\\n'\n",
      "  GROUP(SPLIT_GROUP): 'baz qux\\n'\n",
      "    TOK(CONTENT_LEAF): 'baz'\n",
      "    DEC: ' '\n",
      "    TOK(CONTENT_LEAF): 'qux'\n",
      "    DEC: '\\n'\n"
     ]
    }
   ],
   "source": [
    "#@title Splitting occurs on newlines rather than whitespace:\n",
    "\n",
    "parsed = python_parser_helper.parse_to_nodes('''foo bar\\nbaz qux\\n''')\n",
    "print(sequence_node_helpers.render_debug(parsed))"
   ]
  },
  {
   "cell_type": "code",
   "execution_count": 0,
   "metadata": {
    "id": "4VzwZ9adJz3z",
    "outputId": "0417780a-cf77-4b0e-977a-aecd14341a43"
   },
   "outputs": [
    {
     "name": "stdout",
     "output_type": "stream",
     "text": [
      "GROUP(ROOT): '[foo, bar,\\nbaz, qux]\\n'\n",
      "  GROUP(SPLIT_GROUP): '[foo, bar,\\nbaz, qux]\\n'\n",
      "    GROUP(MATCH): '[foo, bar,\\nbaz, qux]'\n",
      "      TOK(MATCH_LEFT): '['\n",
      "      GROUP(MATCH_INNER): 'foo, bar,\\nbaz, qux'\n",
      "        TOK(CONTENT_LEAF): 'foo'\n",
      "        TOK(CONTENT_LEAF): ','\n",
      "        DEC: ' '\n",
      "        TOK(CONTENT_LEAF): 'bar'\n",
      "        TOK(CONTENT_LEAF): ','\n",
      "        DEC: '\\n'\n",
      "        TOK(CONTENT_LEAF): 'baz'\n",
      "        TOK(CONTENT_LEAF): ','\n",
      "        DEC: ' '\n",
      "        TOK(CONTENT_LEAF): 'qux'\n",
      "      TOK(MATCH_RIGHT): ']'\n",
      "    DEC: '\\n'\n"
     ]
    }
   ],
   "source": [
    "#@title Splitting does not occurs on newlines contained in parantheses:\n",
    "\n",
    "parsed = python_parser_helper.parse_to_nodes('''[foo, bar,\\nbaz, qux]\\n''')\n",
    "print(sequence_node_helpers.render_debug(parsed))"
   ]
  },
  {
   "cell_type": "code",
   "execution_count": 0,
   "metadata": {
    "id": "JxRTzw4fK7IL",
    "outputId": "4bf38ff1-0c7b-4711-ec00-ac2920e38a02"
   },
   "outputs": [
    {
     "name": "stdout",
     "output_type": "stream",
     "text": [
      "GROUP(ROOT): 'if x:\\n y=x\\n return y\\n'\n",
      "  GROUP(SPLIT_GROUP): 'if x:\\n y=x\\n return y\\n'\n",
      "    GROUP(SPLIT_GROUP): 'if x:\\n'\n",
      "      TOK(CONTENT_LEAF): 'if'\n",
      "      DEC: ' '\n",
      "      TOK(CONTENT_LEAF): 'x'\n",
      "      TOK(CONTENT_LEAF): ':'\n",
      "      DEC: '\\n'\n",
      "    GROUP(SPLIT_GROUP): ' y=x\\n return y\\n'\n",
      "      GROUP(MATCH): ' y=x\\n return y'\n",
      "        TOK(MATCH_LEFT): ''\n",
      "        GROUP(MATCH_INNER): ' y=x\\n return y'\n",
      "          GROUP(SPLIT_GROUP): ' y=x\\n'\n",
      "            DEC: ' '\n",
      "            TOK(CONTENT_LEAF): 'y'\n",
      "            TOK(CONTENT_LEAF): '='\n",
      "            TOK(CONTENT_LEAF): 'x'\n",
      "            DEC: '\\n'\n",
      "          GROUP(SPLIT_GROUP): ' return y'\n",
      "            DEC: ' '\n",
      "            TOK(CONTENT_LEAF): 'return'\n",
      "            DEC: ' '\n",
      "            TOK(CONTENT_LEAF): 'y'\n",
      "        TOK(MATCH_RIGHT): ''\n",
      "      DEC: '\\n'\n"
     ]
    }
   ],
   "source": [
    "#@title Python indents and dedents are matched (and rendered as empty strings here)\n",
    "parsed = python_parser_helper.parse_to_nodes(\n",
    "'''\n",
    "if x:\n",
    " y=x\n",
    " return y\n",
    "'''[1:])\n",
    "print(sequence_node_helpers.render_debug(parsed))"
   ]
  },
  {
   "cell_type": "code",
   "execution_count": 0,
   "metadata": {
    "id": "KHoT7El-LLFF",
    "outputId": "223605cc-2b3d-4f80-844b-4c7ef73f034b"
   },
   "outputs": [
    {
     "name": "stdout",
     "output_type": "stream",
     "text": [
      "GROUP(ROOT): 'if x:\\n      y=x\\n      return y\\n'\n",
      "  GROUP(SPLIT_GROUP): 'if x:\\n      y=x\\n      return y\\n'\n",
      "    GROUP(SPLIT_GROUP): 'if x:\\n'\n",
      "      TOK(CONTENT_LEAF): 'if'\n",
      "      DEC: ' '\n",
      "      TOK(CONTENT_LEAF): 'x'\n",
      "      TOK(CONTENT_LEAF): ':'\n",
      "      DEC: '\\n'\n",
      "    GROUP(SPLIT_GROUP): '      y=x\\n      return y\\n'\n",
      "      GROUP(MATCH): '      y=x\\n      return y'\n",
      "        TOK(MATCH_LEFT): ''\n",
      "        GROUP(MATCH_INNER): '      y=x\\n      return y'\n",
      "          GROUP(MATCH): '      y=x\\n      return y'\n",
      "            TOK(MATCH_LEFT): ''\n",
      "            GROUP(MATCH_INNER): '      y=x\\n      return y'\n",
      "              GROUP(SPLIT_GROUP): '      y=x\\n'\n",
      "                DEC: '      '\n",
      "                TOK(CONTENT_LEAF): 'y'\n",
      "                TOK(CONTENT_LEAF): '='\n",
      "                TOK(CONTENT_LEAF): 'x'\n",
      "                DEC: '\\n'\n",
      "              GROUP(SPLIT_GROUP): '      return y'\n",
      "                DEC: '      '\n",
      "                TOK(CONTENT_LEAF): 'return'\n",
      "                DEC: ' '\n",
      "                TOK(CONTENT_LEAF): 'y'\n",
      "            TOK(MATCH_RIGHT): ''\n",
      "        TOK(MATCH_RIGHT): ''\n",
      "      DEC: '\\n'\n"
     ]
    }
   ],
   "source": [
    "#@title We infer the number of spaces per python indent / dedent\n",
    "parsed = python_parser_helper.parse_to_nodes(\n",
    "'''\n",
    "if x:\n",
    "      y=x\n",
    "      return y\n",
    "'''[1:])\n",
    "print(sequence_node_helpers.render_debug(parsed))"
   ]
  },
  {
   "cell_type": "code",
   "execution_count": 0,
   "metadata": {
    "id": "sQFJ5C3jMZV5"
   },
   "outputs": [],
   "source": []
  }
 ],
 "metadata": {
  "colab": {},
  "kernelspec": {
   "display_name": "Python 3",
   "name": "python3"
  },
  "language_info": {
   "name": "python"
  }
 },
 "nbformat": 4,
 "nbformat_minor": 0
}
