{
  "cells": [
    {
      "cell_type": "markdown",
      "metadata": {
        "id": "JndnmDMp66FL"
      },
      "source": [
        "##### Copyright 2023 Google LLC.\n",
        "\n",
        "Licensed under the Apache License, Version 2.0 (the \"License\");"
      ]
    },
    {
      "cell_type": "code",
      "execution_count": null,
      "metadata": {
        "id": "hMqWDc_m6rUC"
      },
      "outputs": [],
      "source": [
        "# Licensed under the Apache License, Version 2.0 (the \"License\");\n",
        "# you may not use this file except in compliance with the License.\n",
        "# You may obtain a copy of the License at\n",
        "#\n",
        "# https://www.apache.org/licenses/LICENSE-2.0\n",
        "#\n",
        "# Unless required by applicable law or agreed to in writing, software\n",
        "# distributed under the License is distributed on an \"AS IS\" BASIS,\n",
        "# WITHOUT WARRANTIES OR CONDITIONS OF ANY KIND, either express or implied.\n",
        "# See the License for the specific language governing permissions and\n",
        "# limitations under the License."
      ]
    },
    {
      "cell_type": "markdown",
      "metadata": {
        "id": "4LorQSEhzlcm"
      },
      "source": [
        "# Utility decision diagrams: Details"
      ]
    },
    {
      "cell_type": "markdown",
      "metadata": {
        "id": "MG3NZ-3SXXJ_"
      },
      "source": [
        "[![Open In Colab](https://colab.research.google.com/assets/colab-badge.svg)](https://colab.research.google.com/github/google-research/r_u_sure/r_u_sure/notebooks/Utility_decision_diagrams_details.ipynb)"
      ]
    },
    {
      "cell_type": "markdown",
      "metadata": {
        "id": "PnRgJ_hGzrB4"
      },
      "source": [
        "This notebook shows some of the details involved in the full utility functions used in the main paper, and explains how to interpret them.\n",
        "\n",
        "For an introduction to the concepts discussed here, see the companion notebook [`Utility_decision_diagrams_intro.ipynb`](https://colab.research.google.com/github/google-research/r_u_sure/r_u_sure/notebooks/Utility_decision_diagrams_intro.ipynb)."
      ]
    },
    {
      "cell_type": "markdown",
      "metadata": {
        "id": "6OVK5uQuzwy6"
      },
      "source": [
        "## Setup"
      ]
    },
    {
      "cell_type": "markdown",
      "metadata": {
        "id": "1F9Ra5mJ9Eg-"
      },
      "source": [
        "### Installation"
      ]
    },
    {
      "cell_type": "markdown",
      "metadata": {
        "id": "kqOBHS9-z5g_"
      },
      "source": [
        "To run this notebook, you need a Python environment with `r_u_sure` installed. \n",
        "\n",
        "If you are running this from Colab, you can install it by running the following command:"
      ]
    },
    {
      "cell_type": "code",
      "execution_count": null,
      "metadata": {
        "id": "7N0vnG7suL-m"
      },
      "outputs": [],
      "source": [
        "try:\n",
        "  import r_u_sure\n",
        "except ImportError:\n",
        "  try:\n",
        "    import google.colab\n",
        "    in_colab = True\n",
        "  except ImportError:\n",
        "    in_colab = False\n",
        "  \n",
        "  if in_colab:\n",
        "    print(\"Installing r_u_sure from GitHub...\")\n",
        "    !pip install \"r_u_sure @ git+https://github.com/google-research/r_u_sure\"\n",
        "  else:\n",
        "    # Don't install in this case, to avoid messing up the python environment.\n",
        "    print(\"WARNING: Not running in Colab and r_u_sure not found. \"\n",
        "          \"Please install r_u_sure following the instructions in the README.\")\n",
        "    raise"
      ]
    },
    {
      "cell_type": "markdown",
      "metadata": {
        "id": "1bzZUo248iHL"
      },
      "source": [
        "### Imports"
      ]
    },
    {
      "cell_type": "code",
      "execution_count": null,
      "metadata": {
        "id": "_uo2UAkZk4Nr"
      },
      "outputs": [],
      "source": [
        "import textwrap"
      ]
    },
    {
      "cell_type": "code",
      "execution_count": null,
      "metadata": {
        "id": "WaaI0ZqU0ZO-"
      },
      "outputs": [],
      "source": [
        "import numpy as np\n",
        "import matplotlib.pyplot as plt\n",
        "from IPython import display"
      ]
    },
    {
      "cell_type": "code",
      "execution_count": null,
      "metadata": {
        "id": "VaCII6cZ8loj"
      },
      "outputs": [],
      "source": [
        "from r_u_sure.wrappers import parser_tools\n",
        "\n",
        "from r_u_sure.tree_structure import packed_sequence_nodes\n",
        "from r_u_sure.tree_structure import sequence_node_helpers\n",
        "from r_u_sure.tree_structure import transforms\n",
        "\n",
        "from r_u_sure.decision_diagrams import gated_state_dag\n",
        "from r_u_sure.decision_diagrams import packed_dags\n",
        "\n",
        "from r_u_sure.edit_distance_utility import region_decisions\n",
        "from r_u_sure.edit_distance_utility import edit_dags\n",
        "from r_u_sure.edit_distance_utility import constraint_dags\n",
        "from r_u_sure.decision_diagrams import consistent_path_dual_solver\n",
        "\n",
        "# from r_u_sure.wrappers import uncertainty_regions_wrapper\n",
        "\n",
        "from r_u_sure.rendering import render_in_notebook"
      ]
    },
    {
      "cell_type": "markdown",
      "metadata": {
        "id": "1k-riqSYk4cX"
      },
      "source": [
        "## Parsing source code into trees"
      ]
    },
    {
      "cell_type": "markdown",
      "metadata": {
        "id": "0_NK_W7flNUk"
      },
      "source": [
        "For this notebook, we'll focus on the edit localization task with a few small hand-written programs."
      ]
    },
    {
      "cell_type": "code",
      "execution_count": null,
      "metadata": {
        "id": "wgdykjK-lSnp"
      },
      "outputs": [],
      "source": [
        "example_programs = [\n",
        "    \"\"\"\\\n",
        "    print(\"hello world\")\n",
        "    def my_function_A(x):\n",
        "      if not x:\n",
        "        print(1)\n",
        "    \"\"\",\n",
        "    \"\"\"\\\n",
        "    print(\"hello world\")\n",
        "    def my_function_B(x):\n",
        "      if x is None:\n",
        "        print(1)\n",
        "    \"\"\",\n",
        "    \"\"\"\\\n",
        "    print(\"hello world\")\n",
        "    def my_function_C(x):\n",
        "      if not x:\n",
        "        print(2)\n",
        "    \"\"\"\n",
        "]\n",
        "example_programs = [textwrap.dedent(program) for program in example_programs]"
      ]
    },
    {
      "cell_type": "markdown",
      "metadata": {
        "id": "LSSbguiDk92O"
      },
      "source": [
        "The first step is to parse our model samples into trees using our pseudoparser."
      ]
    },
    {
      "cell_type": "code",
      "execution_count": null,
      "metadata": {
        "id": "DvqJbdlo8iOw"
      },
      "outputs": [],
      "source": [
        "parser_helper = parser_tools.ParserHelper(language=\"python\")"
      ]
    },
    {
      "cell_type": "code",
      "execution_count": null,
      "metadata": {
        "id": "oqEJEySgk9g9"
      },
      "outputs": [],
      "source": [
        "parsed_programs = [\n",
        "    parser_helper.parse_to_nodes(source_string)\n",
        "    for source_string in example_programs\n",
        "]"
      ]
    },
    {
      "cell_type": "markdown",
      "metadata": {
        "id": "M267-pJClgXH"
      },
      "source": [
        "We can visualize the parsed tree structure to see what the parser produces. Note that our parser doesn't exactly correspond to the full language AST, and focuses on matching brackets, splitting statements (for example, by unbracketed newlines in Python) and (in Python) grouping indents."
      ]
    },
    {
      "cell_type": "code",
      "execution_count": null,
      "metadata": {
        "id": "uSKxXwRUlGCp"
      },
      "outputs": [],
      "source": [
        "for i, parsed_program in enumerate(parsed_programs):\n",
        "  print(f\"==== Example {i} ====\")\n",
        "  print(sequence_node_helpers.render_debug(parsed_program))\n",
        "  print(\"\\n\\n\")"
      ]
    },
    {
      "cell_type": "markdown",
      "metadata": {
        "id": "qtTWn_EmlIUr"
      },
      "source": [
        "We will designate one model sample as the prototype. Before building our utility function, we need to specify what the set of possible annotations is. We do this by inserting special \"control nodes\" into the tree, which do not correspond to any output but instead denote locations where we need to make a decision during the search process.\n",
        "\n",
        "Here, as a demonstration, we insert region start/end nodes and also early exit nodes, which corresponds to searching over UNSURE annotations and also optionally choosing a truncation point."
      ]
    },
    {
      "cell_type": "code",
      "execution_count": null,
      "metadata": {
        "id": "al4vfBiZlm7G"
      },
      "outputs": [],
      "source": [
        "suggestion_prototype = parsed_programs[0]\n",
        "suggestion_prototype = transforms.insert_region_options_around_subsequences(\n",
        "    suggestion_prototype,\n",
        "    allow_empty_regions=False,  # This is usually True, but makes the graphs larger.\n",
        "    node_filter=parser_tools.allow_regions_around_pseudoparse_node,\n",
        ")\n",
        "suggestion_prototype = transforms.insert_early_exit(suggestion_prototype)"
      ]
    },
    {
      "cell_type": "code",
      "execution_count": null,
      "metadata": {
        "id": "WrVK-FC9_NIN"
      },
      "outputs": [],
      "source": [
        "print(f\"==== Prototype ====\")\n",
        "print(sequence_node_helpers.render_debug(suggestion_prototype))"
      ]
    },
    {
      "cell_type": "markdown",
      "metadata": {
        "id": "tY-hHvJ39eUO"
      },
      "source": [
        "We also need to specify how much of the sequence is the shared context (i.e. what the user already wrote) and where in the sequence the suggestion starts. Let's imagine that the user has just written `def`, and the rest of each program is a suggestion.\n",
        "\n",
        "We handle this by first parsing the full program, and then deleting any node that comes before the user's \"cursor position\". This ensures that the result still respects the AST structure of the full program."
      ]
    },
    {
      "cell_type": "code",
      "execution_count": null,
      "metadata": {
        "id": "2_4Myu-K9eDT"
      },
      "outputs": [],
      "source": [
        "cursor_position = example_programs[0].find(\"def\") + 4\n",
        "\n",
        "parsed_programs_truncated = [\n",
        "    transforms.truncate_prefix_at_offset(program, cursor_position)\n",
        "    for program in parsed_programs\n",
        "]\n",
        "suggestion_prototype_truncated = transforms.truncate_prefix_at_offset(\n",
        "    suggestion_prototype, cursor_position)"
      ]
    },
    {
      "cell_type": "code",
      "execution_count": null,
      "metadata": {
        "id": "Immdc3AF_8r0"
      },
      "outputs": [],
      "source": [
        "# Render just the first one, to show how the truncation works:\n",
        "print(f\"==== Target 0 ====\")\n",
        "print(sequence_node_helpers.render_debug(parsed_programs_truncated[0]))"
      ]
    },
    {
      "cell_type": "markdown",
      "metadata": {
        "id": "dOCtHaPwp44z"
      },
      "source": [
        "This representation is convenient to build and render, but not very fast to iterate over and difficult to index into. The next step is to convert it into a \"packed\" representation, which consists of a collection of flat arrays of indices."
      ]
    },
    {
      "cell_type": "code",
      "execution_count": null,
      "metadata": {
        "id": "b7Qhxt_eqE0H"
      },
      "outputs": [],
      "source": [
        "packed_targets = [\n",
        "    parser_tools.pack_sequence_from_pseudoparser(\n",
        "        sequence, with_numba=True\n",
        "    )\n",
        "    for sequence in parsed_programs_truncated\n",
        "]\n",
        "packed_prototype = parser_tools.pack_sequence_from_pseudoparser(\n",
        "    suggestion_prototype_truncated, with_numba=True\n",
        ")"
      ]
    },
    {
      "cell_type": "code",
      "execution_count": null,
      "metadata": {
        "id": "HciN2lfDBFSh"
      },
      "outputs": [],
      "source": [
        "# Some of the packed contents:\n",
        "for i, item in enumerate(packed_prototype.preorder_traversal[:30]):\n",
        "  print(f\"preorder_traversal[{i}] == {item}\")\n",
        "  if item.category == packed_sequence_nodes.PackedSequenceNodeCategory.GROUP_NODE:\n",
        "    print(f\"  group_nodes[{item.index_in_category}] == {packed_prototype.group_nodes[item.index_in_category]}\")\n",
        "  elif item.category == packed_sequence_nodes.PackedSequenceNodeCategory.TEXT_TOKEN_NODE:\n",
        "    print(f\"  text_token_nodes[{item.index_in_category}] == {packed_prototype.text_token_nodes[item.index_in_category]}\")\n",
        "  elif item.category == packed_sequence_nodes.PackedSequenceNodeCategory.TEXT_DECORATION_NODE:\n",
        "    print(f\"  text_decoration_nodes[{item.index_in_category}] == {packed_prototype.text_decoration_nodes[item.index_in_category]}\")\n",
        "\n",
        "print(\"...\")"
      ]
    },
    {
      "cell_type": "markdown",
      "metadata": {
        "id": "h-ACR9NqlnV1"
      },
      "source": [
        "## Constructing the edit DAG"
      ]
    },
    {
      "cell_type": "markdown",
      "metadata": {
        "id": "LPAosjpapKgC"
      },
      "source": [
        "An \"edit DAG\" is a decision diagram that encodes the utility (actually represented as a cost) of a suggestion based on how easy it is to modify into the (hypothetical) target code.\n",
        "\n",
        "Before building an edit DAG, we need to first configure the utilities and costs associated with different types of prediction. In general, we award positive utility (negative cost) when suggesting things that are correct, and incur negative utility (positive cost) when suggesting things that are wrong."
      ]
    },
    {
      "cell_type": "code",
      "execution_count": null,
      "metadata": {
        "id": "EuGo-i-CpKLF"
      },
      "outputs": [],
      "source": [
        "utility_config = edit_dags.make_character_count_cost_config(\n",
        "    # Utilities and costs per character in the suggestion.\n",
        "    high_confidence_match_utility_per_char=1.0,\n",
        "    high_confidence_delete_cost_per_char=1.0,\n",
        "    low_confidence_match_utility_per_char=0.7,\n",
        "    low_confidence_delete_cost_per_char=0.3,\n",
        "    # Costs per character of the target we insert. Usually zero.\n",
        "    insert_cost_per_char=0.0,\n",
        "    # Cost for starting an edit. These costs also apply for inserts,\n",
        "    # and ensure that locations of inserts are flagged as UNSURE as well.\n",
        "    low_confidence_region_cost=0.75,\n",
        "    high_confidence_start_editing_cost=5.0,\n",
        "    low_confidence_start_editing_cost=2.5,\n",
        ")"
      ]
    },
    {
      "cell_type": "markdown",
      "metadata": {
        "id": "OXv8GKpQqMYl"
      },
      "source": [
        "To speed up construction, we first set up a JIT-compiled version of the graph builder logic and specialize it to our configuration. The graph building logic can also run outside of JIT, but it's slower. (It will do the actual compilation the first time this is called.)"
      ]
    },
    {
      "cell_type": "code",
      "execution_count": null,
      "metadata": {
        "id": "OUvd8d3KqV1Z"
      },
      "outputs": [],
      "source": [
        "construct_edit_dag = edit_dags.make_edit_dag_builder(\n",
        "    utility_config, with_numba=True\n",
        ")"
      ]
    },
    {
      "cell_type": "markdown",
      "metadata": {
        "id": "8cxY4Ly2p2PI"
      },
      "source": [
        "We can now build the decision diagram (called a DAG in our implementation) by providing our suggestion prototype along with a particular target."
      ]
    },
    {
      "cell_type": "code",
      "execution_count": null,
      "metadata": {
        "id": "fcbYSIJnqL-0"
      },
      "outputs": [],
      "source": [
        "example_target = packed_targets[1]\n",
        "dag, render_data = construct_edit_dag(prototype=packed_prototype, target=example_target)"
      ]
    },
    {
      "cell_type": "markdown",
      "metadata": {
        "id": "tx7oHdBybKUk"
      },
      "source": [
        "Our DAG can be rendered in Colab to show the details of its structure. For efficiency reasons, we only render the edges and nodes that can be reached from the starting and ending node. Try scrolling to zoom in and clicking and dragging to move.\n",
        "\n",
        "A few things to notice:\n",
        "\n",
        "- There are a number of named states at each position. These are used to track the current editing mode and confidence level.\n",
        "- Edges between these states are sometimes labeled with decisions that must be made in order to take those edges. These decisions correspond to region start/end points, region membership, and early exiting.\n",
        "- When we decide to truncate a suggestion, there is an edge that jumps straight to the final state.\n",
        "- The nested blue boxes represent recursively matched subtrees."
      ]
    },
    {
      "cell_type": "code",
      "execution_count": null,
      "metadata": {
        "id": "teTgUqEVblCp"
      },
      "outputs": [],
      "source": [
        "annotator = edit_dags.EditDagGraphAnnotator(\n",
        "    prototype=packed_prototype,\n",
        "    target=example_target,\n",
        "    render_data=render_data,\n",
        "    render_config=edit_dags.EditDagRenderConfig(),\n",
        ")\n",
        "render_in_notebook.render_dag_in_notebook(\n",
        "    gated_state_dag.prune_to_reachable(dag),\n",
        "    annotator,\n",
        "    hover_for_info=False,\n",
        "    pan_and_zoom=True,\n",
        "    max_width=\"100%\",\n",
        ")"
      ]
    },
    {
      "cell_type": "markdown",
      "metadata": {
        "id": "t7D8uc4_cw12"
      },
      "source": [
        "The next step is to remove unreachable nodes and \"pack\" this DAG into a more efficient form. Packing transforms the list of edges into a decision-ordered representation, which divides states and edges into layers that affect different variables. We JIT-compile this operation as well.\n",
        "\n",
        "(This packing step is usually the bulk of the runtime of the method. We have prioritized flexibility in the decision diagram implementation by making the states Python objects, which means we must do a lot of Python dictionary lookups and state comparisions while building the packed version.)"
      ]
    },
    {
      "cell_type": "code",
      "execution_count": null,
      "metadata": {
        "id": "CMvs8ByBdq_N"
      },
      "outputs": [],
      "source": [
        "pack_edit_dag, _ = edit_dags.make_specialized_dag_packer()"
      ]
    },
    {
      "cell_type": "code",
      "execution_count": null,
      "metadata": {
        "id": "bcS7TA1P0CeY"
      },
      "outputs": [],
      "source": [
        "reachable_dag = gated_state_dag.prune_to_reachable_jit(dag)\n",
        "packed_dag, conversion_data = pack_edit_dag(reachable_dag)"
      ]
    },
    {
      "cell_type": "markdown",
      "metadata": {
        "id": "sTnkUFdef6oJ"
      },
      "source": [
        "We can repeat the process for the full set of targets:"
      ]
    },
    {
      "cell_type": "code",
      "execution_count": null,
      "metadata": {
        "id": "vxSnF8W1f8lA"
      },
      "outputs": [],
      "source": [
        "packed_edit_dags_and_conversion_data = []\n",
        "\n",
        "for target in packed_targets:\n",
        "  dag, render_data = construct_edit_dag(prototype=packed_prototype, target=target)\n",
        "  reachable_dag = gated_state_dag.prune_to_reachable_jit(dag)\n",
        "  packed_dag, conversion_data = pack_edit_dag(reachable_dag)\n",
        "  packed_edit_dags_and_conversion_data.append((packed_dag, conversion_data))"
      ]
    },
    {
      "cell_type": "markdown",
      "metadata": {
        "id": "qxQDyO0bbl2Z"
      },
      "source": [
        "## Constructing the constraint DAG"
      ]
    },
    {
      "cell_type": "markdown",
      "metadata": {
        "id": "lNYEgaddbn0L"
      },
      "source": [
        "The edit DAG ensures that subtrees match one-to-one, but it doesn't constrain where regions start or end. For this purpose, we also build a \"constraint DAG\" that depends only on the prototype.\n",
        "\n",
        "The constraint DAG has the property that all complete paths from the initial to the final node correspond to valid sets of decisions. Here validity means that the corresponding uncertainty regions obey certain constraints that are designed to ensure that the uncertainty regions are semantically sensible, e.g. that they do not begin outside a particular sub-tree of the AST and then end within that sub-tree.\n",
        "\n",
        "All of the edges in this DAG have cost zero."
      ]
    },
    {
      "cell_type": "code",
      "execution_count": null,
      "metadata": {
        "id": "DPW2t3ntgDe0"
      },
      "outputs": [],
      "source": [
        "construct_constraint_dag = constraint_dags.make_constraint_dag_builder(\n",
        "    with_numba=True)"
      ]
    },
    {
      "cell_type": "code",
      "execution_count": null,
      "metadata": {
        "id": "F2w8uBVMbna4"
      },
      "outputs": [],
      "source": [
        "dag = construct_constraint_dag(prototype=packed_prototype)"
      ]
    },
    {
      "cell_type": "markdown",
      "metadata": {
        "id": "E9gRaEzceJMx"
      },
      "source": [
        "We can visualize this DAG as well:"
      ]
    },
    {
      "cell_type": "code",
      "execution_count": null,
      "metadata": {
        "id": "nqgRcUkdeKgn"
      },
      "outputs": [],
      "source": [
        "annotator = constraint_dags.ConstraintDagGraphAnnotator(\n",
        "    prototype=packed_prototype,\n",
        "    render_config=constraint_dags.ConstraintDagRenderConfig(),\n",
        ")\n",
        "render_in_notebook.render_dag_in_notebook(\n",
        "    gated_state_dag.prune_to_reachable(dag),\n",
        "    annotator,\n",
        "    hover_for_info=False,\n",
        "    pan_and_zoom=True,\n",
        "    max_width=\"100%\",\n",
        ")"
      ]
    },
    {
      "cell_type": "markdown",
      "metadata": {
        "id": "dOlGW0WJ1luk"
      },
      "source": [
        "And pack it:"
      ]
    },
    {
      "cell_type": "code",
      "execution_count": null,
      "metadata": {
        "id": "n7HTbY5O10D_"
      },
      "outputs": [],
      "source": [
        "pack_constraint_dag, _ = constraint_dags.make_specialized_dag_packer()"
      ]
    },
    {
      "cell_type": "code",
      "execution_count": null,
      "metadata": {
        "id": "Wx-lH2_22ZCw"
      },
      "outputs": [],
      "source": [
        "reachable_dag = gated_state_dag.prune_to_reachable_jit(dag)\n",
        "packed_constraint_dag_and_conversion_data = pack_constraint_dag(reachable_dag)"
      ]
    },
    {
      "cell_type": "markdown",
      "metadata": {
        "id": "8p7SpoLzeQit"
      },
      "source": [
        "## Building and solving the combined system"
      ]
    },
    {
      "cell_type": "markdown",
      "metadata": {
        "id": "yNQQS91Jf2Vy"
      },
      "source": [
        "All of these diagrams have a compatible set of decisions, so we can combine them all into a single system. We have one edit DAG per target, and a single constraint DAG as well."
      ]
    },
    {
      "cell_type": "code",
      "execution_count": null,
      "metadata": {
        "id": "77RfbL6IeSBh"
      },
      "outputs": [],
      "source": [
        "all_dags_and_conversion_data = (\n",
        "    packed_edit_dags_and_conversion_data +\n",
        "    [packed_constraint_dag_and_conversion_data]\n",
        ")"
      ]
    },
    {
      "cell_type": "code",
      "execution_count": null,
      "metadata": {
        "id": "Dh0QpvBK3fPj"
      },
      "outputs": [],
      "source": [
        "system = consistent_path_dual_solver.make_system(all_dags_and_conversion_data)"
      ]
    },
    {
      "cell_type": "markdown",
      "metadata": {
        "id": "atOUL4x0iZ3X"
      },
      "source": [
        "Dual decomposition then updates these penalties one at a time to increase agreement between the subproblems. Although most of the progress is made in the first sweep, combining complex programs may require multiple passes to fully optimize the bound."
      ]
    },
    {
      "cell_type": "code",
      "execution_count": null,
      "metadata": {
        "id": "YeG1ravOikri"
      },
      "outputs": [],
      "source": [
        "opt_results = consistent_path_dual_solver.solve_system_with_sweeps(system.data)"
      ]
    },
    {
      "cell_type": "code",
      "execution_count": null,
      "metadata": {
        "id": "RPy9a8jd5CzQ"
      },
      "outputs": [],
      "source": [
        "(assignment_vector, cost_of_assignment) = consistent_path_dual_solver.greedy_extract(\n",
        "    system.data,\n",
        "    consistent_path_dual_solver.SweepDirection.FORWARD)\n",
        "\n",
        "assignment = consistent_path_dual_solver.assignments_from_assignment_vector(\n",
        "    system, assignment_vector)"
      ]
    },
    {
      "cell_type": "code",
      "execution_count": null,
      "metadata": {
        "id": "OewUzWEGk7q0"
      },
      "outputs": [],
      "source": [
        "_, axs = plt.subplots(1, 3, figsize=(15, 5))\n",
        "\n",
        "# Invert costs to show utilities.\n",
        "axs[0].plot(\n",
        "    np.arange(opt_results.objective_at_step.shape[0]),\n",
        "    opt_results.objective_at_step,\n",
        ")\n",
        "axs[0].set_xlabel(\"Solver iteration\")\n",
        "axs[0].set_ylabel(\"Dual bound\")\n",
        "\n",
        "axs[1].plot(opt_results.variable_at_step, opt_results.objective_at_step)\n",
        "axs[1].set_xlabel(\"Index of updated variable\")\n",
        "axs[1].set_ylabel(\"Dual bound\")\n",
        "\n",
        "axs[2].plot(opt_results.time_at_sweep, opt_results.objective_at_sweep)\n",
        "axs[2].set_xlabel(\"Wall clock time (seconds)\")\n",
        "axs[2].set_ylabel(\"Dual bound\")\n",
        "\n",
        "axs[0].axhline(y=cost_of_assignment, color=\"gray\", dashes=[1, 1])\n",
        "axs[1].axhline(y=cost_of_assignment, color=\"gray\", dashes=[1, 1])\n",
        "axs[2].axhline(y=cost_of_assignment, color=\"gray\", dashes=[1, 1])\n",
        "\n",
        "plt.tight_layout()"
      ]
    },
    {
      "cell_type": "markdown",
      "metadata": {
        "id": "9D0My-Hmk8Hu"
      },
      "source": [
        "## Extracting the solution"
      ]
    },
    {
      "cell_type": "markdown",
      "metadata": {
        "id": "IBmo0FtclB4U"
      },
      "source": [
        "Our solver outputs the solution as a mapping from decision keys to their respective values."
      ]
    },
    {
      "cell_type": "code",
      "execution_count": null,
      "metadata": {
        "id": "NXhmp2IxlBg3"
      },
      "outputs": [],
      "source": [
        "assignment"
      ]
    },
    {
      "cell_type": "markdown",
      "metadata": {
        "id": "5Z8QQof6lNNE"
      },
      "source": [
        "Passing this assignment mapping into our various rendering helper functions allows us to reconstruct the actual suggestion. Here, the chosen solution has two uncertainty regions and also is truncated before a disagreement point."
      ]
    },
    {
      "cell_type": "code",
      "execution_count": null,
      "metadata": {
        "id": "Ox06of7SlRvr"
      },
      "outputs": [],
      "source": [
        "display.HTML(region_decisions.render_regions_to_html(\n",
        "    prototype=packed_prototype,\n",
        "    assignments=assignment\n",
        "))"
      ]
    },
    {
      "cell_type": "code",
      "execution_count": null,
      "metadata": {
        "id": "Cj3xOY9zlSZ_"
      },
      "outputs": [],
      "source": [
        "for i, (target, (packed_edit_dag, conversion_data)) in enumerate(\n",
        "    zip(packed_targets, packed_edit_dags_and_conversion_data)\n",
        "):\n",
        "  path, _ = packed_dags.constrained_best_path(\n",
        "      packed_edit_dag, conversion_data,\n",
        "      constraints=assignment\n",
        "  )\n",
        "  print(f\"==== Target {i} ====\")\n",
        "  display.display(display.HTML(edit_dags.extract_edit_sequence_html(\n",
        "      path,\n",
        "      prototype=packed_prototype,\n",
        "      target=target,\n",
        "      prefix=example_programs[0][:cursor_position],\n",
        "  )))\n",
        "  # ፠ denotes the start of an edit, which corresponds to the\n",
        "  # high_confidence_start_editing_cost and\n",
        "  # low_confidence_start_editing_cost in the utility configuration."
      ]
    },
    {
      "cell_type": "markdown",
      "metadata": {
        "id": "cjpHqPZWlSm5"
      },
      "source": [
        "## Comparing to ground truth"
      ]
    },
    {
      "cell_type": "markdown",
      "metadata": {
        "id": "w_uE0SnVlVNj"
      },
      "source": [
        "When we know the ground truth target state (e.g. from our test set), we can use similar machinery to score our suggestion.\n",
        "\n",
        "As before, we convert the ground truth target into a packed tree representation, as if it was a target."
      ]
    },
    {
      "cell_type": "code",
      "execution_count": null,
      "metadata": {
        "id": "BJCD3NDAlU0i"
      },
      "outputs": [],
      "source": [
        "example_ground_truth = textwrap.dedent(\n",
        "    \"\"\"\\\n",
        "    print(\"hello world\")\n",
        "    def my_function_from_ground_truth(x, y):\n",
        "      if x or y:\n",
        "        print(x + y)\n",
        "    \"\"\"\n",
        ")"
      ]
    },
    {
      "cell_type": "code",
      "execution_count": null,
      "metadata": {
        "id": "8w7uCC1lCf2N"
      },
      "outputs": [],
      "source": [
        "ground_truth_parsed = transforms.truncate_prefix_at_offset(\n",
        "    parser_helper.parse_to_nodes(example_ground_truth),\n",
        "    cursor_position)\n",
        "packed_ground_truth = parser_tools.pack_sequence_from_pseudoparser(\n",
        "    ground_truth_parsed, with_numba=True)"
      ]
    },
    {
      "cell_type": "markdown",
      "metadata": {
        "id": "uGlRs_u_lgc-"
      },
      "source": [
        "We construct the edit DAG, which allows us to compute the edit distance between the suggestion and the ground truth."
      ]
    },
    {
      "cell_type": "code",
      "execution_count": null,
      "metadata": {
        "id": "-YE-bbEalwW8"
      },
      "outputs": [],
      "source": [
        "dag, render_data = construct_edit_dag(prototype=packed_prototype, target=packed_ground_truth)"
      ]
    },
    {
      "cell_type": "code",
      "execution_count": null,
      "metadata": {
        "id": "rcyNCnaSC0U6"
      },
      "outputs": [],
      "source": [
        "reachable_dag = gated_state_dag.prune_to_reachable_jit(dag)\n",
        "packed_dag, conversion_data = pack_edit_dag(reachable_dag)"
      ]
    },
    {
      "cell_type": "markdown",
      "metadata": {
        "id": "uANGagtOlwqF"
      },
      "source": [
        "Now we can find the shortest path in this DAG, but constrain it to be consistent with the assignment we computed already. This tells us the edit distance between the specific optimized suggestion and the true intent."
      ]
    },
    {
      "cell_type": "code",
      "execution_count": null,
      "metadata": {
        "id": "TYpPQUWol6zA"
      },
      "outputs": [],
      "source": [
        "path, _ = packed_dags.constrained_best_path(\n",
        "    packed_dag, conversion_data,\n",
        "    constraints=assignment\n",
        ")"
      ]
    },
    {
      "cell_type": "code",
      "execution_count": null,
      "metadata": {
        "id": "2zcHmrokD51-"
      },
      "outputs": [],
      "source": [
        "print(sum(edge.cost for edge in path))"
      ]
    },
    {
      "cell_type": "markdown",
      "metadata": {
        "id": "gXSKZ4hNJSUm"
      },
      "source": [
        "We can visualize the inferred edit sequence, and compute various metrics."
      ]
    },
    {
      "cell_type": "code",
      "execution_count": null,
      "metadata": {
        "id": "ByJtuciVHT_0"
      },
      "outputs": [],
      "source": [
        "display.display(display.HTML(edit_dags.extract_edit_sequence_html(\n",
        "    path,\n",
        "    prototype=packed_prototype,\n",
        "    target=packed_ground_truth,\n",
        "    prefix=example_programs[0][:cursor_position],\n",
        ")))"
      ]
    },
    {
      "cell_type": "code",
      "execution_count": null,
      "metadata": {
        "id": "8InKZTcQl_IG"
      },
      "outputs": [],
      "source": [
        "edit_dags.extract_edit_summary_metrics(\n",
        "    path=path, prototype=packed_prototype, target=packed_ground_truth\n",
        ")"
      ]
    },
    {
      "cell_type": "code",
      "execution_count": null,
      "metadata": {
        "id": "rZfmPYd9JOnf"
      },
      "outputs": [],
      "source": []
    }
  ],
  "metadata": {
    "colab": {
      "private_outputs": true,
      "provenance": []
    },
    "kernelspec": {
      "display_name": "Python 3",
      "name": "python3"
    },
    "language_info": {
      "name": "python"
    }
  },
  "nbformat": 4,
  "nbformat_minor": 0
}
