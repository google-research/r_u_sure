{
 "cells": [
  {
   "cell_type": "markdown",
   "metadata": {
    "id": "view-in-github"
   },
   "source": [
    "[![Open In Colab](https://colab.research.google.com/assets/colab-badge.svg)](https://colab.research.google.com/github/google-research/r_u_sure/blob/main/r_u_sure/notebooks/R_U_SURE_Demo.ipynb)"
   ]
  },
  {
   "cell_type": "markdown",
   "metadata": {
    "id": "JndnmDMp66FL"
   },
   "source": [
    "##### Copyright 2023 Google LLC.\n",
    "\n",
    "Licensed under the Apache License, Version 2.0 (the \"License\");"
   ]
  },
  {
   "cell_type": "code",
   "execution_count": 0,
   "metadata": {
    "id": "hMqWDc_m6rUC"
   },
   "outputs": [],
   "source": [
    "# Licensed under the Apache License, Version 2.0 (the \"License\");\n",
    "# you may not use this file except in compliance with the License.\n",
    "# You may obtain a copy of the License at\n",
    "#\n",
    "# https://www.apache.org/licenses/LICENSE-2.0\n",
    "#\n",
    "# Unless required by applicable law or agreed to in writing, software\n",
    "# distributed under the License is distributed on an \"AS IS\" BASIS,\n",
    "# WITHOUT WARRANTIES OR CONDITIONS OF ANY KIND, either express or implied.\n",
    "# See the License for the specific language governing permissions and\n",
    "# limitations under the License."
   ]
  },
  {
   "cell_type": "markdown",
   "metadata": {
    "id": "4LorQSEhzlcm"
   },
   "source": [
    "# R-U-SURE Demo"
   ]
  },
  {
   "cell_type": "markdown",
   "metadata": {
    "id": "PnRgJ_hGzrB4"
   },
   "source": [
    "This notebook demonstrates how to use R-U-SURE to combine multiple code suggestions from a generative model of code."
   ]
  },
  {
   "cell_type": "markdown",
   "metadata": {
    "id": "6OVK5uQuzwy6"
   },
   "source": [
    "## Setup"
   ]
  },
  {
   "cell_type": "markdown",
   "metadata": {
    "id": "1F9Ra5mJ9Eg-"
   },
   "source": [
    "### Installation"
   ]
  },
  {
   "cell_type": "markdown",
   "metadata": {
    "id": "kqOBHS9-z5g_"
   },
   "source": [
    "To run this notebook, you need a Python environment with `r_u_sure` installed. \n",
    "\n",
    "If you are running this from Colab, you can install it by running the following command:"
   ]
  },
  {
   "cell_type": "code",
   "execution_count": 0,
   "metadata": {
    "id": "7N0vnG7suL-m"
   },
   "outputs": [],
   "source": [
    "try:\n",
    "  import r_u_sure\n",
    "except ImportError:\n",
    "  try:\n",
    "    import google.colab\n",
    "    in_colab = True\n",
    "  except ImportError:\n",
    "    in_colab = False\n",
    "  \n",
    "  if in_colab:\n",
    "    print(\"Installing r_u_sure from GitHub...\")\n",
    "    %env NUMBA_DISABLE_TBB=1\n",
    "    %env NUMBA_DISABLE_OPENMP=1\n",
    "    !pip install \"r_u_sure @ git+https://github.com/google-research/r_u_sure\"\n",
    "  else:\n",
    "    # Don't install in this case, to avoid messing up the python environment.\n",
    "    print(\"WARNING: Not running in Colab and r_u_sure not found. \"\n",
    "          \"Please install r_u_sure following the instructions in the README.\")\n",
    "    raise"
   ]
  },
  {
   "cell_type": "markdown",
   "metadata": {
    "id": "1bzZUo248iHL"
   },
   "source": [
    "### Imports"
   ]
  },
  {
   "cell_type": "code",
   "execution_count": 0,
   "metadata": {
    "id": "F6WVQ02g3BP-"
   },
   "outputs": [],
   "source": [
    "import numpy as np\n",
    "from IPython import display\n",
    "\n",
    "%matplotlib inline\n",
    "\n",
    "from r_u_sure.notebooks import demo_examples\n",
    "from r_u_sure.wrappers import demo_runner\n",
    "\n",
    "from r_u_sure.wrappers import uncertainty_regions_wrapper\n",
    "from r_u_sure.wrappers import prefix_truncation_wrapper\n",
    "from r_u_sure.wrappers import call_sequence_wrapper"
   ]
  },
  {
   "cell_type": "markdown",
   "metadata": {
    "id": "uU0RnbRB8mxm"
   },
   "source": [
    "## Combining model samples"
   ]
  },
  {
   "cell_type": "markdown",
   "metadata": {
    "id": "66cZ3gAZ9G76"
   },
   "source": [
    "The first step is to configure the R-U-SURE system for the task you want to accomplish. There are three task wrappers that make it easy to run in the three configurations described in the paper:\n",
    "\n",
    "- `UncertaintyRegionsWrapper` (denoted  R-U-SURE (Region) in our research paper) inserts UNSURE annotations around code that is likely to differ between the suggestion prototype and the user intent.\n",
    "- `PrefixByEditDistanceWrapper` (denoted  R-U-SURE (Prefix) and R-U-SURE (Prefix+Region) in our research paper) chooses a truncation point to remove parts of the suggestion that are too uncertain, and can optionally also insert UNSURE annotations in the remaining suggestion.\n",
    "- `ApiCallSequenceWrapper` (denoted  R-U-SURE (API) in our research paper) preprocesses the code suggestions to extract function and method calls, and then annotates the most-likely subset of those calls (and possibly their arguments and assigned variable names) as SURE.\n",
    "\n",
    "For interactive use, we provide a `DemoRunner` class that makes it easier to use each of these wrappers."
   ]
  },
  {
   "cell_type": "code",
   "execution_count": 0,
   "metadata": {
    "id": "9gIqV2yE8lJC"
   },
   "outputs": [],
   "source": [
    "# Building the decision diagrams with numba is faster after JIT compilation,\n",
    "# but has a slower startup time.\n",
    "use_numba = False\n",
    "\n",
    "# Try uncommenting a different wrapper to apply the approach to a\n",
    "# different task.\n",
    "\n",
    "# Put an UNSURE region around parts with less than 70% chance of being kept,\n",
    "# and also truncate suggestion once the majority of the remaining suggestion is\n",
    "# likely to be deleted.\n",
    "# This demonstrates many of the features of R-U-SURE at once.\n",
    "wrapper = prefix_truncation_wrapper.PrefixByEditDistanceWrapper(\n",
    "    use_numba=use_numba,\n",
    "    also_insert_uncertainty_regions=True,\n",
    "    uncertainty_region_effective_precision=0.7,\n",
    "    start_editing_cost=5.0,\n",
    ")\n",
    "\n",
    "# Put an UNSURE region around parts with less than 70% chance of being kept.\n",
    "# Don't truncate.\n",
    "# This corresponds to the task in Section 5.1 of our paper.\n",
    "# wrapper = uncertainty_regions_wrapper.UncertaintyRegionsWrapper(\n",
    "#     effective_precision=0.7,\n",
    "#     use_numba=use_numba,\n",
    "# )\n",
    "\n",
    "# Truncate suggestion once the majority of the remaining suggestion is likely to\n",
    "# be deleted. Don't insert uncertain regions.\n",
    "# This corresponds to the task in Section 5.2 of our paper.\n",
    "# wrapper = prefix_truncation_wrapper.PrefixByEditDistanceWrapper(\n",
    "#     use_numba=use_numba\n",
    "# )\n",
    "\n",
    "# Extract likely function and API calls from the suggestions.\n",
    "# This corresponds to the task in Section 5.3 of our paper.\n",
    "# wrapper = call_sequence_wrapper.ApiCallSequenceWrapper(use_numba=use_numba)"
   ]
  },
  {
   "cell_type": "code",
   "execution_count": 0,
   "metadata": {
    "id": "yyFsjioVgsBd"
   },
   "outputs": [],
   "source": [
    "# We support python, cpp, java, and javascript. You can also use \"simple\" to\n",
    "# just perform simple bracket matching.\n",
    "runner = demo_runner.DemoRunner(wrapper, language=\"python\")"
   ]
  },
  {
   "cell_type": "markdown",
   "metadata": {
    "id": "IUkHQBd7_tO0"
   },
   "source": [
    "The next step is to collect:\n",
    "- the context, represented as the contents of a file up until a particular cursor position,\n",
    "- a set of model suggestions returned by a generative model of code, conditioned on the context. It should be possible to concatenate each of these suggestions to the context to obtain a valid continuation of the context. *(Note: Our parser is error-tolerant, so it's OK if the model suggestions end in the middle of an expression or statement. However, it is assumed that the **first part** of each suggestion is parseable when concatenated with the context.)*\n",
    "\n",
    "For this demo, we've collected a few contexts with the corresponding outputs of a code generative model. You can also insert outputs of any other generative model here, or add logic to query a generative model through an API."
   ]
  },
  {
   "cell_type": "code",
   "execution_count": 0,
   "metadata": {
    "id": "PIT0OLUC_wBo",
    "outputId": "3143073f-921c-4718-ee56-7865cadbc146"
   },
   "outputs": [
    {
     "name": "stdout",
     "output_type": "stream",
     "text": [
      "['token_conf_json', 'sqlite_matplotlib', 'mbpp_24', 'mbpp_61', 'jax_optax']\n"
     ]
    }
   ],
   "source": [
    "print(list(demo_examples.MODEL_OUTPUTS.keys()))"
   ]
  },
  {
   "cell_type": "code",
   "execution_count": 0,
   "metadata": {
    "id": "cENQtX57hT5J"
   },
   "outputs": [],
   "source": [
    "demo_example_key = \"mbpp_61\"\n",
    "context, model_samples = demo_examples.get_context_and_sources(demo_example_key)"
   ]
  },
  {
   "cell_type": "code",
   "execution_count": 0,
   "metadata": {
    "id": "w9-Eg7SMDsFK",
    "outputId": "3b92f145-2081-4920-bb05-069ec7436765"
   },
   "outputs": [
    {
     "name": "stdout",
     "output_type": "stream",
     "text": [
      "================================================================================\n",
      "context\n",
      "================================================================================\n",
      "\n",
      "# Write a python function to count number of substrings with the sum of digits equal to their length.\n",
      "\n",
      "from collections import defaultdict\n",
      "def count_Substrings(s,n):\n",
      "    count,sum = 0,0\n",
      "    mp = defaultdict(lambda : 0)\n",
      "    mp[0] += 1\n",
      "================================================================================\n",
      "sample 0\n",
      "================================================================================\n",
      "\n",
      "    for i in range(0,n):\n",
      "        sum += s[i]\n",
      "        count += mp[sum]\n",
      "        mp[sum] += 1\n",
      "    return count\n",
      "\n",
      "print(count_Substrings(\"abc\",4))\n",
      "\n",
      "================================================================================\n",
      "sample 1\n",
      "================================================================================\n",
      "\n",
      "    for i in range(n):\n",
      "        sum += s[i]\n",
      "        mp[sum] += 1\n",
      "        count += mp[sum]\n",
      "    return count\n",
      "\n"
     ]
    }
   ],
   "source": [
    "print(\"=\" * 80 + \"\\ncontext\\n\" + \"=\" * 80)\n",
    "print(context)\n",
    "print(\"=\" * 80 + \"\\nsample 0\\n\" + \"=\" * 80)\n",
    "print(model_samples[0])\n",
    "print(\"=\" * 80 + \"\\nsample 1\\n\" + \"=\" * 80)\n",
    "print(model_samples[1])"
   ]
  },
  {
   "cell_type": "markdown",
   "metadata": {
    "id": "SrXLnK-OBJMe"
   },
   "source": [
    "Now we can pass these inputs to the selected task wrapper and use it to generate a suggestion. By default, our demo runner uses the *first* sample as the suggestion prototype; the suggestion will always be derived from this first sample. (This can be customized using the `prototype_index` argument.)\n",
    "\n",
    "For interactive use, you may want to only process a subset of the samples, since building the decision diagrams for additional samples leads to longer runtime. (There will also be some warm-up time for the first call, as the relevant functions are jit-compiled.)"
   ]
  },
  {
   "cell_type": "code",
   "execution_count": 0,
   "metadata": {
    "id": "yl_7FpYlBO8X"
   },
   "outputs": [],
   "source": [
    "max_num_samples = 8\n",
    "\n",
    "combine_result = runner.combine(\n",
    "    context=context,\n",
    "    samples=model_samples[:max_num_samples],\n",
    "    prototype_index=0,\n",
    ")"
   ]
  },
  {
   "cell_type": "code",
   "execution_count": 0,
   "metadata": {
    "colab": {
     "height": 277
    },
    "id": "e-40Wlc4iabz",
    "outputId": "cb87eeb7-b95f-47ec-f378-6eb61b9af771"
   },
   "outputs": [
    {
     "data": {
      "text/html": [
       "<span style=\"white-space: pre; font-family: monospace; color: #72A0C1;\">\n",
       "# Write a python function to count number of substrings with the sum of digits equal to their length.\n",
       "\n",
       "from collections import defaultdict\n",
       "def count_Substrings(s,n):\n",
       "    count,sum = 0,0\n",
       "    mp = defaultdict(lambda : 0)\n",
       "    mp[0] += 1</span><style>\n",
       "        .regions_root {\n",
       "            white-space: pre;\n",
       "            font-family: monospace;\n",
       "            color: black;\n",
       "            font-weight: bold;\n",
       "        }\n",
       "        .regions_root .in_region {\n",
       "            color: darkorange;\n",
       "            border: solid 1px orange;\n",
       "            border-radius: 3px;\n",
       "            background-color: yellow;\n",
       "        }\n",
       "      </style><span class=\"regions_root\">\n",
       "<span class=\"in_region\">︙</span>    for i in range(<span class=\"in_region\">0,n</span>):\n",
       "        sum += <span class=\"in_region\">s[i]\n",
       "        count += mp[sum]\n",
       "</span>        mp[sum] += 1<span class=\"in_region\">︙</span>\n",
       "    return count\n",
       "\n",
       "<span class=\"in_region\">print(count_Substrings(</span></span><br>"
      ],
      "text/plain": [
       "<IPython.core.display.HTML object>"
      ]
     },
     "metadata": {},
     "output_type": "display_data"
    }
   ],
   "source": [
    "runner.show_suggestion(combine_result)"
   ]
  },
  {
   "cell_type": "markdown",
   "metadata": {
    "id": "wUCYqtiwBPXQ"
   },
   "source": [
    "The output above is the formatted version of the suggestion, and the \"︙\" token represents a location that code might need to be inserted (a length-zero UNSURE region).\n",
    "\n",
    "We can also extract the suggestion as a list of tagged substrings of the form `(substring, is_unsure)`:"
   ]
  },
  {
   "cell_type": "code",
   "execution_count": 0,
   "metadata": {
    "id": "JphBlhgyBanJ",
    "outputId": "298ef0fc-72c6-4f50-f381-c1dff2328547"
   },
   "outputs": [
    {
     "data": {
      "text/plain": [
       "[('\\n', False),\n",
       " ('', True),\n",
       " ('    for i in range(', False),\n",
       " ('0,n', True),\n",
       " ('):\\n        sum += ', False),\n",
       " ('s[i]\\n        count += mp[sum]\\n', True),\n",
       " ('        mp[sum] += 1', False),\n",
       " ('', True),\n",
       " ('\\n    return count\\n\\n', False),\n",
       " ('print(count_Substrings(', True)]"
      ]
     },
     "execution_count": 0,
     "metadata": {},
     "output_type": "execute_result"
    }
   ],
   "source": [
    "runner.get_extracted_parts(combine_result)"
   ]
  },
  {
   "cell_type": "markdown",
   "metadata": {
    "id": "SZqGL6rmB8a2"
   },
   "source": [
    "And, for each model sample, we can visualize the inferred edits between the suggestion and that sample. (Note: Whitespace is ignored when computing edits, so the formatting below may not be correct. Also, ፠ denotes the start of an inferred edit, which is used to handle localization penalties and track insertions.)"
   ]
  },
  {
   "cell_type": "code",
   "execution_count": 0,
   "metadata": {
    "colab": {
     "height": 1000
    },
    "id": "4Os8VvaECNTC",
    "outputId": "3686b3fe-e2ce-4e4e-8d70-0d782f8820d8"
   },
   "outputs": [
    {
     "data": {
      "text/html": [
       "========== Target 0 ==========<br><span style=\"white-space: pre; font-family: monospace;\">\n",
       "# Write a python function to count number of substrings with the sum of digits equal to their length.\n",
       "\n",
       "from collections import defaultdict\n",
       "def count_Substrings(s,n):\n",
       "    count,sum = 0,0\n",
       "    mp = defaultdict(lambda : 0)\n",
       "    mp[0] += 1</span><style>\n",
       ".edit_sequence_root {\n",
       "    white-space: pre;\n",
       "    font-family: monospace;\n",
       "}\n",
       ".edit_sequence_root .prefix {\n",
       "    font-weight: bold;\n",
       "    color: black;\n",
       "}\n",
       ".edit_sequence_root .high_confidence,\n",
       ".edit_sequence_root .insert.was_high_confidence{\n",
       "    font-weight: normal;\n",
       "}\n",
       ".edit_sequence_root .low_confidence,\n",
       ".edit_sequence_root .insert.was_low_confidence {\n",
       "    font-weight: normal;\n",
       "    background-color: #ffcc99;\n",
       "}\n",
       ".edit_sequence_root .keep {\n",
       "    color: black;\n",
       "}\n",
       ".edit_sequence_root .delete {\n",
       "    color: darkred;\n",
       "    text-decoration: line-through;\n",
       "}\n",
       ".edit_sequence_root .insert {\n",
       "    color: darkgreen;\n",
       "    text-decoration: underline;\n",
       "    font-weight: normal;\n",
       "}\n",
       ".edit_sequence_root .start_editing {\n",
       "    color: red;\n",
       "    font-weight: bold;\n",
       "}\n",
       "</style><span class=\"edit_sequence_root\"><span class=\"prefix\"></span><span class=\"keep high_confidence\">\n",
       "</span><span class=\"keep high_confidence\">    for i in range(</span><span class=\"keep low_confidence\">0,n</span><span class=\"keep high_confidence\">):\n",
       "        sum += </span><span class=\"keep low_confidence\">s[i]\n",
       "</span><span class=\"keep low_confidence\">        count += mp[sum]\n",
       "</span><span class=\"keep high_confidence\">        mp[sum] += 1</span><span class=\"keep high_confidence\">\n",
       "    return count\n",
       "\n",
       "</span><span class=\"keep low_confidence\">print(count_Substrings(</span></span><br>========== Target 1 ==========<br><span style=\"white-space: pre; font-family: monospace;\">\n",
       "# Write a python function to count number of substrings with the sum of digits equal to their length.\n",
       "\n",
       "from collections import defaultdict\n",
       "def count_Substrings(s,n):\n",
       "    count,sum = 0,0\n",
       "    mp = defaultdict(lambda : 0)\n",
       "    mp[0] += 1</span><style>\n",
       ".edit_sequence_root {\n",
       "    white-space: pre;\n",
       "    font-family: monospace;\n",
       "}\n",
       ".edit_sequence_root .prefix {\n",
       "    font-weight: bold;\n",
       "    color: black;\n",
       "}\n",
       ".edit_sequence_root .high_confidence,\n",
       ".edit_sequence_root .insert.was_high_confidence{\n",
       "    font-weight: normal;\n",
       "}\n",
       ".edit_sequence_root .low_confidence,\n",
       ".edit_sequence_root .insert.was_low_confidence {\n",
       "    font-weight: normal;\n",
       "    background-color: #ffcc99;\n",
       "}\n",
       ".edit_sequence_root .keep {\n",
       "    color: black;\n",
       "}\n",
       ".edit_sequence_root .delete {\n",
       "    color: darkred;\n",
       "    text-decoration: line-through;\n",
       "}\n",
       ".edit_sequence_root .insert {\n",
       "    color: darkgreen;\n",
       "    text-decoration: underline;\n",
       "    font-weight: normal;\n",
       "}\n",
       ".edit_sequence_root .start_editing {\n",
       "    color: red;\n",
       "    font-weight: bold;\n",
       "}\n",
       "</style><span class=\"edit_sequence_root\"><span class=\"prefix\"></span><span class=\"keep high_confidence\">\n",
       "</span><span class=\"keep high_confidence\">    for i in range(</span><span class=\"start_editing low_confidence\"></span><span class=\"delete low_confidence\">0,</span><span class=\"keep low_confidence\">n</span><span class=\"keep high_confidence\">):\n",
       "        sum += </span><span class=\"keep low_confidence\">s[i]\n",
       "</span><span class=\"start_editing low_confidence\"></span><span class=\"keep low_confidence\">        </span><span class=\"delete low_confidence\">count += mp[sum]\n",
       "</span><span class=\"delete high_confidence\">        </span><span class=\"insert was_high_confidence\">        </span><span class=\"keep high_confidence\">mp[sum] += 1</span><span class=\"start_editing low_confidence\"></span><span class=\"insert was_low_confidence\">count += mp[sum]</span><span class=\"keep high_confidence\">\n",
       "    return count\n",
       "\n",
       "</span><span class=\"start_editing low_confidence\"></span><span class=\"delete low_confidence\">print(count_Substrings(</span></span><br>========== Target 2 ==========<br><span style=\"white-space: pre; font-family: monospace;\">\n",
       "# Write a python function to count number of substrings with the sum of digits equal to their length.\n",
       "\n",
       "from collections import defaultdict\n",
       "def count_Substrings(s,n):\n",
       "    count,sum = 0,0\n",
       "    mp = defaultdict(lambda : 0)\n",
       "    mp[0] += 1</span><style>\n",
       ".edit_sequence_root {\n",
       "    white-space: pre;\n",
       "    font-family: monospace;\n",
       "}\n",
       ".edit_sequence_root .prefix {\n",
       "    font-weight: bold;\n",
       "    color: black;\n",
       "}\n",
       ".edit_sequence_root .high_confidence,\n",
       ".edit_sequence_root .insert.was_high_confidence{\n",
       "    font-weight: normal;\n",
       "}\n",
       ".edit_sequence_root .low_confidence,\n",
       ".edit_sequence_root .insert.was_low_confidence {\n",
       "    font-weight: normal;\n",
       "    background-color: #ffcc99;\n",
       "}\n",
       ".edit_sequence_root .keep {\n",
       "    color: black;\n",
       "}\n",
       ".edit_sequence_root .delete {\n",
       "    color: darkred;\n",
       "    text-decoration: line-through;\n",
       "}\n",
       ".edit_sequence_root .insert {\n",
       "    color: darkgreen;\n",
       "    text-decoration: underline;\n",
       "    font-weight: normal;\n",
       "}\n",
       ".edit_sequence_root .start_editing {\n",
       "    color: red;\n",
       "    font-weight: bold;\n",
       "}\n",
       "</style><span class=\"edit_sequence_root\"><span class=\"prefix\"></span><span class=\"keep high_confidence\">\n",
       "</span><span class=\"start_editing low_confidence\"></span><span class=\"keep high_confidence\">    for i in range(</span><span class=\"start_editing low_confidence\"></span><span class=\"delete low_confidence\">0,</span><span class=\"keep low_confidence\">n</span><span class=\"keep high_confidence\">):\n",
       "        sum += </span><span class=\"keep low_confidence\">s[i]\n",
       "</span><span class=\"start_editing low_confidence\"></span><span class=\"keep low_confidence\">        </span><span class=\"delete low_confidence\">count += mp[sum]\n",
       "</span><span class=\"insert was_low_confidence\">        \n",
       "        if sum == 0:\n",
       "            count += mp[0]\n",
       "        \n",
       "        if sum % n == 0:\n",
       "            count += mp[sum]\n",
       "        \n",
       "</span><span class=\"keep high_confidence\">        mp[sum] += 1</span><span class=\"start_editing low_confidence\"></span><span class=\"keep high_confidence\">\n",
       "    return count\n",
       "\n",
       "</span><span class=\"start_editing low_confidence\"></span><span class=\"insert was_low_confidence\">s = [1, 2, 3, 4, 5]\n",
       "n = 4\n",
       "</span><span class=\"keep low_confidence\">print(count_Substrings(</span></span><br>========== Target 3 ==========<br><span style=\"white-space: pre; font-family: monospace;\">\n",
       "# Write a python function to count number of substrings with the sum of digits equal to their length.\n",
       "\n",
       "from collections import defaultdict\n",
       "def count_Substrings(s,n):\n",
       "    count,sum = 0,0\n",
       "    mp = defaultdict(lambda : 0)\n",
       "    mp[0] += 1</span><style>\n",
       ".edit_sequence_root {\n",
       "    white-space: pre;\n",
       "    font-family: monospace;\n",
       "}\n",
       ".edit_sequence_root .prefix {\n",
       "    font-weight: bold;\n",
       "    color: black;\n",
       "}\n",
       ".edit_sequence_root .high_confidence,\n",
       ".edit_sequence_root .insert.was_high_confidence{\n",
       "    font-weight: normal;\n",
       "}\n",
       ".edit_sequence_root .low_confidence,\n",
       ".edit_sequence_root .insert.was_low_confidence {\n",
       "    font-weight: normal;\n",
       "    background-color: #ffcc99;\n",
       "}\n",
       ".edit_sequence_root .keep {\n",
       "    color: black;\n",
       "}\n",
       ".edit_sequence_root .delete {\n",
       "    color: darkred;\n",
       "    text-decoration: line-through;\n",
       "}\n",
       ".edit_sequence_root .insert {\n",
       "    color: darkgreen;\n",
       "    text-decoration: underline;\n",
       "    font-weight: normal;\n",
       "}\n",
       ".edit_sequence_root .start_editing {\n",
       "    color: red;\n",
       "    font-weight: bold;\n",
       "}\n",
       "</style><span class=\"edit_sequence_root\"><span class=\"prefix\"></span><span class=\"keep high_confidence\">\n",
       "</span><span class=\"keep high_confidence\">    for i in range(</span><span class=\"keep low_confidence\">0,n</span><span class=\"keep high_confidence\">):\n",
       "        sum += </span><span class=\"start_editing low_confidence\"></span><span class=\"delete low_confidence\">s[i]\n",
       "</span><span class=\"insert was_low_confidence\"> (ord(s[i])-96)\n",
       "</span><span class=\"start_editing low_confidence\"></span><span class=\"keep low_confidence\">        </span><span class=\"delete low_confidence\">count += mp[sum]\n",
       "</span><span class=\"delete high_confidence\">        </span><span class=\"insert was_high_confidence\">        </span><span class=\"keep high_confidence\">mp[sum] += 1</span><span class=\"start_editing low_confidence\"></span><span class=\"insert was_low_confidence\">for key in mp:\n",
       "            if key-(sum) in mp:\n",
       "                count += mp[key-(sum)]\n",
       "            if key-(sum) in mp and key-(sum) != 0:\n",
       "                mp[key] += mp[key-(sum)]</span><span class=\"keep high_confidence\">\n",
       "</span><span class=\"start_editing high_confidence\"></span><span class=\"keep high_confidence\">    </span><span class=\"delete high_confidence\">return count\n",
       "</span><span class=\"insert was_high_confidence\">    print(count)\n",
       "</span><span class=\"keep high_confidence\">\n",
       "</span><span class=\"start_editing low_confidence\"></span><span class=\"delete low_confidence\">print(count_Substrings(</span></span><br>========== Target 4 ==========<br><span style=\"white-space: pre; font-family: monospace;\">\n",
       "# Write a python function to count number of substrings with the sum of digits equal to their length.\n",
       "\n",
       "from collections import defaultdict\n",
       "def count_Substrings(s,n):\n",
       "    count,sum = 0,0\n",
       "    mp = defaultdict(lambda : 0)\n",
       "    mp[0] += 1</span><style>\n",
       ".edit_sequence_root {\n",
       "    white-space: pre;\n",
       "    font-family: monospace;\n",
       "}\n",
       ".edit_sequence_root .prefix {\n",
       "    font-weight: bold;\n",
       "    color: black;\n",
       "}\n",
       ".edit_sequence_root .high_confidence,\n",
       ".edit_sequence_root .insert.was_high_confidence{\n",
       "    font-weight: normal;\n",
       "}\n",
       ".edit_sequence_root .low_confidence,\n",
       ".edit_sequence_root .insert.was_low_confidence {\n",
       "    font-weight: normal;\n",
       "    background-color: #ffcc99;\n",
       "}\n",
       ".edit_sequence_root .keep {\n",
       "    color: black;\n",
       "}\n",
       ".edit_sequence_root .delete {\n",
       "    color: darkred;\n",
       "    text-decoration: line-through;\n",
       "}\n",
       ".edit_sequence_root .insert {\n",
       "    color: darkgreen;\n",
       "    text-decoration: underline;\n",
       "    font-weight: normal;\n",
       "}\n",
       ".edit_sequence_root .start_editing {\n",
       "    color: red;\n",
       "    font-weight: bold;\n",
       "}\n",
       "</style><span class=\"edit_sequence_root\"><span class=\"prefix\"></span><span class=\"keep high_confidence\">\n",
       "</span><span class=\"start_editing low_confidence\"></span><span class=\"insert was_low_confidence\">for i in range(n):\n",
       "        sum += s[i]\n",
       "</span><span class=\"keep high_confidence\">    for i in range(</span><span class=\"start_editing low_confidence\"></span><span class=\"delete low_confidence\">0,n</span><span class=\"insert was_low_confidence\">n,len(s)</span><span class=\"keep high_confidence\">):\n",
       "        sum += </span><span class=\"start_editing low_confidence\"></span><span class=\"delete low_confidence\">s[i]\n",
       "</span><span class=\"insert was_low_confidence\"> (s[i]-s[i-n])\n",
       "</span><span class=\"start_editing low_confidence\"></span><span class=\"keep low_confidence\">        </span><span class=\"delete low_confidence\">count += mp[sum]\n",
       "</span><span class=\"delete high_confidence\">        </span><span class=\"insert was_high_confidence\">        </span><span class=\"keep high_confidence\">mp[sum] += 1</span><span class=\"start_editing low_confidence\"></span><span class=\"insert was_low_confidence\">count += mp[sum-s[i-n]]\n",
       "        del mp[sum-s[i-n]]</span><span class=\"keep high_confidence\">\n",
       "    return count\n",
       "\n",
       "</span><span class=\"keep low_confidence\">print(count_Substrings(</span></span><br>========== Target 5 ==========<br><span style=\"white-space: pre; font-family: monospace;\">\n",
       "# Write a python function to count number of substrings with the sum of digits equal to their length.\n",
       "\n",
       "from collections import defaultdict\n",
       "def count_Substrings(s,n):\n",
       "    count,sum = 0,0\n",
       "    mp = defaultdict(lambda : 0)\n",
       "    mp[0] += 1</span><style>\n",
       ".edit_sequence_root {\n",
       "    white-space: pre;\n",
       "    font-family: monospace;\n",
       "}\n",
       ".edit_sequence_root .prefix {\n",
       "    font-weight: bold;\n",
       "    color: black;\n",
       "}\n",
       ".edit_sequence_root .high_confidence,\n",
       ".edit_sequence_root .insert.was_high_confidence{\n",
       "    font-weight: normal;\n",
       "}\n",
       ".edit_sequence_root .low_confidence,\n",
       ".edit_sequence_root .insert.was_low_confidence {\n",
       "    font-weight: normal;\n",
       "    background-color: #ffcc99;\n",
       "}\n",
       ".edit_sequence_root .keep {\n",
       "    color: black;\n",
       "}\n",
       ".edit_sequence_root .delete {\n",
       "    color: darkred;\n",
       "    text-decoration: line-through;\n",
       "}\n",
       ".edit_sequence_root .insert {\n",
       "    color: darkgreen;\n",
       "    text-decoration: underline;\n",
       "    font-weight: normal;\n",
       "}\n",
       ".edit_sequence_root .start_editing {\n",
       "    color: red;\n",
       "    font-weight: bold;\n",
       "}\n",
       "</style><span class=\"edit_sequence_root\"><span class=\"prefix\"></span><span class=\"keep high_confidence\">\n",
       "</span><span class=\"keep high_confidence\">    for i in range(</span><span class=\"start_editing low_confidence\"></span><span class=\"delete low_confidence\">0,</span><span class=\"keep low_confidence\">n</span><span class=\"keep high_confidence\">):\n",
       "        sum</span><span class=\"start_editing high_confidence\"></span><span class=\"keep high_confidence\"> </span><span class=\"delete high_confidence\">+= </span><span class=\"insert was_high_confidence\"> = (sum+s[i]-&#x27;0&#x27;)*10 + </span><span class=\"keep low_confidence\">s[i]</span><span class=\"start_editing low_confidence\"></span><span class=\"keep low_confidence\">\n",
       "</span><span class=\"insert was_low_confidence\">-&#x27;0&#x27;\n",
       "</span><span class=\"keep low_confidence\">        count</span><span class=\"start_editing low_confidence\"></span><span class=\"keep low_confidence\"> </span><span class=\"delete low_confidence\">+= </span><span class=\"insert was_low_confidence\"> = count + </span><span class=\"keep low_confidence\">mp[sum]\n",
       "</span><span class=\"keep high_confidence\">        mp[sum] += 1</span><span class=\"keep high_confidence\">\n",
       "    return count\n",
       "\n",
       "</span><span class=\"start_editing low_confidence\"></span><span class=\"delete low_confidence\">print(count_Substrings(</span></span><br>========== Target 6 ==========<br><span style=\"white-space: pre; font-family: monospace;\">\n",
       "# Write a python function to count number of substrings with the sum of digits equal to their length.\n",
       "\n",
       "from collections import defaultdict\n",
       "def count_Substrings(s,n):\n",
       "    count,sum = 0,0\n",
       "    mp = defaultdict(lambda : 0)\n",
       "    mp[0] += 1</span><style>\n",
       ".edit_sequence_root {\n",
       "    white-space: pre;\n",
       "    font-family: monospace;\n",
       "}\n",
       ".edit_sequence_root .prefix {\n",
       "    font-weight: bold;\n",
       "    color: black;\n",
       "}\n",
       ".edit_sequence_root .high_confidence,\n",
       ".edit_sequence_root .insert.was_high_confidence{\n",
       "    font-weight: normal;\n",
       "}\n",
       ".edit_sequence_root .low_confidence,\n",
       ".edit_sequence_root .insert.was_low_confidence {\n",
       "    font-weight: normal;\n",
       "    background-color: #ffcc99;\n",
       "}\n",
       ".edit_sequence_root .keep {\n",
       "    color: black;\n",
       "}\n",
       ".edit_sequence_root .delete {\n",
       "    color: darkred;\n",
       "    text-decoration: line-through;\n",
       "}\n",
       ".edit_sequence_root .insert {\n",
       "    color: darkgreen;\n",
       "    text-decoration: underline;\n",
       "    font-weight: normal;\n",
       "}\n",
       ".edit_sequence_root .start_editing {\n",
       "    color: red;\n",
       "    font-weight: bold;\n",
       "}\n",
       "</style><span class=\"edit_sequence_root\"><span class=\"prefix\"></span><span class=\"keep high_confidence\">\n",
       "</span><span class=\"start_editing low_confidence\"></span><span class=\"insert was_low_confidence\">for i in range(n):\n",
       "        sum += int(s[i])\n",
       "</span><span class=\"keep high_confidence\">    for i in range(</span><span class=\"start_editing low_confidence\"></span><span class=\"delete low_confidence\">0,n</span><span class=\"insert was_low_confidence\">n, len(s)</span><span class=\"keep high_confidence\">):\n",
       "        sum += </span><span class=\"start_editing low_confidence\"></span><span class=\"delete low_confidence\">s[i]\n",
       "</span><span class=\"insert was_low_confidence\"> int(s[i])\n",
       "</span><span class=\"start_editing low_confidence\"></span><span class=\"insert was_low_confidence\">        mp[sum] += 1\n",
       "</span><span class=\"keep low_confidence\">        count += mp[sum]\n",
       "</span><span class=\"start_editing low_confidence\"></span><span class=\"insert was_low_confidence\">sum -= int(s[i-n])\n",
       "</span><span class=\"keep high_confidence\">        mp[sum]</span><span class=\"start_editing high_confidence\"></span><span class=\"keep high_confidence\"> </span><span class=\"delete high_confidence\">+</span><span class=\"insert was_high_confidence\"> -</span><span class=\"keep high_confidence\">= 1</span><span class=\"keep high_confidence\">\n",
       "    return count\n",
       "\n",
       "</span><span class=\"keep low_confidence\">print(count_Substrings(</span></span><br>========== Target 7 ==========<br><span style=\"white-space: pre; font-family: monospace;\">\n",
       "# Write a python function to count number of substrings with the sum of digits equal to their length.\n",
       "\n",
       "from collections import defaultdict\n",
       "def count_Substrings(s,n):\n",
       "    count,sum = 0,0\n",
       "    mp = defaultdict(lambda : 0)\n",
       "    mp[0] += 1</span><style>\n",
       ".edit_sequence_root {\n",
       "    white-space: pre;\n",
       "    font-family: monospace;\n",
       "}\n",
       ".edit_sequence_root .prefix {\n",
       "    font-weight: bold;\n",
       "    color: black;\n",
       "}\n",
       ".edit_sequence_root .high_confidence,\n",
       ".edit_sequence_root .insert.was_high_confidence{\n",
       "    font-weight: normal;\n",
       "}\n",
       ".edit_sequence_root .low_confidence,\n",
       ".edit_sequence_root .insert.was_low_confidence {\n",
       "    font-weight: normal;\n",
       "    background-color: #ffcc99;\n",
       "}\n",
       ".edit_sequence_root .keep {\n",
       "    color: black;\n",
       "}\n",
       ".edit_sequence_root .delete {\n",
       "    color: darkred;\n",
       "    text-decoration: line-through;\n",
       "}\n",
       ".edit_sequence_root .insert {\n",
       "    color: darkgreen;\n",
       "    text-decoration: underline;\n",
       "    font-weight: normal;\n",
       "}\n",
       ".edit_sequence_root .start_editing {\n",
       "    color: red;\n",
       "    font-weight: bold;\n",
       "}\n",
       "</style><span class=\"edit_sequence_root\"><span class=\"prefix\"></span><span class=\"keep high_confidence\">\n",
       "</span><span class=\"start_editing low_confidence\"></span><span class=\"insert was_low_confidence\">for i in range(n):\n",
       "        sum += int(s[i])\n",
       "    print(mp)\n",
       "</span><span class=\"keep high_confidence\">    for i in range(</span><span class=\"start_editing low_confidence\"></span><span class=\"delete low_confidence\">0,n</span><span class=\"insert was_low_confidence\">n,len(s)</span><span class=\"keep high_confidence\">):\n",
       "        sum += </span><span class=\"start_editing low_confidence\"></span><span class=\"delete low_confidence\">s[i]\n",
       "</span><span class=\"insert was_low_confidence\"> int(s[i-n])\n",
       "</span><span class=\"start_editing low_confidence\"></span><span class=\"keep low_confidence\">        </span><span class=\"delete low_confidence\">count += mp[sum]\n",
       "</span><span class=\"insert was_low_confidence\">        sum -= int(s[i-n])\n",
       "</span><span class=\"keep high_confidence\">        mp[sum] += 1</span><span class=\"start_editing low_confidence\"></span><span class=\"insert was_low_confidence\">print(mp)\n",
       "        count += mp[sum]</span><span class=\"keep high_confidence\">\n",
       "    return count\n",
       "\n",
       "</span><span class=\"keep low_confidence\">print(count_Substrings(</span></span><br>"
      ],
      "text/plain": [
       "<IPython.core.display.HTML object>"
      ]
     },
     "metadata": {},
     "output_type": "display_data"
    }
   ],
   "source": [
    "runner.show_edits(combine_result)"
   ]
  },
  {
   "cell_type": "markdown",
   "metadata": {
    "id": "BR9iC5zOkcw0"
   },
   "source": [
    "We can similarly inspect the utility of our suggestion against each of the hypothetical user intents (the other samples)."
   ]
  },
  {
   "cell_type": "code",
   "execution_count": 0,
   "metadata": {
    "id": "3MVD7cyHkliz",
    "outputId": "413e30aa-d1ff-40ea-cbef-b5327f39ab37"
   },
   "outputs": [
    {
     "name": "stdout",
     "output_type": "stream",
     "text": [
      "Target 0: 66.3\n",
      "Target 1: 17.3\n",
      "Target 2: 37.8\n",
      "Target 3: -11.7\n",
      "Target 4: 32.8\n",
      "Target 5: 20.3\n",
      "Target 6: 39.8\n",
      "Target 7: 32.8\n"
     ]
    }
   ],
   "source": [
    "runner.show_utilities(combine_result)"
   ]
  },
  {
   "cell_type": "markdown",
   "metadata": {
    "id": "NuoM12MZBbA1"
   },
   "source": [
    "We can also inspect the convergence of the optimization algorithm. The dashed line represents the utility of the solution we found, averaged over all samples. The blue line shows convergence of the dual bound as we perform coordinate descent on each variable."
   ]
  },
  {
   "cell_type": "code",
   "execution_count": 0,
   "metadata": {
    "colab": {
     "height": 334
    },
    "id": "4MDh2gEDBzat",
    "outputId": "d41233a3-509d-4780-9a40-558ebb286a15"
   },
   "outputs": [
    {
     "data": {
      "image/png": "[encoded data removed]",
      "text/plain": [
       "<Figure size 1500x500 with 3 Axes>"
      ]
     },
     "metadata": {},
     "output_type": "display_data"
    }
   ],
   "source": [
    "runner.show_optimization_details(combine_result)"
   ]
  },
  {
   "cell_type": "markdown",
   "metadata": {
    "id": "fRC-lFLaB_QO"
   },
   "source": [
    "If desired, we can inspect the raw decision diagram vector assignments, which are what are produced by the combinatorial optimization solver. (This is a low level representation of the selected suggestion, and isn't intended to be particularly meaningful alone. For more details on what it means, see the notebook [`Utility_decision_diagrams_details.ipynb`](https://colab.research.google.com/github/google-research/r_u_sure/r_u_sure/notebooks/Utility_decision_diagrams_details.ipynb).)"
   ]
  },
  {
   "cell_type": "code",
   "execution_count": 0,
   "metadata": {
    "id": "pd7LFTamB-lM",
    "outputId": "d2c4c3bd-e0bc-46f8-ae1d-bf6ddc113d23"
   },
   "outputs": [
    {
     "data": {
      "text/plain": [
       "array([0, 0, 0, 0, 0, 0, 0, 2, 0, 2, 0, 2, 1, 1, 0, 0, 2, 0, 0, 2, 0, 0,\n",
       "       2, 0, 2, 0, 0, 2, 0, 2, 0, 0, 2, 0, 2, 0, 0, 2, 0, 2, 0, 0, 0, 0,\n",
       "       1, 0, 1, 0, 0, 2, 0, 1, 0, 0, 2, 0, 1, 0, 0, 2, 1, 0, 0, 0, 0, 2,\n",
       "       0, 2, 0, 2, 0, 0, 2, 0, 2, 0, 2, 0, 2, 0, 0, 2, 0, 0, 0, 0, 0, 2,\n",
       "       0, 0, 2, 0, 0, 2, 0, 2, 0, 0, 2, 0, 2, 0, 0, 2, 1, 0, 1, 0, 0, 2,\n",
       "       0, 1, 1, 0, 1, 2, 0, 1, 0, 0, 2, 0, 0, 1, 0, 2, 0, 0, 0, 2, 1, 0,\n",
       "       2, 1, 0, 1, 2, 0, 1, 0, 0, 2, 0, 1, 0, 0, 2, 0, 1, 0, 0, 2, 0, 1,\n",
       "       0, 0, 2, 0, 1, 1, 0, 1, 2, 0, 1, 0, 0, 2, 0, 0, 1, 0, 2, 0, 0, 0,\n",
       "       2, 0, 0, 0, 2, 1, 0, 0, 2, 0, 0, 2, 0, 2, 0, 0, 0, 0, 0, 2, 0, 0,\n",
       "       2, 0, 2, 0, 0, 0, 0, 2, 0, 2, 0, 2, 0, 0, 2, 0, 2, 0, 0, 2, 0, 2,\n",
       "       0, 0, 2, 0, 2, 0, 2, 1, 1, 0, 0, 0, 0, 2, 0, 2, 0, 2, 0, 2, 0, 2,\n",
       "       0, 2, 0, 2, 0, 0, 2, 0, 0, 2, 0, 2, 0, 0, 2, 0, 2, 0, 2, 0, 2, 0,\n",
       "       0, 0, 0, 2, 0, 2, 0, 2, 0, 2, 0, 2, 0, 2, 1, 0, 1, 2, 0, 1, 0, 0,\n",
       "       2, 0, 1, 1, 0, 1, 2, 0, 1, 0, 0, 2, 0, 1, 1, 1, 2, 2, 2, 2, 2, 2,\n",
       "       2, 2, 2, 2, 2, 2, 2, 2, 2, 2, 2, 2, 2, 2, 2, 2, 2, 2, 2, 2, 2, 2,\n",
       "       2, 2, 2, 2, 2, 2, 2, 2, 2, 2, 2, 2, 2, 2, 2, 2, 2, 2, 2, 2, 2, 2,\n",
       "       2, 2, 2, 2, 2, 2, 2, 2, 2, 2, 2])"
      ]
     },
     "execution_count": 0,
     "metadata": {},
     "output_type": "execute_result"
    }
   ],
   "source": [
    "# Raw assignment vector.\n",
    "combine_result.assignment_vector"
   ]
  },
  {
   "cell_type": "code",
   "execution_count": 0,
   "metadata": {
    "colab": {
     "height": 400
    },
    "id": "UTZFEZuSCFLl",
    "outputId": "6fb56e69-44e1-4843-afc1-599412759766"
   },
   "outputs": [
    {
     "data": {
      "application/javascript": [
       "google.colab.output.setIframeHeight(0, true, {maxHeight: 400})"
      ],
      "text/plain": [
       "<IPython.core.display.Javascript object>"
      ]
     },
     "metadata": {},
     "output_type": "display_data"
    },
    {
     "data": {
      "text/plain": [
       "{DecisionKey(prototype_preorder_index=0, category=<DecisionCategory.NODE_IN_REGION: 3>): <DecisionValue.FALSE: 1>,\n",
       " DecisionKey(prototype_preorder_index=1, category=<DecisionCategory.NODE_IN_REGION: 3>): <DecisionValue.FALSE: 1>,\n",
       " DecisionKey(prototype_preorder_index=2, category=<DecisionCategory.NODE_IN_REGION: 3>): <DecisionValue.FALSE: 1>,\n",
       " DecisionKey(prototype_preorder_index=3, category=<DecisionCategory.NODE_IN_REGION: 3>): <DecisionValue.FALSE: 1>,\n",
       " DecisionKey(prototype_preorder_index=4, category=<DecisionCategory.NODE_IN_REGION: 3>): <DecisionValue.FALSE: 1>,\n",
       " DecisionKey(prototype_preorder_index=5, category=<DecisionCategory.NODE_IN_REGION: 3>): <DecisionValue.FALSE: 1>,\n",
       " DecisionKey(prototype_preorder_index=6, category=<DecisionCategory.SHOULD_EARLY_EXIT: 4>): <DecisionValue.FALSE: 1>,\n",
       " DecisionKey(prototype_preorder_index=7, category=<DecisionCategory.REGION_SHOULD_END: 2>): <DecisionValue.NOT_APPLICABLE: 3>,\n",
       " DecisionKey(prototype_preorder_index=9, category=<DecisionCategory.REGION_SHOULD_START: 1>): <DecisionValue.FALSE: 1>,\n",
       " DecisionKey(prototype_preorder_index=10, category=<DecisionCategory.REGION_SHOULD_END: 2>): <DecisionValue.NOT_APPLICABLE: 3>,\n",
       " DecisionKey(prototype_preorder_index=11, category=<DecisionCategory.SHOULD_EARLY_EXIT: 4>): <DecisionValue.FALSE: 1>,\n",
       " DecisionKey(prototype_preorder_index=12, category=<DecisionCategory.REGION_SHOULD_END: 2>): <DecisionValue.NOT_APPLICABLE: 3>,\n",
       " DecisionKey(prototype_preorder_index=13, category=<DecisionCategory.REGION_SHOULD_START: 1>): <DecisionValue.TRUE: 2>,\n",
       " DecisionKey(prototype_preorder_index=14, category=<DecisionCategory.REGION_SHOULD_END: 2>): <DecisionValue.TRUE: 2>,\n",
       " DecisionKey(prototype_preorder_index=15, category=<DecisionCategory.NODE_IN_REGION: 3>): <DecisionValue.FALSE: 1>,\n",
       " DecisionKey(prototype_preorder_index=16, category=<DecisionCategory.REGION_SHOULD_START: 1>): <DecisionValue.FALSE: 1>,\n",
       " DecisionKey(prototype_preorder_index=17, category=<DecisionCategory.REGION_SHOULD_END: 2>): <DecisionValue.NOT_APPLICABLE: 3>,\n",
       " DecisionKey(prototype_preorder_index=18, category=<DecisionCategory.NODE_IN_REGION: 3>): <DecisionValue.FALSE: 1>,\n",
       " DecisionKey(prototype_preorder_index=20, category=<DecisionCategory.REGION_SHOULD_START: 1>): <DecisionValue.FALSE: 1>,\n",
       " DecisionKey(prototype_preorder_index=21, category=<DecisionCategory.REGION_SHOULD_END: 2>): <DecisionValue.NOT_APPLICABLE: 3>,\n",
       " DecisionKey(prototype_preorder_index=22, category=<DecisionCategory.NODE_IN_REGION: 3>): <DecisionValue.FALSE: 1>,\n",
       " DecisionKey(prototype_preorder_index=23, category=<DecisionCategory.SHOULD_EARLY_EXIT: 4>): <DecisionValue.FALSE: 1>,\n",
       " DecisionKey(prototype_preorder_index=24, category=<DecisionCategory.REGION_SHOULD_END: 2>): <DecisionValue.NOT_APPLICABLE: 3>,\n",
       " DecisionKey(prototype_preorder_index=26, category=<DecisionCategory.REGION_SHOULD_START: 1>): <DecisionValue.FALSE: 1>,\n",
       " DecisionKey(prototype_preorder_index=27, category=<DecisionCategory.REGION_SHOULD_END: 2>): <DecisionValue.NOT_APPLICABLE: 3>,\n",
       " DecisionKey(prototype_preorder_index=28, category=<DecisionCategory.NODE_IN_REGION: 3>): <DecisionValue.FALSE: 1>,\n",
       " DecisionKey(prototype_preorder_index=29, category=<DecisionCategory.SHOULD_EARLY_EXIT: 4>): <DecisionValue.FALSE: 1>,\n",
       " DecisionKey(prototype_preorder_index=30, category=<DecisionCategory.REGION_SHOULD_END: 2>): <DecisionValue.NOT_APPLICABLE: 3>,\n",
       " DecisionKey(prototype_preorder_index=32, category=<DecisionCategory.REGION_SHOULD_START: 1>): <DecisionValue.FALSE: 1>,\n",
       " DecisionKey(prototype_preorder_index=33, category=<DecisionCategory.REGION_SHOULD_END: 2>): <DecisionValue.NOT_APPLICABLE: 3>,\n",
       " DecisionKey(prototype_preorder_index=34, category=<DecisionCategory.NODE_IN_REGION: 3>): <DecisionValue.FALSE: 1>,\n",
       " DecisionKey(prototype_preorder_index=35, category=<DecisionCategory.SHOULD_EARLY_EXIT: 4>): <DecisionValue.FALSE: 1>,\n",
       " DecisionKey(prototype_preorder_index=36, category=<DecisionCategory.REGION_SHOULD_END: 2>): <DecisionValue.NOT_APPLICABLE: 3>,\n",
       " DecisionKey(prototype_preorder_index=38, category=<DecisionCategory.REGION_SHOULD_START: 1>): <DecisionValue.FALSE: 1>,\n",
       " DecisionKey(prototype_preorder_index=39, category=<DecisionCategory.REGION_SHOULD_END: 2>): <DecisionValue.NOT_APPLICABLE: 3>,\n",
       " DecisionKey(prototype_preorder_index=40, category=<DecisionCategory.NODE_IN_REGION: 3>): <DecisionValue.FALSE: 1>,\n",
       " DecisionKey(prototype_preorder_index=41, category=<DecisionCategory.SHOULD_EARLY_EXIT: 4>): <DecisionValue.FALSE: 1>,\n",
       " DecisionKey(prototype_preorder_index=42, category=<DecisionCategory.REGION_SHOULD_END: 2>): <DecisionValue.NOT_APPLICABLE: 3>,\n",
       " DecisionKey(prototype_preorder_index=43, category=<DecisionCategory.REGION_SHOULD_START: 1>): <DecisionValue.FALSE: 1>,\n",
       " DecisionKey(prototype_preorder_index=44, category=<DecisionCategory.REGION_SHOULD_END: 2>): <DecisionValue.NOT_APPLICABLE: 3>,\n",
       " DecisionKey(prototype_preorder_index=45, category=<DecisionCategory.NODE_IN_REGION: 3>): <DecisionValue.FALSE: 1>,\n",
       " DecisionKey(prototype_preorder_index=46, category=<DecisionCategory.NODE_IN_REGION: 3>): <DecisionValue.FALSE: 1>,\n",
       " DecisionKey(prototype_preorder_index=47, category=<DecisionCategory.SHOULD_EARLY_EXIT: 4>): <DecisionValue.FALSE: 1>,\n",
       " DecisionKey(prototype_preorder_index=48, category=<DecisionCategory.NODE_IN_REGION: 3>): <DecisionValue.FALSE: 1>,\n",
       " DecisionKey(prototype_preorder_index=49, category=<DecisionCategory.REGION_SHOULD_START: 1>): <DecisionValue.TRUE: 2>,\n",
       " DecisionKey(prototype_preorder_index=50, category=<DecisionCategory.REGION_SHOULD_END: 2>): <DecisionValue.FALSE: 1>,\n",
       " DecisionKey(prototype_preorder_index=51, category=<DecisionCategory.NODE_IN_REGION: 3>): <DecisionValue.TRUE: 2>,\n",
       " DecisionKey(prototype_preorder_index=52, category=<DecisionCategory.SHOULD_EARLY_EXIT: 4>): <DecisionValue.FALSE: 1>,\n",
       " DecisionKey(prototype_preorder_index=53, category=<DecisionCategory.REGION_SHOULD_END: 2>): <DecisionValue.FALSE: 1>,\n",
       " DecisionKey(prototype_preorder_index=54, category=<DecisionCategory.REGION_SHOULD_START: 1>): <DecisionValue.NOT_APPLICABLE: 3>,\n",
       " DecisionKey(prototype_preorder_index=55, category=<DecisionCategory.REGION_SHOULD_END: 2>): <DecisionValue.FALSE: 1>,\n",
       " DecisionKey(prototype_preorder_index=56, category=<DecisionCategory.NODE_IN_REGION: 3>): <DecisionValue.TRUE: 2>,\n",
       " DecisionKey(prototype_preorder_index=57, category=<DecisionCategory.SHOULD_EARLY_EXIT: 4>): <DecisionValue.FALSE: 1>,\n",
       " DecisionKey(prototype_preorder_index=58, category=<DecisionCategory.REGION_SHOULD_END: 2>): <DecisionValue.FALSE: 1>,\n",
       " DecisionKey(prototype_preorder_index=59, category=<DecisionCategory.REGION_SHOULD_START: 1>): <DecisionValue.NOT_APPLICABLE: 3>,\n",
       " DecisionKey(prototype_preorder_index=60, category=<DecisionCategory.REGION_SHOULD_END: 2>): <DecisionValue.FALSE: 1>,\n",
       " DecisionKey(prototype_preorder_index=61, category=<DecisionCategory.NODE_IN_REGION: 3>): <DecisionValue.TRUE: 2>,\n",
       " DecisionKey(prototype_preorder_index=62, category=<DecisionCategory.SHOULD_EARLY_EXIT: 4>): <DecisionValue.FALSE: 1>,\n",
       " DecisionKey(prototype_preorder_index=63, category=<DecisionCategory.REGION_SHOULD_END: 2>): <DecisionValue.FALSE: 1>,\n",
       " DecisionKey(prototype_preorder_index=64, category=<DecisionCategory.REGION_SHOULD_START: 1>): <DecisionValue.NOT_APPLICABLE: 3>,\n",
       " DecisionKey(prototype_preorder_index=65, category=<DecisionCategory.REGION_SHOULD_END: 2>): <DecisionValue.TRUE: 2>,\n",
       " DecisionKey(prototype_preorder_index=66, category=<DecisionCategory.SHOULD_EARLY_EXIT: 4>): <DecisionValue.FALSE: 1>,\n",
       " DecisionKey(prototype_preorder_index=67, category=<DecisionCategory.NODE_IN_REGION: 3>): <DecisionValue.FALSE: 1>,\n",
       " DecisionKey(prototype_preorder_index=68, category=<DecisionCategory.SHOULD_EARLY_EXIT: 4>): <DecisionValue.FALSE: 1>,\n",
       " DecisionKey(prototype_preorder_index=69, category=<DecisionCategory.REGION_SHOULD_START: 1>): <DecisionValue.FALSE: 1>,\n",
       " DecisionKey(prototype_preorder_index=70, category=<DecisionCategory.REGION_SHOULD_END: 2>): <DecisionValue.NOT_APPLICABLE: 3>,\n",
       " DecisionKey(prototype_preorder_index=71, category=<DecisionCategory.SHOULD_EARLY_EXIT: 4>): <DecisionValue.FALSE: 1>,\n",
       " DecisionKey(prototype_preorder_index=72, category=<DecisionCategory.REGION_SHOULD_END: 2>): <DecisionValue.NOT_APPLICABLE: 3>,\n",
       " DecisionKey(prototype_preorder_index=73, category=<DecisionCategory.REGION_SHOULD_START: 1>): <DecisionValue.FALSE: 1>,\n",
       " DecisionKey(prototype_preorder_index=74, category=<DecisionCategory.REGION_SHOULD_END: 2>): <DecisionValue.NOT_APPLICABLE: 3>,\n",
       " DecisionKey(prototype_preorder_index=75, category=<DecisionCategory.NODE_IN_REGION: 3>): <DecisionValue.FALSE: 1>,\n",
       " DecisionKey(prototype_preorder_index=76, category=<DecisionCategory.SHOULD_EARLY_EXIT: 4>): <DecisionValue.FALSE: 1>,\n",
       " DecisionKey(prototype_preorder_index=77, category=<DecisionCategory.REGION_SHOULD_END: 2>): <DecisionValue.NOT_APPLICABLE: 3>,\n",
       " DecisionKey(prototype_preorder_index=79, category=<DecisionCategory.REGION_SHOULD_START: 1>): <DecisionValue.FALSE: 1>,\n",
       " DecisionKey(prototype_preorder_index=80, category=<DecisionCategory.REGION_SHOULD_END: 2>): <DecisionValue.NOT_APPLICABLE: 3>,\n",
       " DecisionKey(prototype_preorder_index=81, category=<DecisionCategory.SHOULD_EARLY_EXIT: 4>): <DecisionValue.FALSE: 1>,\n",
       " DecisionKey(prototype_preorder_index=82, category=<DecisionCategory.REGION_SHOULD_END: 2>): <DecisionValue.NOT_APPLICABLE: 3>,\n",
       " DecisionKey(prototype_preorder_index=83, category=<DecisionCategory.REGION_SHOULD_START: 1>): <DecisionValue.FALSE: 1>,\n",
       " DecisionKey(prototype_preorder_index=84, category=<DecisionCategory.REGION_SHOULD_END: 2>): <DecisionValue.NOT_APPLICABLE: 3>,\n",
       " DecisionKey(prototype_preorder_index=85, category=<DecisionCategory.NODE_IN_REGION: 3>): <DecisionValue.FALSE: 1>,\n",
       " DecisionKey(prototype_preorder_index=86, category=<DecisionCategory.REGION_SHOULD_START: 1>): <DecisionValue.FALSE: 1>,\n",
       " DecisionKey(prototype_preorder_index=87, category=<DecisionCategory.REGION_SHOULD_END: 2>): <DecisionValue.NOT_APPLICABLE: 3>,\n",
       " DecisionKey(prototype_preorder_index=88, category=<DecisionCategory.NODE_IN_REGION: 3>): <DecisionValue.FALSE: 1>,\n",
       " DecisionKey(prototype_preorder_index=89, category=<DecisionCategory.NODE_IN_REGION: 3>): <DecisionValue.FALSE: 1>,\n",
       " DecisionKey(prototype_preorder_index=90, category=<DecisionCategory.SHOULD_EARLY_EXIT: 4>): <DecisionValue.FALSE: 1>,\n",
       " DecisionKey(prototype_preorder_index=91, category=<DecisionCategory.NODE_IN_REGION: 3>): <DecisionValue.FALSE: 1>,\n",
       " DecisionKey(prototype_preorder_index=92, category=<DecisionCategory.REGION_SHOULD_START: 1>): <DecisionValue.FALSE: 1>,\n",
       " DecisionKey(prototype_preorder_index=93, category=<DecisionCategory.REGION_SHOULD_END: 2>): <DecisionValue.NOT_APPLICABLE: 3>,\n",
       " DecisionKey(prototype_preorder_index=94, category=<DecisionCategory.NODE_IN_REGION: 3>): <DecisionValue.FALSE: 1>,\n",
       " DecisionKey(prototype_preorder_index=96, category=<DecisionCategory.REGION_SHOULD_START: 1>): <DecisionValue.FALSE: 1>,\n",
       " DecisionKey(prototype_preorder_index=97, category=<DecisionCategory.REGION_SHOULD_END: 2>): <DecisionValue.NOT_APPLICABLE: 3>,\n",
       " DecisionKey(prototype_preorder_index=98, category=<DecisionCategory.NODE_IN_REGION: 3>): <DecisionValue.FALSE: 1>,\n",
       " DecisionKey(prototype_preorder_index=99, category=<DecisionCategory.SHOULD_EARLY_EXIT: 4>): <DecisionValue.FALSE: 1>,\n",
       " DecisionKey(prototype_preorder_index=100, category=<DecisionCategory.REGION_SHOULD_END: 2>): <DecisionValue.NOT_APPLICABLE: 3>,\n",
       " DecisionKey(prototype_preorder_index=102, category=<DecisionCategory.REGION_SHOULD_START: 1>): <DecisionValue.FALSE: 1>,\n",
       " DecisionKey(prototype_preorder_index=103, category=<DecisionCategory.REGION_SHOULD_END: 2>): <DecisionValue.NOT_APPLICABLE: 3>,\n",
       " DecisionKey(prototype_preorder_index=104, category=<DecisionCategory.NODE_IN_REGION: 3>): <DecisionValue.FALSE: 1>,\n",
       " DecisionKey(prototype_preorder_index=105, category=<DecisionCategory.SHOULD_EARLY_EXIT: 4>): <DecisionValue.FALSE: 1>,\n",
       " DecisionKey(prototype_preorder_index=106, category=<DecisionCategory.REGION_SHOULD_END: 2>): <DecisionValue.NOT_APPLICABLE: 3>,\n",
       " DecisionKey(prototype_preorder_index=107, category=<DecisionCategory.REGION_SHOULD_START: 1>): <DecisionValue.FALSE: 1>,\n",
       " DecisionKey(prototype_preorder_index=108, category=<DecisionCategory.REGION_SHOULD_END: 2>): <DecisionValue.NOT_APPLICABLE: 3>,\n",
       " DecisionKey(prototype_preorder_index=109, category=<DecisionCategory.NODE_IN_REGION: 3>): <DecisionValue.FALSE: 1>,\n",
       " DecisionKey(prototype_preorder_index=110, category=<DecisionCategory.SHOULD_EARLY_EXIT: 4>): <DecisionValue.FALSE: 1>,\n",
       " DecisionKey(prototype_preorder_index=111, category=<DecisionCategory.REGION_SHOULD_END: 2>): <DecisionValue.NOT_APPLICABLE: 3>,\n",
       " DecisionKey(prototype_preorder_index=113, category=<DecisionCategory.REGION_SHOULD_START: 1>): <DecisionValue.TRUE: 2>,\n",
       " DecisionKey(prototype_preorder_index=114, category=<DecisionCategory.REGION_SHOULD_END: 2>): <DecisionValue.FALSE: 1>,\n",
       " DecisionKey(prototype_preorder_index=115, category=<DecisionCategory.NODE_IN_REGION: 3>): <DecisionValue.TRUE: 2>,\n",
       " DecisionKey(prototype_preorder_index=116, category=<DecisionCategory.SHOULD_EARLY_EXIT: 4>): <DecisionValue.FALSE: 1>,\n",
       " DecisionKey(prototype_preorder_index=117, category=<DecisionCategory.REGION_SHOULD_END: 2>): <DecisionValue.FALSE: 1>,\n",
       " DecisionKey(prototype_preorder_index=118, category=<DecisionCategory.REGION_SHOULD_START: 1>): <DecisionValue.NOT_APPLICABLE: 3>,\n",
       " DecisionKey(prototype_preorder_index=119, category=<DecisionCategory.REGION_SHOULD_END: 2>): <DecisionValue.FALSE: 1>,\n",
       " DecisionKey(prototype_preorder_index=120, category=<DecisionCategory.NODE_IN_REGION: 3>): <DecisionValue.TRUE: 2>,\n",
       " DecisionKey(prototype_preorder_index=121, category=<DecisionCategory.NODE_IN_REGION: 3>): <DecisionValue.TRUE: 2>,\n",
       " DecisionKey(prototype_preorder_index=122, category=<DecisionCategory.SHOULD_EARLY_EXIT: 4>): <DecisionValue.FALSE: 1>,\n",
       " DecisionKey(prototype_preorder_index=123, category=<DecisionCategory.NODE_IN_REGION: 3>): <DecisionValue.TRUE: 2>,\n",
       " DecisionKey(prototype_preorder_index=124, category=<DecisionCategory.REGION_SHOULD_START: 1>): <DecisionValue.NOT_APPLICABLE: 3>,\n",
       " DecisionKey(prototype_preorder_index=125, category=<DecisionCategory.REGION_SHOULD_END: 2>): <DecisionValue.FALSE: 1>,\n",
       " DecisionKey(prototype_preorder_index=126, category=<DecisionCategory.NODE_IN_REGION: 3>): <DecisionValue.TRUE: 2>,\n",
       " DecisionKey(prototype_preorder_index=127, category=<DecisionCategory.SHOULD_EARLY_EXIT: 4>): <DecisionValue.FALSE: 1>,\n",
       " DecisionKey(prototype_preorder_index=128, category=<DecisionCategory.REGION_SHOULD_END: 2>): <DecisionValue.FALSE: 1>,\n",
       " DecisionKey(prototype_preorder_index=129, category=<DecisionCategory.REGION_SHOULD_START: 1>): <DecisionValue.NOT_APPLICABLE: 3>,\n",
       " DecisionKey(prototype_preorder_index=130, category=<DecisionCategory.REGION_SHOULD_END: 2>): <DecisionValue.FALSE: 1>,\n",
       " DecisionKey(prototype_preorder_index=131, category=<DecisionCategory.SHOULD_EARLY_EXIT: 4>): <DecisionValue.FALSE: 1>,\n",
       " DecisionKey(prototype_preorder_index=132, category=<DecisionCategory.NODE_IN_REGION: 3>): <DecisionValue.TRUE: 2>,\n",
       " DecisionKey(prototype_preorder_index=133, category=<DecisionCategory.SHOULD_EARLY_EXIT: 4>): <DecisionValue.FALSE: 1>,\n",
       " DecisionKey(prototype_preorder_index=134, category=<DecisionCategory.REGION_SHOULD_START: 1>): <DecisionValue.NOT_APPLICABLE: 3>,\n",
       " DecisionKey(prototype_preorder_index=135, category=<DecisionCategory.REGION_SHOULD_END: 2>): <DecisionValue.FALSE: 1>,\n",
       " DecisionKey(prototype_preorder_index=136, category=<DecisionCategory.SHOULD_EARLY_EXIT: 4>): <DecisionValue.FALSE: 1>,\n",
       " DecisionKey(prototype_preorder_index=137, category=<DecisionCategory.REGION_SHOULD_END: 2>): <DecisionValue.FALSE: 1>,\n",
       " DecisionKey(prototype_preorder_index=139, category=<DecisionCategory.REGION_SHOULD_START: 1>): <DecisionValue.NOT_APPLICABLE: 3>,\n",
       " DecisionKey(prototype_preorder_index=140, category=<DecisionCategory.REGION_SHOULD_END: 2>): <DecisionValue.TRUE: 2>,\n",
       " DecisionKey(prototype_preorder_index=141, category=<DecisionCategory.SHOULD_EARLY_EXIT: 4>): <DecisionValue.FALSE: 1>,\n",
       " DecisionKey(prototype_preorder_index=142, category=<DecisionCategory.REGION_SHOULD_END: 2>): <DecisionValue.NOT_APPLICABLE: 3>,\n",
       " DecisionKey(prototype_preorder_index=143, category=<DecisionCategory.REGION_SHOULD_START: 1>): <DecisionValue.TRUE: 2>,\n",
       " DecisionKey(prototype_preorder_index=144, category=<DecisionCategory.REGION_SHOULD_END: 2>): <DecisionValue.FALSE: 1>,\n",
       " DecisionKey(prototype_preorder_index=145, category=<DecisionCategory.NODE_IN_REGION: 3>): <DecisionValue.TRUE: 2>,\n",
       " DecisionKey(prototype_preorder_index=147, category=<DecisionCategory.REGION_SHOULD_START: 1>): <DecisionValue.NOT_APPLICABLE: 3>,\n",
       " DecisionKey(prototype_preorder_index=148, category=<DecisionCategory.REGION_SHOULD_END: 2>): <DecisionValue.FALSE: 1>,\n",
       " DecisionKey(prototype_preorder_index=149, category=<DecisionCategory.NODE_IN_REGION: 3>): <DecisionValue.TRUE: 2>,\n",
       " DecisionKey(prototype_preorder_index=150, category=<DecisionCategory.SHOULD_EARLY_EXIT: 4>): <DecisionValue.FALSE: 1>,\n",
       " DecisionKey(prototype_preorder_index=151, category=<DecisionCategory.REGION_SHOULD_END: 2>): <DecisionValue.FALSE: 1>,\n",
       " DecisionKey(prototype_preorder_index=153, category=<DecisionCategory.REGION_SHOULD_START: 1>): <DecisionValue.NOT_APPLICABLE: 3>,\n",
       " DecisionKey(prototype_preorder_index=154, category=<DecisionCategory.REGION_SHOULD_END: 2>): <DecisionValue.FALSE: 1>,\n",
       " DecisionKey(prototype_preorder_index=155, category=<DecisionCategory.NODE_IN_REGION: 3>): <DecisionValue.TRUE: 2>,\n",
       " DecisionKey(prototype_preorder_index=156, category=<DecisionCategory.SHOULD_EARLY_EXIT: 4>): <DecisionValue.FALSE: 1>,\n",
       " DecisionKey(prototype_preorder_index=157, category=<DecisionCategory.REGION_SHOULD_END: 2>): <DecisionValue.FALSE: 1>,\n",
       " DecisionKey(prototype_preorder_index=158, category=<DecisionCategory.REGION_SHOULD_START: 1>): <DecisionValue.NOT_APPLICABLE: 3>,\n",
       " DecisionKey(prototype_preorder_index=159, category=<DecisionCategory.REGION_SHOULD_END: 2>): <DecisionValue.FALSE: 1>,\n",
       " DecisionKey(prototype_preorder_index=160, category=<DecisionCategory.NODE_IN_REGION: 3>): <DecisionValue.TRUE: 2>,\n",
       " DecisionKey(prototype_preorder_index=161, category=<DecisionCategory.SHOULD_EARLY_EXIT: 4>): <DecisionValue.FALSE: 1>,\n",
       " DecisionKey(prototype_preorder_index=162, category=<DecisionCategory.REGION_SHOULD_END: 2>): <DecisionValue.FALSE: 1>,\n",
       " DecisionKey(prototype_preorder_index=164, category=<DecisionCategory.REGION_SHOULD_START: 1>): <DecisionValue.NOT_APPLICABLE: 3>,\n",
       " DecisionKey(prototype_preorder_index=165, category=<DecisionCategory.REGION_SHOULD_END: 2>): <DecisionValue.FALSE: 1>,\n",
       " DecisionKey(prototype_preorder_index=166, category=<DecisionCategory.NODE_IN_REGION: 3>): <DecisionValue.TRUE: 2>,\n",
       " DecisionKey(prototype_preorder_index=167, category=<DecisionCategory.SHOULD_EARLY_EXIT: 4>): <DecisionValue.FALSE: 1>,\n",
       " DecisionKey(prototype_preorder_index=168, category=<DecisionCategory.REGION_SHOULD_END: 2>): <DecisionValue.FALSE: 1>,\n",
       " DecisionKey(prototype_preorder_index=169, category=<DecisionCategory.REGION_SHOULD_START: 1>): <DecisionValue.NOT_APPLICABLE: 3>,\n",
       " DecisionKey(prototype_preorder_index=170, category=<DecisionCategory.REGION_SHOULD_END: 2>): <DecisionValue.FALSE: 1>,\n",
       " DecisionKey(prototype_preorder_index=171, category=<DecisionCategory.NODE_IN_REGION: 3>): <DecisionValue.TRUE: 2>,\n",
       " DecisionKey(prototype_preorder_index=172, category=<DecisionCategory.NODE_IN_REGION: 3>): <DecisionValue.TRUE: 2>,\n",
       " DecisionKey(prototype_preorder_index=173, category=<DecisionCategory.SHOULD_EARLY_EXIT: 4>): <DecisionValue.FALSE: 1>,\n",
       " DecisionKey(prototype_preorder_index=174, category=<DecisionCategory.NODE_IN_REGION: 3>): <DecisionValue.TRUE: 2>,\n",
       " DecisionKey(prototype_preorder_index=175, category=<DecisionCategory.REGION_SHOULD_START: 1>): <DecisionValue.NOT_APPLICABLE: 3>,\n",
       " DecisionKey(prototype_preorder_index=176, category=<DecisionCategory.REGION_SHOULD_END: 2>): <DecisionValue.FALSE: 1>,\n",
       " DecisionKey(prototype_preorder_index=177, category=<DecisionCategory.NODE_IN_REGION: 3>): <DecisionValue.TRUE: 2>,\n",
       " DecisionKey(prototype_preorder_index=178, category=<DecisionCategory.SHOULD_EARLY_EXIT: 4>): <DecisionValue.FALSE: 1>,\n",
       " DecisionKey(prototype_preorder_index=179, category=<DecisionCategory.REGION_SHOULD_END: 2>): <DecisionValue.FALSE: 1>,\n",
       " DecisionKey(prototype_preorder_index=180, category=<DecisionCategory.REGION_SHOULD_START: 1>): <DecisionValue.NOT_APPLICABLE: 3>,\n",
       " DecisionKey(prototype_preorder_index=181, category=<DecisionCategory.REGION_SHOULD_END: 2>): <DecisionValue.FALSE: 1>,\n",
       " DecisionKey(prototype_preorder_index=182, category=<DecisionCategory.SHOULD_EARLY_EXIT: 4>): <DecisionValue.FALSE: 1>,\n",
       " DecisionKey(prototype_preorder_index=183, category=<DecisionCategory.NODE_IN_REGION: 3>): <DecisionValue.TRUE: 2>,\n",
       " DecisionKey(prototype_preorder_index=184, category=<DecisionCategory.SHOULD_EARLY_EXIT: 4>): <DecisionValue.FALSE: 1>,\n",
       " DecisionKey(prototype_preorder_index=185, category=<DecisionCategory.REGION_SHOULD_START: 1>): <DecisionValue.NOT_APPLICABLE: 3>,\n",
       " DecisionKey(prototype_preorder_index=186, category=<DecisionCategory.REGION_SHOULD_END: 2>): <DecisionValue.FALSE: 1>,\n",
       " DecisionKey(prototype_preorder_index=187, category=<DecisionCategory.SHOULD_EARLY_EXIT: 4>): <DecisionValue.FALSE: 1>,\n",
       " DecisionKey(prototype_preorder_index=188, category=<DecisionCategory.REGION_SHOULD_END: 2>): <DecisionValue.FALSE: 1>,\n",
       " DecisionKey(prototype_preorder_index=190, category=<DecisionCategory.REGION_SHOULD_START: 1>): <DecisionValue.NOT_APPLICABLE: 3>,\n",
       " DecisionKey(prototype_preorder_index=191, category=<DecisionCategory.REGION_SHOULD_END: 2>): <DecisionValue.FALSE: 1>,\n",
       " DecisionKey(prototype_preorder_index=192, category=<DecisionCategory.SHOULD_EARLY_EXIT: 4>): <DecisionValue.FALSE: 1>,\n",
       " DecisionKey(prototype_preorder_index=193, category=<DecisionCategory.REGION_SHOULD_END: 2>): <DecisionValue.FALSE: 1>,\n",
       " DecisionKey(prototype_preorder_index=194, category=<DecisionCategory.REGION_SHOULD_START: 1>): <DecisionValue.NOT_APPLICABLE: 3>,\n",
       " DecisionKey(prototype_preorder_index=195, category=<DecisionCategory.REGION_SHOULD_END: 2>): <DecisionValue.TRUE: 2>,\n",
       " DecisionKey(prototype_preorder_index=196, category=<DecisionCategory.NODE_IN_REGION: 3>): <DecisionValue.FALSE: 1>,\n",
       " DecisionKey(prototype_preorder_index=198, category=<DecisionCategory.REGION_SHOULD_START: 1>): <DecisionValue.FALSE: 1>,\n",
       " DecisionKey(prototype_preorder_index=199, category=<DecisionCategory.REGION_SHOULD_END: 2>): <DecisionValue.NOT_APPLICABLE: 3>,\n",
       " DecisionKey(prototype_preorder_index=200, category=<DecisionCategory.NODE_IN_REGION: 3>): <DecisionValue.FALSE: 1>,\n",
       " DecisionKey(prototype_preorder_index=201, category=<DecisionCategory.SHOULD_EARLY_EXIT: 4>): <DecisionValue.FALSE: 1>,\n",
       " DecisionKey(prototype_preorder_index=202, category=<DecisionCategory.REGION_SHOULD_END: 2>): <DecisionValue.NOT_APPLICABLE: 3>,\n",
       " DecisionKey(prototype_preorder_index=203, category=<DecisionCategory.REGION_SHOULD_START: 1>): <DecisionValue.FALSE: 1>,\n",
       " DecisionKey(prototype_preorder_index=204, category=<DecisionCategory.REGION_SHOULD_END: 2>): <DecisionValue.NOT_APPLICABLE: 3>,\n",
       " DecisionKey(prototype_preorder_index=205, category=<DecisionCategory.NODE_IN_REGION: 3>): <DecisionValue.FALSE: 1>,\n",
       " DecisionKey(prototype_preorder_index=206, category=<DecisionCategory.NODE_IN_REGION: 3>): <DecisionValue.FALSE: 1>,\n",
       " DecisionKey(prototype_preorder_index=207, category=<DecisionCategory.SHOULD_EARLY_EXIT: 4>): <DecisionValue.FALSE: 1>,\n",
       " DecisionKey(prototype_preorder_index=208, category=<DecisionCategory.NODE_IN_REGION: 3>): <DecisionValue.FALSE: 1>,\n",
       " DecisionKey(prototype_preorder_index=209, category=<DecisionCategory.REGION_SHOULD_START: 1>): <DecisionValue.FALSE: 1>,\n",
       " DecisionKey(prototype_preorder_index=210, category=<DecisionCategory.REGION_SHOULD_END: 2>): <DecisionValue.NOT_APPLICABLE: 3>,\n",
       " DecisionKey(prototype_preorder_index=211, category=<DecisionCategory.NODE_IN_REGION: 3>): <DecisionValue.FALSE: 1>,\n",
       " DecisionKey(prototype_preorder_index=212, category=<DecisionCategory.SHOULD_EARLY_EXIT: 4>): <DecisionValue.FALSE: 1>,\n",
       " DecisionKey(prototype_preorder_index=213, category=<DecisionCategory.REGION_SHOULD_END: 2>): <DecisionValue.NOT_APPLICABLE: 3>,\n",
       " DecisionKey(prototype_preorder_index=214, category=<DecisionCategory.REGION_SHOULD_START: 1>): <DecisionValue.FALSE: 1>,\n",
       " DecisionKey(prototype_preorder_index=215, category=<DecisionCategory.REGION_SHOULD_END: 2>): <DecisionValue.NOT_APPLICABLE: 3>,\n",
       " DecisionKey(prototype_preorder_index=216, category=<DecisionCategory.SHOULD_EARLY_EXIT: 4>): <DecisionValue.FALSE: 1>,\n",
       " DecisionKey(prototype_preorder_index=217, category=<DecisionCategory.NODE_IN_REGION: 3>): <DecisionValue.FALSE: 1>,\n",
       " DecisionKey(prototype_preorder_index=218, category=<DecisionCategory.SHOULD_EARLY_EXIT: 4>): <DecisionValue.FALSE: 1>,\n",
       " DecisionKey(prototype_preorder_index=219, category=<DecisionCategory.REGION_SHOULD_START: 1>): <DecisionValue.FALSE: 1>,\n",
       " DecisionKey(prototype_preorder_index=220, category=<DecisionCategory.REGION_SHOULD_END: 2>): <DecisionValue.NOT_APPLICABLE: 3>,\n",
       " DecisionKey(prototype_preorder_index=221, category=<DecisionCategory.SHOULD_EARLY_EXIT: 4>): <DecisionValue.FALSE: 1>,\n",
       " DecisionKey(prototype_preorder_index=222, category=<DecisionCategory.REGION_SHOULD_END: 2>): <DecisionValue.NOT_APPLICABLE: 3>,\n",
       " DecisionKey(prototype_preorder_index=224, category=<DecisionCategory.REGION_SHOULD_START: 1>): <DecisionValue.FALSE: 1>,\n",
       " DecisionKey(prototype_preorder_index=225, category=<DecisionCategory.REGION_SHOULD_END: 2>): <DecisionValue.NOT_APPLICABLE: 3>,\n",
       " DecisionKey(prototype_preorder_index=226, category=<DecisionCategory.NODE_IN_REGION: 3>): <DecisionValue.FALSE: 1>,\n",
       " DecisionKey(prototype_preorder_index=227, category=<DecisionCategory.SHOULD_EARLY_EXIT: 4>): <DecisionValue.FALSE: 1>,\n",
       " DecisionKey(prototype_preorder_index=228, category=<DecisionCategory.REGION_SHOULD_END: 2>): <DecisionValue.NOT_APPLICABLE: 3>,\n",
       " DecisionKey(prototype_preorder_index=229, category=<DecisionCategory.REGION_SHOULD_START: 1>): <DecisionValue.FALSE: 1>,\n",
       " DecisionKey(prototype_preorder_index=230, category=<DecisionCategory.REGION_SHOULD_END: 2>): <DecisionValue.NOT_APPLICABLE: 3>,\n",
       " DecisionKey(prototype_preorder_index=231, category=<DecisionCategory.NODE_IN_REGION: 3>): <DecisionValue.FALSE: 1>,\n",
       " DecisionKey(prototype_preorder_index=232, category=<DecisionCategory.SHOULD_EARLY_EXIT: 4>): <DecisionValue.FALSE: 1>,\n",
       " DecisionKey(prototype_preorder_index=233, category=<DecisionCategory.REGION_SHOULD_END: 2>): <DecisionValue.NOT_APPLICABLE: 3>,\n",
       " DecisionKey(prototype_preorder_index=235, category=<DecisionCategory.REGION_SHOULD_START: 1>): <DecisionValue.FALSE: 1>,\n",
       " DecisionKey(prototype_preorder_index=236, category=<DecisionCategory.REGION_SHOULD_END: 2>): <DecisionValue.NOT_APPLICABLE: 3>,\n",
       " DecisionKey(prototype_preorder_index=237, category=<DecisionCategory.NODE_IN_REGION: 3>): <DecisionValue.FALSE: 1>,\n",
       " DecisionKey(prototype_preorder_index=238, category=<DecisionCategory.SHOULD_EARLY_EXIT: 4>): <DecisionValue.FALSE: 1>,\n",
       " DecisionKey(prototype_preorder_index=239, category=<DecisionCategory.REGION_SHOULD_END: 2>): <DecisionValue.NOT_APPLICABLE: 3>,\n",
       " DecisionKey(prototype_preorder_index=240, category=<DecisionCategory.REGION_SHOULD_START: 1>): <DecisionValue.FALSE: 1>,\n",
       " DecisionKey(prototype_preorder_index=241, category=<DecisionCategory.REGION_SHOULD_END: 2>): <DecisionValue.NOT_APPLICABLE: 3>,\n",
       " DecisionKey(prototype_preorder_index=242, category=<DecisionCategory.SHOULD_EARLY_EXIT: 4>): <DecisionValue.FALSE: 1>,\n",
       " DecisionKey(prototype_preorder_index=243, category=<DecisionCategory.REGION_SHOULD_END: 2>): <DecisionValue.NOT_APPLICABLE: 3>,\n",
       " DecisionKey(prototype_preorder_index=244, category=<DecisionCategory.REGION_SHOULD_START: 1>): <DecisionValue.TRUE: 2>,\n",
       " DecisionKey(prototype_preorder_index=245, category=<DecisionCategory.REGION_SHOULD_END: 2>): <DecisionValue.TRUE: 2>,\n",
       " DecisionKey(prototype_preorder_index=246, category=<DecisionCategory.SHOULD_EARLY_EXIT: 4>): <DecisionValue.FALSE: 1>,\n",
       " DecisionKey(prototype_preorder_index=247, category=<DecisionCategory.NODE_IN_REGION: 3>): <DecisionValue.FALSE: 1>,\n",
       " DecisionKey(prototype_preorder_index=248, category=<DecisionCategory.SHOULD_EARLY_EXIT: 4>): <DecisionValue.FALSE: 1>,\n",
       " DecisionKey(prototype_preorder_index=249, category=<DecisionCategory.REGION_SHOULD_START: 1>): <DecisionValue.FALSE: 1>,\n",
       " DecisionKey(prototype_preorder_index=250, category=<DecisionCategory.REGION_SHOULD_END: 2>): <DecisionValue.NOT_APPLICABLE: 3>,\n",
       " DecisionKey(prototype_preorder_index=251, category=<DecisionCategory.SHOULD_EARLY_EXIT: 4>): <DecisionValue.FALSE: 1>,\n",
       " DecisionKey(prototype_preorder_index=252, category=<DecisionCategory.REGION_SHOULD_END: 2>): <DecisionValue.NOT_APPLICABLE: 3>,\n",
       " DecisionKey(prototype_preorder_index=254, category=<DecisionCategory.REGION_SHOULD_START: 1>): <DecisionValue.FALSE: 1>,\n",
       " DecisionKey(prototype_preorder_index=255, category=<DecisionCategory.REGION_SHOULD_END: 2>): <DecisionValue.NOT_APPLICABLE: 3>,\n",
       " DecisionKey(prototype_preorder_index=256, category=<DecisionCategory.SHOULD_EARLY_EXIT: 4>): <DecisionValue.FALSE: 1>,\n",
       " DecisionKey(prototype_preorder_index=257, category=<DecisionCategory.REGION_SHOULD_END: 2>): <DecisionValue.NOT_APPLICABLE: 3>,\n",
       " DecisionKey(prototype_preorder_index=258, category=<DecisionCategory.REGION_SHOULD_START: 1>): <DecisionValue.FALSE: 1>,\n",
       " DecisionKey(prototype_preorder_index=259, category=<DecisionCategory.REGION_SHOULD_END: 2>): <DecisionValue.NOT_APPLICABLE: 3>,\n",
       " DecisionKey(prototype_preorder_index=260, category=<DecisionCategory.SHOULD_EARLY_EXIT: 4>): <DecisionValue.FALSE: 1>,\n",
       " DecisionKey(prototype_preorder_index=261, category=<DecisionCategory.REGION_SHOULD_END: 2>): <DecisionValue.NOT_APPLICABLE: 3>,\n",
       " DecisionKey(prototype_preorder_index=262, category=<DecisionCategory.REGION_SHOULD_START: 1>): <DecisionValue.FALSE: 1>,\n",
       " DecisionKey(prototype_preorder_index=263, category=<DecisionCategory.REGION_SHOULD_END: 2>): <DecisionValue.NOT_APPLICABLE: 3>,\n",
       " DecisionKey(prototype_preorder_index=264, category=<DecisionCategory.NODE_IN_REGION: 3>): <DecisionValue.FALSE: 1>,\n",
       " DecisionKey(prototype_preorder_index=266, category=<DecisionCategory.REGION_SHOULD_START: 1>): <DecisionValue.FALSE: 1>,\n",
       " DecisionKey(prototype_preorder_index=267, category=<DecisionCategory.REGION_SHOULD_END: 2>): <DecisionValue.NOT_APPLICABLE: 3>,\n",
       " DecisionKey(prototype_preorder_index=268, category=<DecisionCategory.NODE_IN_REGION: 3>): <DecisionValue.FALSE: 1>,\n",
       " DecisionKey(prototype_preorder_index=269, category=<DecisionCategory.SHOULD_EARLY_EXIT: 4>): <DecisionValue.FALSE: 1>,\n",
       " DecisionKey(prototype_preorder_index=270, category=<DecisionCategory.REGION_SHOULD_END: 2>): <DecisionValue.NOT_APPLICABLE: 3>,\n",
       " DecisionKey(prototype_preorder_index=272, category=<DecisionCategory.REGION_SHOULD_START: 1>): <DecisionValue.FALSE: 1>,\n",
       " DecisionKey(prototype_preorder_index=273, category=<DecisionCategory.REGION_SHOULD_END: 2>): <DecisionValue.NOT_APPLICABLE: 3>,\n",
       " DecisionKey(prototype_preorder_index=274, category=<DecisionCategory.NODE_IN_REGION: 3>): <DecisionValue.FALSE: 1>,\n",
       " DecisionKey(prototype_preorder_index=275, category=<DecisionCategory.SHOULD_EARLY_EXIT: 4>): <DecisionValue.FALSE: 1>,\n",
       " DecisionKey(prototype_preorder_index=276, category=<DecisionCategory.REGION_SHOULD_END: 2>): <DecisionValue.NOT_APPLICABLE: 3>,\n",
       " DecisionKey(prototype_preorder_index=278, category=<DecisionCategory.REGION_SHOULD_START: 1>): <DecisionValue.FALSE: 1>,\n",
       " DecisionKey(prototype_preorder_index=279, category=<DecisionCategory.REGION_SHOULD_END: 2>): <DecisionValue.NOT_APPLICABLE: 3>,\n",
       " DecisionKey(prototype_preorder_index=280, category=<DecisionCategory.SHOULD_EARLY_EXIT: 4>): <DecisionValue.FALSE: 1>,\n",
       " DecisionKey(prototype_preorder_index=281, category=<DecisionCategory.REGION_SHOULD_END: 2>): <DecisionValue.NOT_APPLICABLE: 3>,\n",
       " DecisionKey(prototype_preorder_index=282, category=<DecisionCategory.REGION_SHOULD_START: 1>): <DecisionValue.FALSE: 1>,\n",
       " DecisionKey(prototype_preorder_index=283, category=<DecisionCategory.REGION_SHOULD_END: 2>): <DecisionValue.NOT_APPLICABLE: 3>,\n",
       " DecisionKey(prototype_preorder_index=284, category=<DecisionCategory.SHOULD_EARLY_EXIT: 4>): <DecisionValue.FALSE: 1>,\n",
       " DecisionKey(prototype_preorder_index=285, category=<DecisionCategory.NODE_IN_REGION: 3>): <DecisionValue.FALSE: 1>,\n",
       " DecisionKey(prototype_preorder_index=286, category=<DecisionCategory.SHOULD_EARLY_EXIT: 4>): <DecisionValue.FALSE: 1>,\n",
       " DecisionKey(prototype_preorder_index=287, category=<DecisionCategory.REGION_SHOULD_START: 1>): <DecisionValue.FALSE: 1>,\n",
       " DecisionKey(prototype_preorder_index=288, category=<DecisionCategory.REGION_SHOULD_END: 2>): <DecisionValue.NOT_APPLICABLE: 3>,\n",
       " DecisionKey(prototype_preorder_index=289, category=<DecisionCategory.SHOULD_EARLY_EXIT: 4>): <DecisionValue.FALSE: 1>,\n",
       " DecisionKey(prototype_preorder_index=290, category=<DecisionCategory.REGION_SHOULD_END: 2>): <DecisionValue.NOT_APPLICABLE: 3>,\n",
       " DecisionKey(prototype_preorder_index=292, category=<DecisionCategory.REGION_SHOULD_START: 1>): <DecisionValue.FALSE: 1>,\n",
       " DecisionKey(prototype_preorder_index=293, category=<DecisionCategory.REGION_SHOULD_END: 2>): <DecisionValue.NOT_APPLICABLE: 3>,\n",
       " DecisionKey(prototype_preorder_index=294, category=<DecisionCategory.SHOULD_EARLY_EXIT: 4>): <DecisionValue.FALSE: 1>,\n",
       " DecisionKey(prototype_preorder_index=295, category=<DecisionCategory.REGION_SHOULD_END: 2>): <DecisionValue.NOT_APPLICABLE: 3>,\n",
       " DecisionKey(prototype_preorder_index=296, category=<DecisionCategory.REGION_SHOULD_START: 1>): <DecisionValue.FALSE: 1>,\n",
       " DecisionKey(prototype_preorder_index=297, category=<DecisionCategory.REGION_SHOULD_END: 2>): <DecisionValue.NOT_APPLICABLE: 3>,\n",
       " DecisionKey(prototype_preorder_index=298, category=<DecisionCategory.SHOULD_EARLY_EXIT: 4>): <DecisionValue.FALSE: 1>,\n",
       " DecisionKey(prototype_preorder_index=299, category=<DecisionCategory.REGION_SHOULD_END: 2>): <DecisionValue.NOT_APPLICABLE: 3>,\n",
       " DecisionKey(prototype_preorder_index=300, category=<DecisionCategory.REGION_SHOULD_START: 1>): <DecisionValue.TRUE: 2>,\n",
       " DecisionKey(prototype_preorder_index=301, category=<DecisionCategory.REGION_SHOULD_END: 2>): <DecisionValue.FALSE: 1>,\n",
       " DecisionKey(prototype_preorder_index=302, category=<DecisionCategory.NODE_IN_REGION: 3>): <DecisionValue.TRUE: 2>,\n",
       " DecisionKey(prototype_preorder_index=303, category=<DecisionCategory.REGION_SHOULD_START: 1>): <DecisionValue.NOT_APPLICABLE: 3>,\n",
       " DecisionKey(prototype_preorder_index=304, category=<DecisionCategory.REGION_SHOULD_END: 2>): <DecisionValue.FALSE: 1>,\n",
       " DecisionKey(prototype_preorder_index=305, category=<DecisionCategory.NODE_IN_REGION: 3>): <DecisionValue.TRUE: 2>,\n",
       " DecisionKey(prototype_preorder_index=306, category=<DecisionCategory.SHOULD_EARLY_EXIT: 4>): <DecisionValue.FALSE: 1>,\n",
       " DecisionKey(prototype_preorder_index=307, category=<DecisionCategory.REGION_SHOULD_END: 2>): <DecisionValue.FALSE: 1>,\n",
       " DecisionKey(prototype_preorder_index=308, category=<DecisionCategory.REGION_SHOULD_START: 1>): <DecisionValue.NOT_APPLICABLE: 3>,\n",
       " DecisionKey(prototype_preorder_index=309, category=<DecisionCategory.REGION_SHOULD_END: 2>): <DecisionValue.FALSE: 1>,\n",
       " DecisionKey(prototype_preorder_index=310, category=<DecisionCategory.NODE_IN_REGION: 3>): <DecisionValue.TRUE: 2>,\n",
       " DecisionKey(prototype_preorder_index=311, category=<DecisionCategory.NODE_IN_REGION: 3>): <DecisionValue.TRUE: 2>,\n",
       " DecisionKey(prototype_preorder_index=312, category=<DecisionCategory.SHOULD_EARLY_EXIT: 4>): <DecisionValue.FALSE: 1>,\n",
       " DecisionKey(prototype_preorder_index=313, category=<DecisionCategory.NODE_IN_REGION: 3>): <DecisionValue.TRUE: 2>,\n",
       " DecisionKey(prototype_preorder_index=314, category=<DecisionCategory.REGION_SHOULD_START: 1>): <DecisionValue.NOT_APPLICABLE: 3>,\n",
       " DecisionKey(prototype_preorder_index=315, category=<DecisionCategory.REGION_SHOULD_END: 2>): <DecisionValue.FALSE: 1>,\n",
       " DecisionKey(prototype_preorder_index=316, category=<DecisionCategory.NODE_IN_REGION: 3>): <DecisionValue.TRUE: 2>,\n",
       " DecisionKey(prototype_preorder_index=317, category=<DecisionCategory.SHOULD_EARLY_EXIT: 4>): <DecisionValue.FALSE: 1>,\n",
       " DecisionKey(prototype_preorder_index=318, category=<DecisionCategory.REGION_SHOULD_END: 2>): <DecisionValue.FALSE: 1>,\n",
       " DecisionKey(prototype_preorder_index=319, category=<DecisionCategory.REGION_SHOULD_START: 1>): <DecisionValue.NOT_APPLICABLE: 3>,\n",
       " DecisionKey(prototype_preorder_index=320, category=<DecisionCategory.REGION_SHOULD_END: 2>): <DecisionValue.FALSE: 1>,\n",
       " DecisionKey(prototype_preorder_index=321, category=<DecisionCategory.NODE_IN_REGION: 3>): <DecisionValue.TRUE: 2>,\n",
       " DecisionKey(prototype_preorder_index=322, category=<DecisionCategory.NODE_IN_REGION: 3>): <DecisionValue.TRUE: 2>,\n",
       " DecisionKey(prototype_preorder_index=323, category=<DecisionCategory.SHOULD_EARLY_EXIT: 4>): <DecisionValue.TRUE: 2>,\n",
       " DecisionKey(prototype_preorder_index=324, category=<DecisionCategory.NODE_IN_REGION: 3>): <DecisionValue.NOT_APPLICABLE: 3>,\n",
       " DecisionKey(prototype_preorder_index=325, category=<DecisionCategory.REGION_SHOULD_START: 1>): <DecisionValue.NOT_APPLICABLE: 3>,\n",
       " DecisionKey(prototype_preorder_index=326, category=<DecisionCategory.REGION_SHOULD_END: 2>): <DecisionValue.NOT_APPLICABLE: 3>,\n",
       " DecisionKey(prototype_preorder_index=327, category=<DecisionCategory.NODE_IN_REGION: 3>): <DecisionValue.NOT_APPLICABLE: 3>,\n",
       " DecisionKey(prototype_preorder_index=328, category=<DecisionCategory.REGION_SHOULD_START: 1>): <DecisionValue.NOT_APPLICABLE: 3>,\n",
       " DecisionKey(prototype_preorder_index=329, category=<DecisionCategory.REGION_SHOULD_END: 2>): <DecisionValue.NOT_APPLICABLE: 3>,\n",
       " DecisionKey(prototype_preorder_index=330, category=<DecisionCategory.NODE_IN_REGION: 3>): <DecisionValue.NOT_APPLICABLE: 3>,\n",
       " DecisionKey(prototype_preorder_index=331, category=<DecisionCategory.SHOULD_EARLY_EXIT: 4>): <DecisionValue.NOT_APPLICABLE: 3>,\n",
       " DecisionKey(prototype_preorder_index=332, category=<DecisionCategory.REGION_SHOULD_END: 2>): <DecisionValue.NOT_APPLICABLE: 3>,\n",
       " DecisionKey(prototype_preorder_index=333, category=<DecisionCategory.REGION_SHOULD_START: 1>): <DecisionValue.NOT_APPLICABLE: 3>,\n",
       " DecisionKey(prototype_preorder_index=334, category=<DecisionCategory.REGION_SHOULD_END: 2>): <DecisionValue.NOT_APPLICABLE: 3>,\n",
       " DecisionKey(prototype_preorder_index=335, category=<DecisionCategory.NODE_IN_REGION: 3>): <DecisionValue.NOT_APPLICABLE: 3>,\n",
       " DecisionKey(prototype_preorder_index=336, category=<DecisionCategory.SHOULD_EARLY_EXIT: 4>): <DecisionValue.NOT_APPLICABLE: 3>,\n",
       " DecisionKey(prototype_preorder_index=337, category=<DecisionCategory.REGION_SHOULD_END: 2>): <DecisionValue.NOT_APPLICABLE: 3>,\n",
       " DecisionKey(prototype_preorder_index=338, category=<DecisionCategory.REGION_SHOULD_START: 1>): <DecisionValue.NOT_APPLICABLE: 3>,\n",
       " DecisionKey(prototype_preorder_index=339, category=<DecisionCategory.REGION_SHOULD_END: 2>): <DecisionValue.NOT_APPLICABLE: 3>,\n",
       " DecisionKey(prototype_preorder_index=340, category=<DecisionCategory.NODE_IN_REGION: 3>): <DecisionValue.NOT_APPLICABLE: 3>,\n",
       " DecisionKey(prototype_preorder_index=341, category=<DecisionCategory.SHOULD_EARLY_EXIT: 4>): <DecisionValue.NOT_APPLICABLE: 3>,\n",
       " DecisionKey(prototype_preorder_index=342, category=<DecisionCategory.REGION_SHOULD_END: 2>): <DecisionValue.NOT_APPLICABLE: 3>,\n",
       " DecisionKey(prototype_preorder_index=343, category=<DecisionCategory.REGION_SHOULD_START: 1>): <DecisionValue.NOT_APPLICABLE: 3>,\n",
       " DecisionKey(prototype_preorder_index=344, category=<DecisionCategory.REGION_SHOULD_END: 2>): <DecisionValue.NOT_APPLICABLE: 3>,\n",
       " DecisionKey(prototype_preorder_index=345, category=<DecisionCategory.SHOULD_EARLY_EXIT: 4>): <DecisionValue.NOT_APPLICABLE: 3>,\n",
       " DecisionKey(prototype_preorder_index=346, category=<DecisionCategory.REGION_SHOULD_END: 2>): <DecisionValue.NOT_APPLICABLE: 3>,\n",
       " DecisionKey(prototype_preorder_index=347, category=<DecisionCategory.REGION_SHOULD_START: 1>): <DecisionValue.NOT_APPLICABLE: 3>,\n",
       " DecisionKey(prototype_preorder_index=348, category=<DecisionCategory.REGION_SHOULD_END: 2>): <DecisionValue.NOT_APPLICABLE: 3>,\n",
       " DecisionKey(prototype_preorder_index=349, category=<DecisionCategory.NODE_IN_REGION: 3>): <DecisionValue.NOT_APPLICABLE: 3>,\n",
       " DecisionKey(prototype_preorder_index=350, category=<DecisionCategory.SHOULD_EARLY_EXIT: 4>): <DecisionValue.NOT_APPLICABLE: 3>,\n",
       " DecisionKey(prototype_preorder_index=351, category=<DecisionCategory.REGION_SHOULD_END: 2>): <DecisionValue.NOT_APPLICABLE: 3>,\n",
       " DecisionKey(prototype_preorder_index=352, category=<DecisionCategory.REGION_SHOULD_START: 1>): <DecisionValue.NOT_APPLICABLE: 3>,\n",
       " DecisionKey(prototype_preorder_index=353, category=<DecisionCategory.REGION_SHOULD_END: 2>): <DecisionValue.NOT_APPLICABLE: 3>,\n",
       " DecisionKey(prototype_preorder_index=354, category=<DecisionCategory.NODE_IN_REGION: 3>): <DecisionValue.NOT_APPLICABLE: 3>,\n",
       " DecisionKey(prototype_preorder_index=355, category=<DecisionCategory.SHOULD_EARLY_EXIT: 4>): <DecisionValue.NOT_APPLICABLE: 3>,\n",
       " DecisionKey(prototype_preorder_index=356, category=<DecisionCategory.REGION_SHOULD_END: 2>): <DecisionValue.NOT_APPLICABLE: 3>,\n",
       " DecisionKey(prototype_preorder_index=357, category=<DecisionCategory.REGION_SHOULD_START: 1>): <DecisionValue.NOT_APPLICABLE: 3>,\n",
       " DecisionKey(prototype_preorder_index=358, category=<DecisionCategory.REGION_SHOULD_END: 2>): <DecisionValue.NOT_APPLICABLE: 3>,\n",
       " DecisionKey(prototype_preorder_index=359, category=<DecisionCategory.SHOULD_EARLY_EXIT: 4>): <DecisionValue.NOT_APPLICABLE: 3>,\n",
       " DecisionKey(prototype_preorder_index=360, category=<DecisionCategory.NODE_IN_REGION: 3>): <DecisionValue.NOT_APPLICABLE: 3>,\n",
       " DecisionKey(prototype_preorder_index=361, category=<DecisionCategory.SHOULD_EARLY_EXIT: 4>): <DecisionValue.NOT_APPLICABLE: 3>,\n",
       " DecisionKey(prototype_preorder_index=362, category=<DecisionCategory.REGION_SHOULD_START: 1>): <DecisionValue.NOT_APPLICABLE: 3>,\n",
       " DecisionKey(prototype_preorder_index=363, category=<DecisionCategory.REGION_SHOULD_END: 2>): <DecisionValue.NOT_APPLICABLE: 3>,\n",
       " DecisionKey(prototype_preorder_index=364, category=<DecisionCategory.SHOULD_EARLY_EXIT: 4>): <DecisionValue.NOT_APPLICABLE: 3>,\n",
       " DecisionKey(prototype_preorder_index=365, category=<DecisionCategory.REGION_SHOULD_END: 2>): <DecisionValue.NOT_APPLICABLE: 3>,\n",
       " DecisionKey(prototype_preorder_index=366, category=<DecisionCategory.REGION_SHOULD_START: 1>): <DecisionValue.NOT_APPLICABLE: 3>,\n",
       " DecisionKey(prototype_preorder_index=367, category=<DecisionCategory.REGION_SHOULD_END: 2>): <DecisionValue.NOT_APPLICABLE: 3>,\n",
       " DecisionKey(prototype_preorder_index=368, category=<DecisionCategory.SHOULD_EARLY_EXIT: 4>): <DecisionValue.NOT_APPLICABLE: 3>,\n",
       " DecisionKey(prototype_preorder_index=369, category=<DecisionCategory.NODE_IN_REGION: 3>): <DecisionValue.NOT_APPLICABLE: 3>,\n",
       " DecisionKey(prototype_preorder_index=370, category=<DecisionCategory.SHOULD_EARLY_EXIT: 4>): <DecisionValue.NOT_APPLICABLE: 3>,\n",
       " DecisionKey(prototype_preorder_index=371, category=<DecisionCategory.REGION_SHOULD_START: 1>): <DecisionValue.NOT_APPLICABLE: 3>,\n",
       " DecisionKey(prototype_preorder_index=372, category=<DecisionCategory.REGION_SHOULD_END: 2>): <DecisionValue.NOT_APPLICABLE: 3>,\n",
       " DecisionKey(prototype_preorder_index=373, category=<DecisionCategory.SHOULD_EARLY_EXIT: 4>): <DecisionValue.NOT_APPLICABLE: 3>,\n",
       " DecisionKey(prototype_preorder_index=374, category=<DecisionCategory.REGION_SHOULD_END: 2>): <DecisionValue.NOT_APPLICABLE: 3>,\n",
       " DecisionKey(prototype_preorder_index=376, category=<DecisionCategory.REGION_SHOULD_START: 1>): <DecisionValue.NOT_APPLICABLE: 3>,\n",
       " DecisionKey(prototype_preorder_index=377, category=<DecisionCategory.REGION_SHOULD_END: 2>): <DecisionValue.NOT_APPLICABLE: 3>,\n",
       " DecisionKey(prototype_preorder_index=378, category=<DecisionCategory.SHOULD_EARLY_EXIT: 4>): <DecisionValue.NOT_APPLICABLE: 3>,\n",
       " DecisionKey(prototype_preorder_index=379, category=<DecisionCategory.REGION_SHOULD_END: 2>): <DecisionValue.NOT_APPLICABLE: 3>,\n",
       " DecisionKey(prototype_preorder_index=380, category=<DecisionCategory.REGION_SHOULD_START: 1>): <DecisionValue.NOT_APPLICABLE: 3>,\n",
       " DecisionKey(prototype_preorder_index=381, category=<DecisionCategory.REGION_SHOULD_END: 2>): <DecisionValue.NOT_APPLICABLE: 3>,\n",
       " DecisionKey(prototype_preorder_index=382, category=<DecisionCategory.SHOULD_EARLY_EXIT: 4>): <DecisionValue.NOT_APPLICABLE: 3>,\n",
       " DecisionKey(prototype_preorder_index=383, category=<DecisionCategory.REGION_SHOULD_END: 2>): <DecisionValue.NOT_APPLICABLE: 3>,\n",
       " DecisionKey(prototype_preorder_index=384, category=<DecisionCategory.REGION_SHOULD_START: 1>): <DecisionValue.NOT_APPLICABLE: 3>,\n",
       " DecisionKey(prototype_preorder_index=385, category=<DecisionCategory.REGION_SHOULD_END: 2>): <DecisionValue.NOT_APPLICABLE: 3>}"
      ]
     },
     "execution_count": 0,
     "metadata": {},
     "output_type": "execute_result"
    }
   ],
   "source": [
    "# Limit the size of the output area.\n",
    "display.display(display.Javascript('google.colab.output.setIframeHeight(0, true, {maxHeight: 400})'))\n",
    "\n",
    "combine_result.assignment_map"
   ]
  },
  {
   "cell_type": "markdown",
   "metadata": {
    "id": "E2TWRG8dB6IP"
   },
   "source": [
    "## Token probabilities and baseline suggestions"
   ]
  },
  {
   "cell_type": "markdown",
   "metadata": {
    "id": "Zy6Wo2aXGUa8"
   },
   "source": [
    "If the generative model produces per-token conditional probabilities, we can use them to construct the baseline suggestions shown in the paper. For this demo, we'll just look it up in our saved results.\n",
    "\n",
    "Note that the set of baselines depend on the wrapper being used."
   ]
  },
  {
   "cell_type": "code",
   "execution_count": 0,
   "metadata": {
    "id": "D58LCCSgCXy-"
   },
   "outputs": [],
   "source": [
    "context, model_samples_with_log_probs = demo_examples.get_context_and_token_probs(demo_example_key)\n",
    "one_sample_with_log_probs = model_samples_with_log_probs[0]"
   ]
  },
  {
   "cell_type": "code",
   "execution_count": 0,
   "metadata": {
    "id": "3ySd97QRQ5MB"
   },
   "outputs": [],
   "source": [
    "wrapper = uncertainty_regions_wrapper.UncertaintyRegionsWrapper(\n",
    "    effective_precision=0.7,\n",
    "    use_numba=use_numba,\n",
    ")\n",
    "runner = demo_runner.DemoRunner(wrapper, language=\"python\")"
   ]
  },
  {
   "cell_type": "markdown",
   "metadata": {
    "id": "f0rvcDQGSm7s"
   },
   "source": [
    "We can then visualize the probabilities given by the model (here red denotes lower-confidence tokens):"
   ]
  },
  {
   "cell_type": "code",
   "execution_count": 0,
   "metadata": {
    "colab": {
     "height": 277
    },
    "id": "jMbUGN3dSmiC",
    "outputId": "7dcf40c0-4ced-4768-cbca-975d6247a5f0"
   },
   "outputs": [
    {
     "data": {
      "text/html": [
       "<span style=\"white-space: pre; font-family: monospace;\">\n",
       "# Write a python function to count number of substrings with the sum of digits equal to their length.\n",
       "\n",
       "from collections import defaultdict\n",
       "def count_Substrings(s,n):\n",
       "    count,sum = 0,0\n",
       "    mp = defaultdict(lambda : 0)\n",
       "    mp[0] += 1</span><span style=\"white-space: pre; font-family: monospace; font-weight: bold\"><span style=\"background-color: rgb(100.0%, 94.15761995115669%, 94.15761995115669%)\">↩\n",
       "</span><span style=\"background-color: rgb(100.0%, 75.07369161321245%, 75.07369161321245%)\"> </span><span style=\"background-color: rgb(100.0%, 99.84012793176063%, 99.84012793176063%)\"> </span><span style=\"background-color: rgb(100.0%, 99.92003199146838%, 99.92003199146838%)\"> </span><span style=\"background-color: rgb(100.0%, 88.763025695677%, 88.763025695677%)\"> for</span><span style=\"background-color: rgb(100.0%, 92.18248877336897%, 92.18248877336897%)\"> i</span><span style=\"background-color: rgb(100.0%, 96.36761353490535%, 96.36761353490535%)\"> in</span><span style=\"background-color: rgb(100.0%, 78.55273525967388%, 78.55273525967388%)\"> range</span><span style=\"background-color: rgb(100.0%, 99.0941279690043%, 99.0941279690043%)\">(</span><span style=\"background-color: rgb(100.0%, 17.9927731568004%, 17.9927731568004%)\">0</span><span style=\"background-color: rgb(100.0%, 99.05449824429004%, 99.05449824429004%)\">,</span><span style=\"background-color: rgb(100.0%, 53.1633998046356%, 53.1633998046356%)\">n</span><span style=\"background-color: rgb(100.0%, 94.7621611873004%, 94.7621611873004%)\">):</span><span style=\"background-color: rgb(100.0%, 98.14737602089659%, 98.14737602089659%)\">↩\n",
       "</span><span style=\"background-color: rgb(100.0%, 98.44226025414599%, 98.44226025414599%)\">        </span><span style=\"background-color: rgb(100.0%, 94.17645335842487%, 94.17645335842487%)\">sum</span><span style=\"background-color: rgb(100.0%, 75.41982609358783%, 75.41982609358783%)\"> +=</span><span style=\"background-color: rgb(100.0%, 29.537781891739844%, 29.537781891739844%)\"> </span><span style=\"background-color: rgb(100.0%, 97.62857097579094%, 97.62857097579094%)\">s</span><span style=\"background-color: rgb(100.0%, 99.93002449428432%, 99.93002449428432%)\">[</span><span style=\"background-color: rgb(100.0%, 99.5908393524931%, 99.5908393524931%)\">i</span><span style=\"background-color: rgb(100.0%, 99.77026429733321%, 99.77026429733321%)\">]</span><span style=\"background-color: rgb(100.0%, 90.01444756870384%, 90.01444756870384%)\">↩\n",
       "</span><span style=\"background-color: rgb(100.0%, 51.07372545380405%, 51.07372545380405%)\">        </span><span style=\"background-color: rgb(100.0%, 27.709357886746727%, 27.709357886746727%)\">count</span><span style=\"background-color: rgb(100.0%, 97.60904721403702%, 97.60904721403702%)\"> +=</span><span style=\"background-color: rgb(100.0%, 98.78741182794751%, 98.78741182794751%)\"> </span><span style=\"background-color: rgb(100.0%, 99.50124791926824%, 99.50124791926824%)\">mp</span><span style=\"background-color: rgb(100.0%, 98.95549325678992%, 98.95549325678992%)\">[</span><span style=\"background-color: rgb(100.0%, 98.7380304684022%, 98.7380304684022%)\">sum</span><span style=\"background-color: rgb(100.0%, 90.78283137792172%, 90.78283137792172%)\">]</span><span style=\"background-color: rgb(100.0%, 96.86034375800998%, 96.86034375800998%)\">↩\n",
       "</span><span style=\"background-color: rgb(100.0%, 98.78741182794751%, 98.78741182794751%)\">        </span><span style=\"background-color: rgb(100.0%, 97.27773999494099%, 97.27773999494099%)\">mp</span><span style=\"background-color: rgb(100.0%, 99.89006047782276%, 99.89006047782276%)\">[</span><span style=\"background-color: rgb(100.0%, 81.59517954225929%, 81.59517954225929%)\">sum</span><span style=\"background-color: rgb(100.0%, 99.0049833749168%, 99.0049833749168%)\">]</span><span style=\"background-color: rgb(100.0%, 99.82016190284372%, 99.82016190284372%)\"> +=</span><span style=\"background-color: rgb(100.0%, 95.59974818331%, 95.59974818331%)\"> </span><span style=\"background-color: rgb(100.0%, 99.95001249791693%, 99.95001249791693%)\">1</span><span style=\"background-color: rgb(100.0%, 97.34585825154576%, 97.34585825154576%)\">↩\n",
       "</span><span style=\"background-color: rgb(100.0%, 81.79942268867133%, 81.79942268867133%)\">    </span><span style=\"background-color: rgb(100.0%, 95.84863093596111%, 95.84863093596111%)\">return</span><span style=\"background-color: rgb(100.0%, 97.80446065677002%, 97.80446065677002%)\"> count</span><span style=\"background-color: rgb(100.0%, 93.07170206022266%, 93.07170206022266%)\">↩\n",
       "</span><span style=\"background-color: rgb(100.0%, 67.75987367137502%, 67.75987367137502%)\">↩\n",
       "</span><span style=\"background-color: rgb(100.0%, 21.73818053151582%, 21.73818053151582%)\">print</span><span style=\"background-color: rgb(100.0%, 90.28489638179302%, 90.28489638179302%)\">(</span><span style=\"background-color: rgb(100.0%, 99.16351814230984%, 99.16351814230984%)\">count</span><span style=\"background-color: rgb(100.0%, 99.96000799893345%, 99.96000799893345%)\">_</span><span style=\"background-color: rgb(100.0%, 99.93002449428432%, 99.93002449428432%)\">Substring</span><span style=\"background-color: rgb(100.0%, 99.95001249791693%, 99.95001249791693%)\">s</span><span style=\"background-color: rgb(100.0%, 50.23289977249746%, 50.23289977249746%)\">(&quot;</span><span style=\"background-color: rgb(100.0%, 11.037186760835194%, 11.037186760835194%)\">abc</span><span style=\"background-color: rgb(100.0%, 38.66250185490707%, 38.66250185490707%)\">&quot;,</span><span style=\"background-color: rgb(100.0%, 13.638138724936324%, 13.638138724936324%)\">4</span><span style=\"background-color: rgb(100.0%, 98.68867379336503%, 98.68867379336503%)\">))</span><span style=\"background-color: rgb(100.0%, 68.9423181395361%, 68.9423181395361%)\">↩\n",
       "</span></span>"
      ],
      "text/plain": [
       "<IPython.core.display.HTML object>"
      ]
     },
     "metadata": {},
     "output_type": "display_data"
    }
   ],
   "source": [
    "runner.show_token_probs(context, one_sample_with_log_probs, parse_and_realign=False)"
   ]
  },
  {
   "cell_type": "markdown",
   "metadata": {
    "id": "O9Qqcra1DaKJ"
   },
   "source": [
    "Note that model tokens might not exactly align with parser tokens, so we first align arbitrary substring probabilities with the parser tokens. Here's the same output after applying our parser:"
   ]
  },
  {
   "cell_type": "code",
   "execution_count": 0,
   "metadata": {
    "colab": {
     "height": 277
    },
    "id": "fJFy8eXCDjMq",
    "outputId": "74ffaf1c-8949-47a5-b3a7-e363fe466dfb"
   },
   "outputs": [
    {
     "data": {
      "text/html": [
       "<span style=\"white-space: pre; font-family: monospace;\">\n",
       "# Write a python function to count number of substrings with the sum of digits equal to their length.\n",
       "\n",
       "from collections import defaultdict\n",
       "def count_Substrings(s,n):\n",
       "    count,sum = 0,0\n",
       "    mp = defaultdict(lambda : 0)\n",
       "    mp[0] += 1</span><span style=\"white-space: pre; font-family: monospace; font-weight: bold\"><span style=\"background-color: rgb(100.0%, 100.0%, 100.0%)\">↩\n",
       "</span><span style=\"background-color: rgb(100.0%, 100.0%, 100.0%)\">    </span><span style=\"background-color: rgb(100.0%, 88.763025695677%, 88.763025695677%)\">for</span><span style=\"background-color: rgb(100.0%, 100.0%, 100.0%)\"> </span><span style=\"background-color: rgb(100.0%, 92.18248877336897%, 92.18248877336897%)\">i</span><span style=\"background-color: rgb(100.0%, 100.0%, 100.0%)\"> </span><span style=\"background-color: rgb(100.0%, 96.36761353490535%, 96.36761353490535%)\">in</span><span style=\"background-color: rgb(100.0%, 100.0%, 100.0%)\"> </span><span style=\"background-color: rgb(100.0%, 78.55273525967388%, 78.55273525967388%)\">range</span><span style=\"background-color: rgb(100.0%, 99.0941279690043%, 99.0941279690043%)\">(</span><span style=\"background-color: rgb(100.0%, 17.9927731568004%, 17.9927731568004%)\">0</span><span style=\"background-color: rgb(100.0%, 99.05449824429004%, 99.05449824429004%)\">,</span><span style=\"background-color: rgb(100.0%, 53.1633998046356%, 53.1633998046356%)\">n</span><span style=\"background-color: rgb(100.0%, 94.7621611873004%, 94.7621611873004%)\">)</span><span style=\"background-color: rgb(100.0%, 94.7621611873004%, 94.7621611873004%)\">:</span><span style=\"background-color: rgb(100.0%, 100.0%, 100.0%)\">↩\n",
       "</span><span style=\"background-color: rgb(100.0%, 98.44226025414599%, 98.44226025414599%)\"></span><span style=\"background-color: rgb(100.0%, 100.0%, 100.0%)\">        </span><span style=\"background-color: rgb(100.0%, 94.17645335842487%, 94.17645335842487%)\">sum</span><span style=\"background-color: rgb(100.0%, 100.0%, 100.0%)\"> </span><span style=\"background-color: rgb(100.0%, 75.41982609358783%, 75.41982609358783%)\">+</span><span style=\"background-color: rgb(100.0%, 75.41982609358783%, 75.41982609358783%)\">=</span><span style=\"background-color: rgb(100.0%, 100.0%, 100.0%)\"> </span><span style=\"background-color: rgb(100.0%, 97.62857097579094%, 97.62857097579094%)\">s</span><span style=\"background-color: rgb(100.0%, 99.93002449428432%, 99.93002449428432%)\">[</span><span style=\"background-color: rgb(100.0%, 99.5908393524931%, 99.5908393524931%)\">i</span><span style=\"background-color: rgb(100.0%, 99.77026429733321%, 99.77026429733321%)\">]</span><span style=\"background-color: rgb(100.0%, 100.0%, 100.0%)\">↩\n",
       "</span><span style=\"background-color: rgb(100.0%, 100.0%, 100.0%)\">        </span><span style=\"background-color: rgb(100.0%, 27.709357886746727%, 27.709357886746727%)\">count</span><span style=\"background-color: rgb(100.0%, 100.0%, 100.0%)\"> </span><span style=\"background-color: rgb(100.0%, 97.60904721403702%, 97.60904721403702%)\">+</span><span style=\"background-color: rgb(100.0%, 97.60904721403702%, 97.60904721403702%)\">=</span><span style=\"background-color: rgb(100.0%, 100.0%, 100.0%)\"> </span><span style=\"background-color: rgb(100.0%, 99.50124791926824%, 99.50124791926824%)\">mp</span><span style=\"background-color: rgb(100.0%, 98.95549325678992%, 98.95549325678992%)\">[</span><span style=\"background-color: rgb(100.0%, 98.7380304684022%, 98.7380304684022%)\">sum</span><span style=\"background-color: rgb(100.0%, 90.78283137792172%, 90.78283137792172%)\">]</span><span style=\"background-color: rgb(100.0%, 100.0%, 100.0%)\">↩\n",
       "</span><span style=\"background-color: rgb(100.0%, 100.0%, 100.0%)\">        </span><span style=\"background-color: rgb(100.0%, 97.27773999494099%, 97.27773999494099%)\">mp</span><span style=\"background-color: rgb(100.0%, 99.89006047782276%, 99.89006047782276%)\">[</span><span style=\"background-color: rgb(100.0%, 81.59517954225929%, 81.59517954225929%)\">sum</span><span style=\"background-color: rgb(100.0%, 99.0049833749168%, 99.0049833749168%)\">]</span><span style=\"background-color: rgb(100.0%, 100.0%, 100.0%)\"> </span><span style=\"background-color: rgb(100.0%, 99.82016190284372%, 99.82016190284372%)\">+</span><span style=\"background-color: rgb(100.0%, 99.82016190284372%, 99.82016190284372%)\">=</span><span style=\"background-color: rgb(100.0%, 100.0%, 100.0%)\"> </span><span style=\"background-color: rgb(100.0%, 99.95001249791693%, 99.95001249791693%)\">1</span><span style=\"background-color: rgb(100.0%, 97.34585825154576%, 97.34585825154576%)\"></span><span style=\"background-color: rgb(100.0%, 100.0%, 100.0%)\">↩\n",
       "</span><span style=\"background-color: rgb(100.0%, 100.0%, 100.0%)\">    </span><span style=\"background-color: rgb(100.0%, 95.84863093596111%, 95.84863093596111%)\">return</span><span style=\"background-color: rgb(100.0%, 100.0%, 100.0%)\"> </span><span style=\"background-color: rgb(100.0%, 97.80446065677002%, 97.80446065677002%)\">count</span><span style=\"background-color: rgb(100.0%, 100.0%, 100.0%)\">↩\n",
       "</span><span style=\"background-color: rgb(100.0%, 67.75987367137502%, 67.75987367137502%)\"></span><span style=\"background-color: rgb(100.0%, 100.0%, 100.0%)\">↩\n",
       "</span><span style=\"background-color: rgb(100.0%, 21.73818053151582%, 21.73818053151582%)\">print</span><span style=\"background-color: rgb(100.0%, 90.28489638179302%, 90.28489638179302%)\">(</span><span style=\"background-color: rgb(100.0%, 99.0049833749168%, 99.0049833749168%)\">count_Substrings</span><span style=\"background-color: rgb(100.0%, 50.23289977249746%, 50.23289977249746%)\">(</span><span style=\"background-color: rgb(100.0%, 50.23289977249746%, 50.23289977249746%)\">&quot;</span><span style=\"background-color: rgb(100.0%, 11.037186760835194%, 11.037186760835194%)\">abc</span><span style=\"background-color: rgb(100.0%, 38.66250185490707%, 38.66250185490707%)\">&quot;</span><span style=\"background-color: rgb(100.0%, 38.66250185490707%, 38.66250185490707%)\">,</span><span style=\"background-color: rgb(100.0%, 13.638138724936324%, 13.638138724936324%)\">4</span><span style=\"background-color: rgb(100.0%, 98.68867379336503%, 98.68867379336503%)\">)</span><span style=\"background-color: rgb(100.0%, 98.68867379336503%, 98.68867379336503%)\">)</span><span style=\"background-color: rgb(100.0%, 100.0%, 100.0%)\">↩\n",
       "</span></span>"
      ],
      "text/plain": [
       "<IPython.core.display.HTML object>"
      ]
     },
     "metadata": {},
     "output_type": "display_data"
    }
   ],
   "source": [
    "runner.show_token_probs(context, one_sample_with_log_probs, parse_and_realign=True)"
   ]
  },
  {
   "cell_type": "markdown",
   "metadata": {
    "id": "LWV9nX5-SsPY"
   },
   "source": [
    "This is used to construct our baseline assignments.\n",
    "\n",
    "Note the following correspondence to the names of the baselines in out research paper:\n",
    "- `prob_threshold_x_nonempty` = \"Token Prob. Thresh x\"\n",
    "- `prob_threshold_x_cumulative` = \"Prefix Prob. Thresh x\"\n",
    "- `example_fraction_x` = \"Example Fraction x\""
   ]
  },
  {
   "cell_type": "code",
   "execution_count": 0,
   "metadata": {
    "id": "uTrZmeFeSwnz"
   },
   "outputs": [],
   "source": [
    "baseline_results = runner.build_baselines(context, one_sample_with_log_probs)"
   ]
  },
  {
   "cell_type": "code",
   "execution_count": 0,
   "metadata": {
    "colab": {
     "height": 1000
    },
    "id": "FKCgoAdqEla0",
    "outputId": "d8af34b3-e937-4921-b963-3bae1846a979"
   },
   "outputs": [
    {
     "name": "stdout",
     "output_type": "stream",
     "text": [
      "==== prob_threshold_0.3_nonempty ====\n"
     ]
    },
    {
     "data": {
      "text/html": [
       "<span style=\"white-space: pre; font-family: monospace; color: #72A0C1;\">\n",
       "# Write a python function to count number of substrings with the sum of digits equal to their length.\n",
       "\n",
       "from collections import defaultdict\n",
       "def count_Substrings(s,n):\n",
       "    count,sum = 0,0\n",
       "    mp = defaultdict(lambda : 0)\n",
       "    mp[0] += 1</span><style>\n",
       "        .regions_root {\n",
       "            white-space: pre;\n",
       "            font-family: monospace;\n",
       "            color: black;\n",
       "            font-weight: bold;\n",
       "        }\n",
       "        .regions_root .in_region {\n",
       "            color: darkorange;\n",
       "            border: solid 1px orange;\n",
       "            border-radius: 3px;\n",
       "            background-color: yellow;\n",
       "        }\n",
       "      </style><span class=\"regions_root\">\n",
       "    for i in range(<span class=\"in_region\">0</span>,n):\n",
       "        sum += s[i]\n",
       "        <span class=\"in_region\">count </span>+= mp[sum]\n",
       "        mp[sum] += 1\n",
       "    return count\n",
       "\n",
       "<span class=\"in_region\">print</span>(count_Substrings(&quot;<span class=\"in_region\">abc</span>&quot;,<span class=\"in_region\">4</span>))\n",
       "</span><br>"
      ],
      "text/plain": [
       "<IPython.core.display.HTML object>"
      ]
     },
     "metadata": {},
     "output_type": "display_data"
    },
    {
     "name": "stdout",
     "output_type": "stream",
     "text": [
      "==== prob_threshold_0.3_cumulative ====\n"
     ]
    },
    {
     "data": {
      "text/html": [
       "<span style=\"white-space: pre; font-family: monospace; color: #72A0C1;\">\n",
       "# Write a python function to count number of substrings with the sum of digits equal to their length.\n",
       "\n",
       "from collections import defaultdict\n",
       "def count_Substrings(s,n):\n",
       "    count,sum = 0,0\n",
       "    mp = defaultdict(lambda : 0)\n",
       "    mp[0] += 1</span><style>\n",
       "        .regions_root {\n",
       "            white-space: pre;\n",
       "            font-family: monospace;\n",
       "            color: black;\n",
       "            font-weight: bold;\n",
       "        }\n",
       "        .regions_root .in_region {\n",
       "            color: darkorange;\n",
       "            border: solid 1px orange;\n",
       "            border-radius: 3px;\n",
       "            background-color: yellow;\n",
       "        }\n",
       "      </style><span class=\"regions_root\">\n",
       "    for i in range<span class=\"in_region\">(0,n):\n",
       "</span><span class=\"in_region\">        sum += s[i]\n",
       "        count += mp[sum]\n",
       "        mp[sum] += 1</span>\n",
       "    <span class=\"in_region\">return count\n",
       "</span>\n",
       "<span class=\"in_region\">print(count_Substrings(&quot;abc&quot;,4))\n",
       "</span></span><br>"
      ],
      "text/plain": [
       "<IPython.core.display.HTML object>"
      ]
     },
     "metadata": {},
     "output_type": "display_data"
    },
    {
     "name": "stdout",
     "output_type": "stream",
     "text": [
      "==== prob_threshold_0.5_nonempty ====\n"
     ]
    },
    {
     "data": {
      "text/html": [
       "<span style=\"white-space: pre; font-family: monospace; color: #72A0C1;\">\n",
       "# Write a python function to count number of substrings with the sum of digits equal to their length.\n",
       "\n",
       "from collections import defaultdict\n",
       "def count_Substrings(s,n):\n",
       "    count,sum = 0,0\n",
       "    mp = defaultdict(lambda : 0)\n",
       "    mp[0] += 1</span><style>\n",
       "        .regions_root {\n",
       "            white-space: pre;\n",
       "            font-family: monospace;\n",
       "            color: black;\n",
       "            font-weight: bold;\n",
       "        }\n",
       "        .regions_root .in_region {\n",
       "            color: darkorange;\n",
       "            border: solid 1px orange;\n",
       "            border-radius: 3px;\n",
       "            background-color: yellow;\n",
       "        }\n",
       "      </style><span class=\"regions_root\">\n",
       "    for i in range(<span class=\"in_region\">0</span>,n):\n",
       "        sum += s[i]\n",
       "        <span class=\"in_region\">count </span>+= mp[sum]\n",
       "        mp[sum] += 1\n",
       "    return count\n",
       "\n",
       "<span class=\"in_region\">print</span>(count_Substrings(<span class=\"in_region\">&quot;abc&quot;,4</span>))\n",
       "</span><br>"
      ],
      "text/plain": [
       "<IPython.core.display.HTML object>"
      ]
     },
     "metadata": {},
     "output_type": "display_data"
    },
    {
     "name": "stdout",
     "output_type": "stream",
     "text": [
      "==== prob_threshold_0.5_cumulative ====\n"
     ]
    },
    {
     "data": {
      "text/html": [
       "<span style=\"white-space: pre; font-family: monospace; color: #72A0C1;\">\n",
       "# Write a python function to count number of substrings with the sum of digits equal to their length.\n",
       "\n",
       "from collections import defaultdict\n",
       "def count_Substrings(s,n):\n",
       "    count,sum = 0,0\n",
       "    mp = defaultdict(lambda : 0)\n",
       "    mp[0] += 1</span><style>\n",
       "        .regions_root {\n",
       "            white-space: pre;\n",
       "            font-family: monospace;\n",
       "            color: black;\n",
       "            font-weight: bold;\n",
       "        }\n",
       "        .regions_root .in_region {\n",
       "            color: darkorange;\n",
       "            border: solid 1px orange;\n",
       "            border-radius: 3px;\n",
       "            background-color: yellow;\n",
       "        }\n",
       "      </style><span class=\"regions_root\">\n",
       "    for i in range<span class=\"in_region\">(0,n):\n",
       "</span><span class=\"in_region\">        sum += s[i]\n",
       "        count += mp[sum]\n",
       "        mp[sum] += 1</span>\n",
       "    <span class=\"in_region\">return count\n",
       "</span>\n",
       "<span class=\"in_region\">print(count_Substrings(&quot;abc&quot;,4))\n",
       "</span></span><br>"
      ],
      "text/plain": [
       "<IPython.core.display.HTML object>"
      ]
     },
     "metadata": {},
     "output_type": "display_data"
    },
    {
     "name": "stdout",
     "output_type": "stream",
     "text": [
      "==== prob_threshold_0.7_nonempty ====\n"
     ]
    },
    {
     "data": {
      "text/html": [
       "<span style=\"white-space: pre; font-family: monospace; color: #72A0C1;\">\n",
       "# Write a python function to count number of substrings with the sum of digits equal to their length.\n",
       "\n",
       "from collections import defaultdict\n",
       "def count_Substrings(s,n):\n",
       "    count,sum = 0,0\n",
       "    mp = defaultdict(lambda : 0)\n",
       "    mp[0] += 1</span><style>\n",
       "        .regions_root {\n",
       "            white-space: pre;\n",
       "            font-family: monospace;\n",
       "            color: black;\n",
       "            font-weight: bold;\n",
       "        }\n",
       "        .regions_root .in_region {\n",
       "            color: darkorange;\n",
       "            border: solid 1px orange;\n",
       "            border-radius: 3px;\n",
       "            background-color: yellow;\n",
       "        }\n",
       "      </style><span class=\"regions_root\">\n",
       "    for i in range(<span class=\"in_region\">0,n</span>):\n",
       "        sum += s[i]\n",
       "        <span class=\"in_region\">count </span>+= mp[sum]\n",
       "        mp[sum] += 1\n",
       "    return count\n",
       "\n",
       "<span class=\"in_region\">print</span>(count_Substrings<span class=\"in_region\">(&quot;abc&quot;,4)</span>)\n",
       "</span><br>"
      ],
      "text/plain": [
       "<IPython.core.display.HTML object>"
      ]
     },
     "metadata": {},
     "output_type": "display_data"
    },
    {
     "name": "stdout",
     "output_type": "stream",
     "text": [
      "==== prob_threshold_0.7_cumulative ====\n"
     ]
    },
    {
     "data": {
      "text/html": [
       "<span style=\"white-space: pre; font-family: monospace; color: #72A0C1;\">\n",
       "# Write a python function to count number of substrings with the sum of digits equal to their length.\n",
       "\n",
       "from collections import defaultdict\n",
       "def count_Substrings(s,n):\n",
       "    count,sum = 0,0\n",
       "    mp = defaultdict(lambda : 0)\n",
       "    mp[0] += 1</span><style>\n",
       "        .regions_root {\n",
       "            white-space: pre;\n",
       "            font-family: monospace;\n",
       "            color: black;\n",
       "            font-weight: bold;\n",
       "        }\n",
       "        .regions_root .in_region {\n",
       "            color: darkorange;\n",
       "            border: solid 1px orange;\n",
       "            border-radius: 3px;\n",
       "            background-color: yellow;\n",
       "        }\n",
       "      </style><span class=\"regions_root\">\n",
       "    for i in <span class=\"in_region\">range(0,n):\n",
       "</span><span class=\"in_region\">        sum += s[i]\n",
       "        count += mp[sum]\n",
       "        mp[sum] += 1</span>\n",
       "    <span class=\"in_region\">return count\n",
       "</span>\n",
       "<span class=\"in_region\">print(count_Substrings(&quot;abc&quot;,4))\n",
       "</span></span><br>"
      ],
      "text/plain": [
       "<IPython.core.display.HTML object>"
      ]
     },
     "metadata": {},
     "output_type": "display_data"
    },
    {
     "name": "stdout",
     "output_type": "stream",
     "text": [
      "==== prob_threshold_0.9_nonempty ====\n"
     ]
    },
    {
     "data": {
      "text/html": [
       "<span style=\"white-space: pre; font-family: monospace; color: #72A0C1;\">\n",
       "# Write a python function to count number of substrings with the sum of digits equal to their length.\n",
       "\n",
       "from collections import defaultdict\n",
       "def count_Substrings(s,n):\n",
       "    count,sum = 0,0\n",
       "    mp = defaultdict(lambda : 0)\n",
       "    mp[0] += 1</span><style>\n",
       "        .regions_root {\n",
       "            white-space: pre;\n",
       "            font-family: monospace;\n",
       "            color: black;\n",
       "            font-weight: bold;\n",
       "        }\n",
       "        .regions_root .in_region {\n",
       "            color: darkorange;\n",
       "            border: solid 1px orange;\n",
       "            border-radius: 3px;\n",
       "            background-color: yellow;\n",
       "        }\n",
       "      </style><span class=\"regions_root\">\n",
       "    <span class=\"in_region\">for </span>i in <span class=\"in_region\">range(0,n)</span>:\n",
       "        sum <span class=\"in_region\">+= </span>s[i]\n",
       "        <span class=\"in_region\">count </span>+= mp[sum]\n",
       "        mp[<span class=\"in_region\">sum</span>] += 1\n",
       "    return count\n",
       "\n",
       "<span class=\"in_region\">print</span>(count_Substrings<span class=\"in_region\">(&quot;abc&quot;,4)</span>)\n",
       "</span><br>"
      ],
      "text/plain": [
       "<IPython.core.display.HTML object>"
      ]
     },
     "metadata": {},
     "output_type": "display_data"
    },
    {
     "name": "stdout",
     "output_type": "stream",
     "text": [
      "==== prob_threshold_0.9_cumulative ====\n"
     ]
    },
    {
     "data": {
      "text/html": [
       "<span style=\"white-space: pre; font-family: monospace; color: #72A0C1;\">\n",
       "# Write a python function to count number of substrings with the sum of digits equal to their length.\n",
       "\n",
       "from collections import defaultdict\n",
       "def count_Substrings(s,n):\n",
       "    count,sum = 0,0\n",
       "    mp = defaultdict(lambda : 0)\n",
       "    mp[0] += 1</span><style>\n",
       "        .regions_root {\n",
       "            white-space: pre;\n",
       "            font-family: monospace;\n",
       "            color: black;\n",
       "            font-weight: bold;\n",
       "        }\n",
       "        .regions_root .in_region {\n",
       "            color: darkorange;\n",
       "            border: solid 1px orange;\n",
       "            border-radius: 3px;\n",
       "            background-color: yellow;\n",
       "        }\n",
       "      </style><span class=\"regions_root\">\n",
       "<span class=\"in_region\">    for i in range(0,n):\n",
       "        sum += s[i]\n",
       "        count += mp[sum]\n",
       "        mp[sum] += 1\n",
       "    return count\n",
       "</span>\n",
       "<span class=\"in_region\">print(count_Substrings(&quot;abc&quot;,4))\n",
       "</span></span><br>"
      ],
      "text/plain": [
       "<IPython.core.display.HTML object>"
      ]
     },
     "metadata": {},
     "output_type": "display_data"
    },
    {
     "name": "stdout",
     "output_type": "stream",
     "text": [
      "==== example_fraction_0.0 ====\n"
     ]
    },
    {
     "data": {
      "text/html": [
       "<span style=\"white-space: pre; font-family: monospace; color: #72A0C1;\">\n",
       "# Write a python function to count number of substrings with the sum of digits equal to their length.\n",
       "\n",
       "from collections import defaultdict\n",
       "def count_Substrings(s,n):\n",
       "    count,sum = 0,0\n",
       "    mp = defaultdict(lambda : 0)\n",
       "    mp[0] += 1</span><style>\n",
       "        .regions_root {\n",
       "            white-space: pre;\n",
       "            font-family: monospace;\n",
       "            color: black;\n",
       "            font-weight: bold;\n",
       "        }\n",
       "        .regions_root .in_region {\n",
       "            color: darkorange;\n",
       "            border: solid 1px orange;\n",
       "            border-radius: 3px;\n",
       "            background-color: yellow;\n",
       "        }\n",
       "      </style><span class=\"regions_root\">\n",
       "<span class=\"in_region\">    for i in range(0,n):\n",
       "        sum += s[i]\n",
       "        count += mp[sum]\n",
       "        mp[sum] += 1\n",
       "    return count\n",
       "</span>\n",
       "<span class=\"in_region\">print(count_Substrings(&quot;abc&quot;,4))\n",
       "</span></span><br>"
      ],
      "text/plain": [
       "<IPython.core.display.HTML object>"
      ]
     },
     "metadata": {},
     "output_type": "display_data"
    },
    {
     "name": "stdout",
     "output_type": "stream",
     "text": [
      "==== example_fraction_0.5 ====\n"
     ]
    },
    {
     "data": {
      "text/html": [
       "<span style=\"white-space: pre; font-family: monospace; color: #72A0C1;\">\n",
       "# Write a python function to count number of substrings with the sum of digits equal to their length.\n",
       "\n",
       "from collections import defaultdict\n",
       "def count_Substrings(s,n):\n",
       "    count,sum = 0,0\n",
       "    mp = defaultdict(lambda : 0)\n",
       "    mp[0] += 1</span><style>\n",
       "        .regions_root {\n",
       "            white-space: pre;\n",
       "            font-family: monospace;\n",
       "            color: black;\n",
       "            font-weight: bold;\n",
       "        }\n",
       "        .regions_root .in_region {\n",
       "            color: darkorange;\n",
       "            border: solid 1px orange;\n",
       "            border-radius: 3px;\n",
       "            background-color: yellow;\n",
       "        }\n",
       "      </style><span class=\"regions_root\">\n",
       "    for i in range(0,n):\n",
       "        sum += s[i]\n",
       "        count += mp[sum]\n",
       "        <span class=\"in_region\">mp[sum] += 1</span>\n",
       "    <span class=\"in_region\">return count\n",
       "</span>\n",
       "<span class=\"in_region\">print(count_Substrings(&quot;abc&quot;,4))\n",
       "</span></span><br>"
      ],
      "text/plain": [
       "<IPython.core.display.HTML object>"
      ]
     },
     "metadata": {},
     "output_type": "display_data"
    },
    {
     "name": "stdout",
     "output_type": "stream",
     "text": [
      "==== example_fraction_1.0 ====\n"
     ]
    },
    {
     "data": {
      "text/html": [
       "<span style=\"white-space: pre; font-family: monospace; color: #72A0C1;\">\n",
       "# Write a python function to count number of substrings with the sum of digits equal to their length.\n",
       "\n",
       "from collections import defaultdict\n",
       "def count_Substrings(s,n):\n",
       "    count,sum = 0,0\n",
       "    mp = defaultdict(lambda : 0)\n",
       "    mp[0] += 1</span><style>\n",
       "        .regions_root {\n",
       "            white-space: pre;\n",
       "            font-family: monospace;\n",
       "            color: black;\n",
       "            font-weight: bold;\n",
       "        }\n",
       "        .regions_root .in_region {\n",
       "            color: darkorange;\n",
       "            border: solid 1px orange;\n",
       "            border-radius: 3px;\n",
       "            background-color: yellow;\n",
       "        }\n",
       "      </style><span class=\"regions_root\">\n",
       "    for i in range(0,n):\n",
       "        sum += s[i]\n",
       "        count += mp[sum]\n",
       "        mp[sum] += 1\n",
       "    return count\n",
       "\n",
       "print(count_Substrings(&quot;abc&quot;,4))\n",
       "</span><br>"
      ],
      "text/plain": [
       "<IPython.core.display.HTML object>"
      ]
     },
     "metadata": {},
     "output_type": "display_data"
    }
   ],
   "source": [
    "for name, baseline_result in baseline_results.items():\n",
    "  print(f\"==== {name} ====\")\n",
    "  runner.show_suggestion(baseline_result)"
   ]
  },
  {
   "cell_type": "code",
   "execution_count": 0,
   "metadata": {
    "id": "ot8SXopbEt9A"
   },
   "outputs": [],
   "source": []
  }
 ],
 "metadata": {
  "colab": {
   "collapsed_sections": [
    "JndnmDMp66FL"
   ]
  },
  "kernelspec": {
   "display_name": "Python 3",
   "name": "python3"
  },
  "language_info": {
   "name": "python"
  }
 },
 "nbformat": 4,
 "nbformat_minor": 0
}
