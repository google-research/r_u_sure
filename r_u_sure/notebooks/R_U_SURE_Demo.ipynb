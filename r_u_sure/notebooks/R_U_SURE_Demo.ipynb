{
  "cells": [
    {
      "cell_type": "markdown",
      "metadata": {
        "id": "JndnmDMp66FL"
      },
      "source": [
        "##### Copyright 2023 Google LLC.\n",
        "\n",
        "Licensed under the Apache License, Version 2.0 (the \"License\");"
      ]
    },
    {
      "cell_type": "code",
      "execution_count": null,
      "metadata": {
        "id": "hMqWDc_m6rUC"
      },
      "outputs": [],
      "source": [
        "# Licensed under the Apache License, Version 2.0 (the \"License\");\n",
        "# you may not use this file except in compliance with the License.\n",
        "# You may obtain a copy of the License at\n",
        "#\n",
        "# https://www.apache.org/licenses/LICENSE-2.0\n",
        "#\n",
        "# Unless required by applicable law or agreed to in writing, software\n",
        "# distributed under the License is distributed on an \"AS IS\" BASIS,\n",
        "# WITHOUT WARRANTIES OR CONDITIONS OF ANY KIND, either express or implied.\n",
        "# See the License for the specific language governing permissions and\n",
        "# limitations under the License."
      ]
    },
    {
      "cell_type": "markdown",
      "metadata": {
        "id": "4LorQSEhzlcm"
      },
      "source": [
        "# R-U-SURE Demo"
      ]
    },
    {
      "cell_type": "markdown",
      "metadata": {
        "id": "ELi92Zo3XKZC"
      },
      "source": [
        "[![Open In Colab](https://colab.research.google.com/assets/colab-badge.svg)](https://colab.research.google.com/github/google-research/r_u_sure/r_u_sure/notebooks/R_U_SURE_Demo.ipynb)"
      ]
    },
    {
      "cell_type": "markdown",
      "metadata": {
        "id": "PnRgJ_hGzrB4"
      },
      "source": [
        "This notebook demonstrates how to use R-U-SURE to combine multiple code suggestions from a generative model of code."
      ]
    },
    {
      "cell_type": "markdown",
      "metadata": {
        "id": "6OVK5uQuzwy6"
      },
      "source": [
        "## Setup"
      ]
    },
    {
      "cell_type": "markdown",
      "metadata": {
        "id": "1F9Ra5mJ9Eg-"
      },
      "source": [
        "### Installation"
      ]
    },
    {
      "cell_type": "markdown",
      "metadata": {
        "id": "kqOBHS9-z5g_"
      },
      "source": [
        "To run this notebook, you need a Python environment with `r_u_sure` installed. \n",
        "\n",
        "If you are running this from Colab, you can install it by running the following command:"
      ]
    },
    {
      "cell_type": "code",
      "execution_count": null,
      "metadata": {
        "id": "7N0vnG7suL-m"
      },
      "outputs": [],
      "source": [
        "try:\n",
        "  import r_u_sure\n",
        "except ImportError:\n",
        "  try:\n",
        "    import google.colab\n",
        "    in_colab = True\n",
        "  except ImportError:\n",
        "    in_colab = False\n",
        "  \n",
        "  if in_colab:\n",
        "    print(\"Installing r_u_sure from GitHub...\")\n",
        "    !pip install \"r_u_sure @ git+https://github.com/google-research/r_u_sure\"\n",
        "  else:\n",
        "    # Don't install in this case, to avoid messing up the python environment.\n",
        "    print(\"WARNING: Not running in Colab and r_u_sure not found. \"\n",
        "          \"Please install r_u_sure following the instructions in the README.\")\n",
        "    raise"
      ]
    },
    {
      "cell_type": "markdown",
      "metadata": {
        "id": "1bzZUo248iHL"
      },
      "source": [
        "### Imports"
      ]
    },
    {
      "cell_type": "code",
      "execution_count": null,
      "metadata": {
        "id": "F6WVQ02g3BP-"
      },
      "outputs": [],
      "source": [
        "import numpy as np\n",
        "from IPython import display\n",
        "\n",
        "%matplotlib inline\n",
        "\n",
        "from r_u_sure.notebooks import demo_examples\n",
        "from r_u_sure.wrappers import demo_runner\n",
        "\n",
        "from r_u_sure.wrappers import uncertainty_regions_wrapper\n",
        "from r_u_sure.wrappers import prefix_truncation_wrapper\n",
        "from r_u_sure.wrappers import call_sequence_wrapper"
      ]
    },
    {
      "cell_type": "markdown",
      "metadata": {
        "id": "uU0RnbRB8mxm"
      },
      "source": [
        "## Combining model samples"
      ]
    },
    {
      "cell_type": "markdown",
      "metadata": {
        "id": "66cZ3gAZ9G76"
      },
      "source": [
        "The first step is to configure the R-U-SURE system for the task you want to accomplish. There are three task wrappers that make it easy to run in the three configurations described in the paper:\n",
        "\n",
        "- `UncertaintyRegionsWrapper` (denoted  R-U-SURE (Region) in our research paper) inserts UNSURE annotations around code that is likely to differ between the suggestion prototype and the user intent.\n",
        "- `PrefixByEditDistanceWrapper` (denoted  R-U-SURE (Prefix) and R-U-SURE (Prefix+Region) in our research paper) chooses a truncation point to remove parts of the suggestion that are too uncertain, and can optionally also insert UNSURE annotations in the remaining suggestion.\n",
        "- `ApiCallSequenceWrapper` (denoted  R-U-SURE (API) in our research paper) preprocesses the code suggestions to extract function and method calls, and then annotates the most-likely subset of those calls (and possibly their arguments and assigned variable names) as SURE.\n",
        "\n",
        "For interactive use, we provide a `DemoRunner` class that makes it easier to use each of these wrappers."
      ]
    },
    {
      "cell_type": "code",
      "execution_count": null,
      "metadata": {
        "id": "9gIqV2yE8lJC"
      },
      "outputs": [],
      "source": [
        "# Building the decision diagrams with numba is faster after JIT compilation,\n",
        "# but has a slower startup time.\n",
        "use_numba = False\n",
        "\n",
        "# Try uncommenting a different wrapper to apply the approach to a\n",
        "# different task.\n",
        "\n",
        "# Put an UNSURE region around parts with less than 70% chance of being kept.\n",
        "wrapper = uncertainty_regions_wrapper.UncertaintyRegionsWrapper(\n",
        "    effective_precision=0.7,\n",
        "    use_numba=use_numba,\n",
        ")\n",
        "\n",
        "# Truncate suggestion once the majority of the remaining suggestion is likely to\n",
        "# be deleted.\n",
        "# wrapper = prefix_truncation_wrapper.PrefixByEditDistanceWrapper(\n",
        "#     use_numba=use_numba\n",
        "# )\n",
        "\n",
        "# Truncate suggestion and also add UNSURE regions.\n",
        "# wrapper = prefix_truncation_wrapper.PrefixByEditDistanceWrapper(\n",
        "#     use_numba=use_numba,\n",
        "#     also_insert_uncertainty_regions=True,\n",
        "# )\n",
        "\n",
        "# Extract likely function and API calls from the suggestions.\n",
        "# wrapper = call_sequence_wrapper.ApiCallSequenceWrapper(use_numba=use_numba)"
      ]
    },
    {
      "cell_type": "code",
      "execution_count": null,
      "metadata": {
        "id": "yyFsjioVgsBd"
      },
      "outputs": [],
      "source": [
        "# We support python, cpp, java, and javascript. You can also use \"simple\" to\n",
        "# just perform simple bracket matching.\n",
        "runner = demo_runner.DemoRunner(wrapper, language=\"python\")"
      ]
    },
    {
      "cell_type": "markdown",
      "metadata": {
        "id": "IUkHQBd7_tO0"
      },
      "source": [
        "The next step is to collect:\n",
        "- the context, represented as the contents of a file up until a particular cursor position,\n",
        "- a set of model suggestions returned by a generative model of code, conditioned on the context. It should be possible to concatenate each of these suggestions to the context to obtain a valid continuation of the context. *(Note: Our parser is error-tolerant, so it's OK if the model suggestions end in the middle of an expression or statement. However, it is assumed that the **first part** of each suggestion is parseable when concatenated with the context.)*\n",
        "\n",
        "For this demo, we've collected a few contexts with the corresponding outputs of a code generative model. You can also insert outputs of any other generative model here, or add logic to query a generative model through an API."
      ]
    },
    {
      "cell_type": "code",
      "execution_count": null,
      "metadata": {
        "id": "PIT0OLUC_wBo",
        "outputId": "ec1c7aed-76ba-4393-f730-dacc8c049b97"
      },
      "outputs": [
        {
          "name": "stdout",
          "output_type": "stream",
          "text": [
            "['token_conf_json', 'sqlite_matplotlib', 'mbpp_24', 'mbpp_61', 'jax_optax']\n"
          ]
        }
      ],
      "source": [
        "print(list(demo_examples.MODEL_OUTPUTS.keys()))"
      ]
    },
    {
      "cell_type": "code",
      "execution_count": null,
      "metadata": {
        "id": "cENQtX57hT5J"
      },
      "outputs": [],
      "source": [
        "demo_example_key = \"mbpp_61\"\n",
        "context, model_samples = demo_examples.get_context_and_sources(demo_example_key)"
      ]
    },
    {
      "cell_type": "code",
      "execution_count": null,
      "metadata": {
        "id": "w9-Eg7SMDsFK",
        "outputId": "afd7f3ec-fc1a-4ea9-9711-63868982f8c6"
      },
      "outputs": [
        {
          "name": "stdout",
          "output_type": "stream",
          "text": [
            "================================================================================\n",
            "context\n",
            "================================================================================\n",
            "\n",
            "# Write a python function to count number of substrings with the sum of digits equal to their length.\n",
            "\n",
            "from collections import defaultdict\n",
            "def count_Substrings(s,n):\n",
            "    count,sum = 0,0\n",
            "    mp = defaultdict(lambda : 0)\n",
            "    mp[0] += 1\n",
            "================================================================================\n",
            "sample 0\n",
            "================================================================================\n",
            "\n",
            "    for i in range(0,n):\n",
            "        sum += s[i]\n",
            "        count += mp[sum]\n",
            "        mp[sum] += 1\n",
            "    return count\n",
            "\n",
            "print(count_Substrings(\"abc\",4))\n",
            "\n",
            "================================================================================\n",
            "sample 1\n",
            "================================================================================\n",
            "\n",
            "    for i in range(n):\n",
            "        sum += s[i]\n",
            "        mp[sum] += 1\n",
            "        count += mp[sum]\n",
            "    return count\n",
            "\n"
          ]
        }
      ],
      "source": [
        "print(\"=\" * 80 + \"\\ncontext\\n\" + \"=\" * 80)\n",
        "print(context)\n",
        "print(\"=\" * 80 + \"\\nsample 0\\n\" + \"=\" * 80)\n",
        "print(model_samples[0])\n",
        "print(\"=\" * 80 + \"\\nsample 1\\n\" + \"=\" * 80)\n",
        "print(model_samples[1])"
      ]
    },
    {
      "cell_type": "markdown",
      "metadata": {
        "id": "SrXLnK-OBJMe"
      },
      "source": [
        "Now we can pass these inputs to the selected task wrapper and use it to generate a suggestion. By default, our demo runner uses the *first* sample as the suggestion prototype; the suggestion will always be derived from this first sample. (This can be customized using the `prototype_index` argument.)\n",
        "\n",
        "For interactive use, you may want to only process a subset of the samples, since building the decision diagrams for additional samples leads to longer runtime. (There will also be some warm-up time for the first call, as the relevant functions are jit-compiled.)"
      ]
    },
    {
      "cell_type": "code",
      "execution_count": null,
      "metadata": {
        "id": "yl_7FpYlBO8X"
      },
      "outputs": [],
      "source": [
        "max_num_samples = 8\n",
        "\n",
        "combine_result = runner.combine(\n",
        "    context=context,\n",
        "    samples=model_samples[:max_num_samples],\n",
        "    prototype_index=0,\n",
        ")"
      ]
    },
    {
      "cell_type": "code",
      "execution_count": null,
      "metadata": {
        "colab": {
          "height": 295
        },
        "id": "e-40Wlc4iabz",
        "outputId": "0fed4fb1-3ed7-4d36-c5cc-5bd9fd506779"
      },
      "outputs": [
        {
          "data": {
            "text/html": [
              "\u003cspan style=\"white-space: pre; font-family: monospace; color: #72A0C1;\"\u003e\n",
              "# Write a python function to count number of substrings with the sum of digits equal to their length.\n",
              "\n",
              "from collections import defaultdict\n",
              "def count_Substrings(s,n):\n",
              "    count,sum = 0,0\n",
              "    mp = defaultdict(lambda : 0)\n",
              "    mp[0] += 1\u003c/span\u003e\u003cstyle\u003e\n",
              "        .regions_root {\n",
              "            white-space: pre;\n",
              "            font-family: monospace;\n",
              "            color: black;\n",
              "            font-weight: bold;\n",
              "        }\n",
              "        .regions_root .in_region {\n",
              "            color: darkorange;\n",
              "            border: solid 1px orange;\n",
              "            border-radius: 3px;\n",
              "            background-color: yellow;\n",
              "        }\n",
              "      \u003c/style\u003e\u003cspan class=\"regions_root\"\u003e\n",
              "\u003cspan class=\"in_region\"\u003e︙\u003c/span\u003e    for i in range(\u003cspan class=\"in_region\"\u003e0,n\u003c/span\u003e):\n",
              "        sum += \u003cspan class=\"in_region\"\u003es[i]\n",
              "        count += mp[sum]\n",
              "\u003c/span\u003e        mp[sum] += 1\u003cspan class=\"in_region\"\u003e︙\u003c/span\u003e\n",
              "    return count\n",
              "\n",
              "\u003cspan class=\"in_region\"\u003eprint(count_Substrings(\u0026quot;abc\u0026quot;,4))\n",
              "\u003c/span\u003e\u003c/span\u003e\u003cbr\u003e"
            ],
            "text/plain": [
              "\u003cIPython.core.display.HTML object\u003e"
            ]
          },
          "metadata": {},
          "output_type": "display_data"
        }
      ],
      "source": [
        "runner.show_suggestion(combine_result)"
      ]
    },
    {
      "cell_type": "markdown",
      "metadata": {
        "id": "wUCYqtiwBPXQ"
      },
      "source": [
        "The output above is the formatted version of the suggestion, and the \"︙\" token represents a location that code might need to be inserted (a length-zero UNSURE region).\n",
        "\n",
        "We can also extract the suggestion as a list of tagged substrings of the form `(substring, is_unsure)`:"
      ]
    },
    {
      "cell_type": "code",
      "execution_count": null,
      "metadata": {
        "id": "JphBlhgyBanJ",
        "outputId": "62714d17-14bd-4775-edf2-03916d3d715b"
      },
      "outputs": [
        {
          "data": {
            "text/plain": [
              "[('\\n', False),\n",
              " ('', True),\n",
              " ('    for i in range(', False),\n",
              " ('0,n', True),\n",
              " ('):\\n        sum += ', False),\n",
              " ('s[i]\\n        count += mp[sum]\\n', True),\n",
              " ('        mp[sum] += 1', False),\n",
              " ('', True),\n",
              " ('\\n    return count\\n\\n', False),\n",
              " ('print(count_Substrings(\"abc\",4))\\n', True)]"
            ]
          },
          "execution_count": 0,
          "metadata": {},
          "output_type": "execute_result"
        }
      ],
      "source": [
        "runner.get_extracted_parts(combine_result)"
      ]
    },
    {
      "cell_type": "markdown",
      "metadata": {
        "id": "SZqGL6rmB8a2"
      },
      "source": [
        "And, for each model sample, we can visualize the inferred edits between the suggestion and that sample. (Note: Whitespace is ignored when computing edits, so the formatting below may not be correct. Also, ፠ denotes the start of an inferred edit, which is used to handle localization penalties and track insertions.)"
      ]
    },
    {
      "cell_type": "code",
      "execution_count": null,
      "metadata": {
        "colab": {
          "height": 1000
        },
        "id": "4Os8VvaECNTC",
        "outputId": "b08d837d-9e47-4dd7-f1b6-e198f2893724"
      },
      "outputs": [
        {
          "data": {
            "text/html": [
              "========== Target 0 ==========\u003cbr\u003e\u003cspan style=\"white-space: pre; font-family: monospace;\"\u003e\n",
              "# Write a python function to count number of substrings with the sum of digits equal to their length.\n",
              "\n",
              "from collections import defaultdict\n",
              "def count_Substrings(s,n):\n",
              "    count,sum = 0,0\n",
              "    mp = defaultdict(lambda : 0)\n",
              "    mp[0] += 1\u003c/span\u003e\u003cstyle\u003e\n",
              ".edit_sequence_root {\n",
              "    white-space: pre;\n",
              "    font-family: monospace;\n",
              "}\n",
              ".edit_sequence_root .prefix {\n",
              "    font-weight: bold;\n",
              "    color: black;\n",
              "}\n",
              ".edit_sequence_root .high_confidence,\n",
              ".edit_sequence_root .insert.was_high_confidence{\n",
              "    font-weight: normal;\n",
              "}\n",
              ".edit_sequence_root .low_confidence,\n",
              ".edit_sequence_root .insert.was_low_confidence {\n",
              "    font-weight: normal;\n",
              "    background-color: #ffcc99;\n",
              "}\n",
              ".edit_sequence_root .keep {\n",
              "    color: black;\n",
              "}\n",
              ".edit_sequence_root .delete {\n",
              "    color: darkred;\n",
              "    text-decoration: line-through;\n",
              "}\n",
              ".edit_sequence_root .insert {\n",
              "    color: darkgreen;\n",
              "    text-decoration: underline;\n",
              "    font-weight: normal;\n",
              "}\n",
              ".edit_sequence_root .start_editing {\n",
              "    color: red;\n",
              "    font-weight: bold;\n",
              "}\n",
              "\u003c/style\u003e\u003cspan class=\"edit_sequence_root\"\u003e\u003cspan class=\"prefix\"\u003e\u003c/span\u003e\u003cspan class=\"keep high_confidence\"\u003e\n",
              "\u003c/span\u003e\u003cspan class=\"keep high_confidence\"\u003e    for i in range(\u003c/span\u003e\u003cspan class=\"keep low_confidence\"\u003e0,n\u003c/span\u003e\u003cspan class=\"keep high_confidence\"\u003e):\n",
              "        sum += \u003c/span\u003e\u003cspan class=\"keep low_confidence\"\u003es[i]\n",
              "\u003c/span\u003e\u003cspan class=\"keep low_confidence\"\u003e        count += mp[sum]\n",
              "\u003c/span\u003e\u003cspan class=\"keep high_confidence\"\u003e        mp[sum] += 1\u003c/span\u003e\u003cspan class=\"keep high_confidence\"\u003e\n",
              "    return count\n",
              "\n",
              "\u003c/span\u003e\u003cspan class=\"keep low_confidence\"\u003eprint(count_Substrings(\u0026quot;abc\u0026quot;,4))\n",
              "\u003c/span\u003e\u003c/span\u003e\u003cbr\u003e========== Target 1 ==========\u003cbr\u003e\u003cspan style=\"white-space: pre; font-family: monospace;\"\u003e\n",
              "# Write a python function to count number of substrings with the sum of digits equal to their length.\n",
              "\n",
              "from collections import defaultdict\n",
              "def count_Substrings(s,n):\n",
              "    count,sum = 0,0\n",
              "    mp = defaultdict(lambda : 0)\n",
              "    mp[0] += 1\u003c/span\u003e\u003cstyle\u003e\n",
              ".edit_sequence_root {\n",
              "    white-space: pre;\n",
              "    font-family: monospace;\n",
              "}\n",
              ".edit_sequence_root .prefix {\n",
              "    font-weight: bold;\n",
              "    color: black;\n",
              "}\n",
              ".edit_sequence_root .high_confidence,\n",
              ".edit_sequence_root .insert.was_high_confidence{\n",
              "    font-weight: normal;\n",
              "}\n",
              ".edit_sequence_root .low_confidence,\n",
              ".edit_sequence_root .insert.was_low_confidence {\n",
              "    font-weight: normal;\n",
              "    background-color: #ffcc99;\n",
              "}\n",
              ".edit_sequence_root .keep {\n",
              "    color: black;\n",
              "}\n",
              ".edit_sequence_root .delete {\n",
              "    color: darkred;\n",
              "    text-decoration: line-through;\n",
              "}\n",
              ".edit_sequence_root .insert {\n",
              "    color: darkgreen;\n",
              "    text-decoration: underline;\n",
              "    font-weight: normal;\n",
              "}\n",
              ".edit_sequence_root .start_editing {\n",
              "    color: red;\n",
              "    font-weight: bold;\n",
              "}\n",
              "\u003c/style\u003e\u003cspan class=\"edit_sequence_root\"\u003e\u003cspan class=\"prefix\"\u003e\u003c/span\u003e\u003cspan class=\"keep high_confidence\"\u003e\n",
              "\u003c/span\u003e\u003cspan class=\"keep high_confidence\"\u003e    for i in range(\u003c/span\u003e\u003cspan class=\"start_editing low_confidence\"\u003e፠\u003c/span\u003e\u003cspan class=\"delete low_confidence\"\u003e0,\u003c/span\u003e\u003cspan class=\"keep low_confidence\"\u003en\u003c/span\u003e\u003cspan class=\"keep high_confidence\"\u003e):\n",
              "        sum += \u003c/span\u003e\u003cspan class=\"keep low_confidence\"\u003es[i]\n",
              "\u003c/span\u003e\u003cspan class=\"start_editing low_confidence\"\u003e፠\u003c/span\u003e\u003cspan class=\"keep low_confidence\"\u003e        \u003c/span\u003e\u003cspan class=\"delete low_confidence\"\u003ecount += mp[sum]\n",
              "\u003c/span\u003e\u003cspan class=\"delete high_confidence\"\u003e        \u003c/span\u003e\u003cspan class=\"insert was_high_confidence\"\u003e        \u003c/span\u003e\u003cspan class=\"keep high_confidence\"\u003emp[sum] += 1\u003c/span\u003e\u003cspan class=\"start_editing low_confidence\"\u003e፠\u003c/span\u003e\u003cspan class=\"insert was_low_confidence\"\u003ecount += mp[sum]\u003c/span\u003e\u003cspan class=\"keep high_confidence\"\u003e\n",
              "    return count\n",
              "\n",
              "\u003c/span\u003e\u003cspan class=\"start_editing low_confidence\"\u003e፠\u003c/span\u003e\u003cspan class=\"delete low_confidence\"\u003eprint(count_Substrings(\u0026quot;abc\u0026quot;,4))\n",
              "\u003c/span\u003e\u003c/span\u003e\u003cbr\u003e========== Target 2 ==========\u003cbr\u003e\u003cspan style=\"white-space: pre; font-family: monospace;\"\u003e\n",
              "# Write a python function to count number of substrings with the sum of digits equal to their length.\n",
              "\n",
              "from collections import defaultdict\n",
              "def count_Substrings(s,n):\n",
              "    count,sum = 0,0\n",
              "    mp = defaultdict(lambda : 0)\n",
              "    mp[0] += 1\u003c/span\u003e\u003cstyle\u003e\n",
              ".edit_sequence_root {\n",
              "    white-space: pre;\n",
              "    font-family: monospace;\n",
              "}\n",
              ".edit_sequence_root .prefix {\n",
              "    font-weight: bold;\n",
              "    color: black;\n",
              "}\n",
              ".edit_sequence_root .high_confidence,\n",
              ".edit_sequence_root .insert.was_high_confidence{\n",
              "    font-weight: normal;\n",
              "}\n",
              ".edit_sequence_root .low_confidence,\n",
              ".edit_sequence_root .insert.was_low_confidence {\n",
              "    font-weight: normal;\n",
              "    background-color: #ffcc99;\n",
              "}\n",
              ".edit_sequence_root .keep {\n",
              "    color: black;\n",
              "}\n",
              ".edit_sequence_root .delete {\n",
              "    color: darkred;\n",
              "    text-decoration: line-through;\n",
              "}\n",
              ".edit_sequence_root .insert {\n",
              "    color: darkgreen;\n",
              "    text-decoration: underline;\n",
              "    font-weight: normal;\n",
              "}\n",
              ".edit_sequence_root .start_editing {\n",
              "    color: red;\n",
              "    font-weight: bold;\n",
              "}\n",
              "\u003c/style\u003e\u003cspan class=\"edit_sequence_root\"\u003e\u003cspan class=\"prefix\"\u003e\u003c/span\u003e\u003cspan class=\"keep high_confidence\"\u003e\n",
              "\u003c/span\u003e\u003cspan class=\"start_editing low_confidence\"\u003e፠\u003c/span\u003e\u003cspan class=\"keep high_confidence\"\u003e    for i in range(\u003c/span\u003e\u003cspan class=\"start_editing low_confidence\"\u003e፠\u003c/span\u003e\u003cspan class=\"delete low_confidence\"\u003e0,\u003c/span\u003e\u003cspan class=\"keep low_confidence\"\u003en\u003c/span\u003e\u003cspan class=\"keep high_confidence\"\u003e):\n",
              "        sum += \u003c/span\u003e\u003cspan class=\"keep low_confidence\"\u003es[i]\n",
              "\u003c/span\u003e\u003cspan class=\"start_editing low_confidence\"\u003e፠\u003c/span\u003e\u003cspan class=\"keep low_confidence\"\u003e        \u003c/span\u003e\u003cspan class=\"delete low_confidence\"\u003ecount += mp[sum]\n",
              "\u003c/span\u003e\u003cspan class=\"insert was_low_confidence\"\u003e        \n",
              "        if sum == 0:\n",
              "            count += mp[0]\n",
              "        \n",
              "        if sum % n == 0:\n",
              "            count += mp[sum]\n",
              "        \n",
              "\u003c/span\u003e\u003cspan class=\"keep high_confidence\"\u003e        mp[sum] += 1\u003c/span\u003e\u003cspan class=\"start_editing low_confidence\"\u003e፠\u003c/span\u003e\u003cspan class=\"keep high_confidence\"\u003e\n",
              "    return count\n",
              "\n",
              "\u003c/span\u003e\u003cspan class=\"start_editing low_confidence\"\u003e፠\u003c/span\u003e\u003cspan class=\"insert was_low_confidence\"\u003es = [1, 2, 3, 4, 5]\n",
              "n = 4\n",
              "\u003c/span\u003e\u003cspan class=\"keep low_confidence\"\u003eprint(count_Substrings(\u003c/span\u003e\u003cspan class=\"start_editing low_confidence\"\u003e፠\u003c/span\u003e\u003cspan class=\"delete low_confidence\"\u003e\u0026quot;abc\u0026quot;,4\u003c/span\u003e\u003cspan class=\"insert was_low_confidence\"\u003es,n\u003c/span\u003e\u003cspan class=\"keep low_confidence\"\u003e)\u003c/span\u003e\u003cspan class=\"start_editing low_confidence\"\u003e፠\u003c/span\u003e\u003cspan class=\"delete low_confidence\"\u003e)\u003c/span\u003e\u003cspan class=\"keep low_confidence\"\u003e\n",
              "\u003c/span\u003e\u003c/span\u003e\u003cbr\u003e========== Target 3 ==========\u003cbr\u003e\u003cspan style=\"white-space: pre; font-family: monospace;\"\u003e\n",
              "# Write a python function to count number of substrings with the sum of digits equal to their length.\n",
              "\n",
              "from collections import defaultdict\n",
              "def count_Substrings(s,n):\n",
              "    count,sum = 0,0\n",
              "    mp = defaultdict(lambda : 0)\n",
              "    mp[0] += 1\u003c/span\u003e\u003cstyle\u003e\n",
              ".edit_sequence_root {\n",
              "    white-space: pre;\n",
              "    font-family: monospace;\n",
              "}\n",
              ".edit_sequence_root .prefix {\n",
              "    font-weight: bold;\n",
              "    color: black;\n",
              "}\n",
              ".edit_sequence_root .high_confidence,\n",
              ".edit_sequence_root .insert.was_high_confidence{\n",
              "    font-weight: normal;\n",
              "}\n",
              ".edit_sequence_root .low_confidence,\n",
              ".edit_sequence_root .insert.was_low_confidence {\n",
              "    font-weight: normal;\n",
              "    background-color: #ffcc99;\n",
              "}\n",
              ".edit_sequence_root .keep {\n",
              "    color: black;\n",
              "}\n",
              ".edit_sequence_root .delete {\n",
              "    color: darkred;\n",
              "    text-decoration: line-through;\n",
              "}\n",
              ".edit_sequence_root .insert {\n",
              "    color: darkgreen;\n",
              "    text-decoration: underline;\n",
              "    font-weight: normal;\n",
              "}\n",
              ".edit_sequence_root .start_editing {\n",
              "    color: red;\n",
              "    font-weight: bold;\n",
              "}\n",
              "\u003c/style\u003e\u003cspan class=\"edit_sequence_root\"\u003e\u003cspan class=\"prefix\"\u003e\u003c/span\u003e\u003cspan class=\"keep high_confidence\"\u003e\n",
              "\u003c/span\u003e\u003cspan class=\"keep high_confidence\"\u003e    for i in range(\u003c/span\u003e\u003cspan class=\"keep low_confidence\"\u003e0,n\u003c/span\u003e\u003cspan class=\"keep high_confidence\"\u003e):\n",
              "        sum += \u003c/span\u003e\u003cspan class=\"start_editing low_confidence\"\u003e፠\u003c/span\u003e\u003cspan class=\"delete low_confidence\"\u003es[i]\n",
              "\u003c/span\u003e\u003cspan class=\"insert was_low_confidence\"\u003e (ord(s[i])-96)\n",
              "\u003c/span\u003e\u003cspan class=\"start_editing low_confidence\"\u003e፠\u003c/span\u003e\u003cspan class=\"keep low_confidence\"\u003e        \u003c/span\u003e\u003cspan class=\"delete low_confidence\"\u003ecount += mp[sum]\n",
              "\u003c/span\u003e\u003cspan class=\"delete high_confidence\"\u003e        \u003c/span\u003e\u003cspan class=\"insert was_high_confidence\"\u003e        \u003c/span\u003e\u003cspan class=\"keep high_confidence\"\u003emp[sum] += 1\u003c/span\u003e\u003cspan class=\"start_editing low_confidence\"\u003e፠\u003c/span\u003e\u003cspan class=\"insert was_low_confidence\"\u003efor key in mp:\n",
              "            if key-(sum) in mp:\n",
              "                count += mp[key-(sum)]\n",
              "            if key-(sum) in mp and key-(sum) != 0:\n",
              "                mp[key] += mp[key-(sum)]\u003c/span\u003e\u003cspan class=\"keep high_confidence\"\u003e\n",
              "\u003c/span\u003e\u003cspan class=\"start_editing high_confidence\"\u003e፠\u003c/span\u003e\u003cspan class=\"keep high_confidence\"\u003e    \u003c/span\u003e\u003cspan class=\"delete high_confidence\"\u003ereturn count\n",
              "\u003c/span\u003e\u003cspan class=\"insert was_high_confidence\"\u003e    print(count)\n",
              "\u003c/span\u003e\u003cspan class=\"keep high_confidence\"\u003e\n",
              "\u003c/span\u003e\u003cspan class=\"start_editing low_confidence\"\u003e፠\u003c/span\u003e\u003cspan class=\"delete low_confidence\"\u003eprint(count_Substrings(\u0026quot;abc\u0026quot;,4))\n",
              "\u003c/span\u003e\u003cspan class=\"insert was_low_confidence\"\u003e# Main Driver Function\n",
              "if __name__ == \u0026#x27;__main__\u0026#x27;:\n",
              "    s = input(\u0026quot;Enter string: \u0026quot;)\n",
              "    n = len(s)\n",
              "    count_Substrings(s,n)\n",
              "    \n",
              "\u003c/span\u003e\u003c/span\u003e\u003cbr\u003e========== Target 4 ==========\u003cbr\u003e\u003cspan style=\"white-space: pre; font-family: monospace;\"\u003e\n",
              "# Write a python function to count number of substrings with the sum of digits equal to their length.\n",
              "\n",
              "from collections import defaultdict\n",
              "def count_Substrings(s,n):\n",
              "    count,sum = 0,0\n",
              "    mp = defaultdict(lambda : 0)\n",
              "    mp[0] += 1\u003c/span\u003e\u003cstyle\u003e\n",
              ".edit_sequence_root {\n",
              "    white-space: pre;\n",
              "    font-family: monospace;\n",
              "}\n",
              ".edit_sequence_root .prefix {\n",
              "    font-weight: bold;\n",
              "    color: black;\n",
              "}\n",
              ".edit_sequence_root .high_confidence,\n",
              ".edit_sequence_root .insert.was_high_confidence{\n",
              "    font-weight: normal;\n",
              "}\n",
              ".edit_sequence_root .low_confidence,\n",
              ".edit_sequence_root .insert.was_low_confidence {\n",
              "    font-weight: normal;\n",
              "    background-color: #ffcc99;\n",
              "}\n",
              ".edit_sequence_root .keep {\n",
              "    color: black;\n",
              "}\n",
              ".edit_sequence_root .delete {\n",
              "    color: darkred;\n",
              "    text-decoration: line-through;\n",
              "}\n",
              ".edit_sequence_root .insert {\n",
              "    color: darkgreen;\n",
              "    text-decoration: underline;\n",
              "    font-weight: normal;\n",
              "}\n",
              ".edit_sequence_root .start_editing {\n",
              "    color: red;\n",
              "    font-weight: bold;\n",
              "}\n",
              "\u003c/style\u003e\u003cspan class=\"edit_sequence_root\"\u003e\u003cspan class=\"prefix\"\u003e\u003c/span\u003e\u003cspan class=\"keep high_confidence\"\u003e\n",
              "\u003c/span\u003e\u003cspan class=\"start_editing low_confidence\"\u003e፠\u003c/span\u003e\u003cspan class=\"insert was_low_confidence\"\u003efor i in range(n):\n",
              "        sum += s[i]\n",
              "\u003c/span\u003e\u003cspan class=\"keep high_confidence\"\u003e    for i in range(\u003c/span\u003e\u003cspan class=\"start_editing low_confidence\"\u003e፠\u003c/span\u003e\u003cspan class=\"delete low_confidence\"\u003e0,n\u003c/span\u003e\u003cspan class=\"insert was_low_confidence\"\u003en,len(s)\u003c/span\u003e\u003cspan class=\"keep high_confidence\"\u003e):\n",
              "        sum += \u003c/span\u003e\u003cspan class=\"start_editing low_confidence\"\u003e፠\u003c/span\u003e\u003cspan class=\"delete low_confidence\"\u003es[i]\n",
              "\u003c/span\u003e\u003cspan class=\"insert was_low_confidence\"\u003e (s[i]-s[i-n])\n",
              "\u003c/span\u003e\u003cspan class=\"start_editing low_confidence\"\u003e፠\u003c/span\u003e\u003cspan class=\"keep low_confidence\"\u003e        \u003c/span\u003e\u003cspan class=\"delete low_confidence\"\u003ecount += mp[sum]\n",
              "\u003c/span\u003e\u003cspan class=\"delete high_confidence\"\u003e        \u003c/span\u003e\u003cspan class=\"insert was_high_confidence\"\u003e        \u003c/span\u003e\u003cspan class=\"keep high_confidence\"\u003emp[sum] += 1\u003c/span\u003e\u003cspan class=\"start_editing low_confidence\"\u003e፠\u003c/span\u003e\u003cspan class=\"insert was_low_confidence\"\u003ecount += mp[sum-s[i-n]]\n",
              "        del mp[sum-s[i-n]]\u003c/span\u003e\u003cspan class=\"keep high_confidence\"\u003e\n",
              "    return count\n",
              "\n",
              "\u003c/span\u003e\u003cspan class=\"keep low_confidence\"\u003eprint(count_Substrings(\u003c/span\u003e\u003cspan class=\"start_editing low_confidence\"\u003e፠\u003c/span\u003e\u003cspan class=\"delete low_confidence\"\u003e\u0026quot;abc\u0026quot;,4\u003c/span\u003e\u003cspan class=\"insert was_low_confidence\"\u003einput(),5\u003c/span\u003e\u003cspan class=\"keep low_confidence\"\u003e))\n",
              "\u003c/span\u003e\u003c/span\u003e\u003cbr\u003e========== Target 5 ==========\u003cbr\u003e\u003cspan style=\"white-space: pre; font-family: monospace;\"\u003e\n",
              "# Write a python function to count number of substrings with the sum of digits equal to their length.\n",
              "\n",
              "from collections import defaultdict\n",
              "def count_Substrings(s,n):\n",
              "    count,sum = 0,0\n",
              "    mp = defaultdict(lambda : 0)\n",
              "    mp[0] += 1\u003c/span\u003e\u003cstyle\u003e\n",
              ".edit_sequence_root {\n",
              "    white-space: pre;\n",
              "    font-family: monospace;\n",
              "}\n",
              ".edit_sequence_root .prefix {\n",
              "    font-weight: bold;\n",
              "    color: black;\n",
              "}\n",
              ".edit_sequence_root .high_confidence,\n",
              ".edit_sequence_root .insert.was_high_confidence{\n",
              "    font-weight: normal;\n",
              "}\n",
              ".edit_sequence_root .low_confidence,\n",
              ".edit_sequence_root .insert.was_low_confidence {\n",
              "    font-weight: normal;\n",
              "    background-color: #ffcc99;\n",
              "}\n",
              ".edit_sequence_root .keep {\n",
              "    color: black;\n",
              "}\n",
              ".edit_sequence_root .delete {\n",
              "    color: darkred;\n",
              "    text-decoration: line-through;\n",
              "}\n",
              ".edit_sequence_root .insert {\n",
              "    color: darkgreen;\n",
              "    text-decoration: underline;\n",
              "    font-weight: normal;\n",
              "}\n",
              ".edit_sequence_root .start_editing {\n",
              "    color: red;\n",
              "    font-weight: bold;\n",
              "}\n",
              "\u003c/style\u003e\u003cspan class=\"edit_sequence_root\"\u003e\u003cspan class=\"prefix\"\u003e\u003c/span\u003e\u003cspan class=\"keep high_confidence\"\u003e\n",
              "\u003c/span\u003e\u003cspan class=\"keep high_confidence\"\u003e    for i in range(\u003c/span\u003e\u003cspan class=\"start_editing low_confidence\"\u003e፠\u003c/span\u003e\u003cspan class=\"delete low_confidence\"\u003e0,\u003c/span\u003e\u003cspan class=\"keep low_confidence\"\u003en\u003c/span\u003e\u003cspan class=\"keep high_confidence\"\u003e):\n",
              "        sum\u003c/span\u003e\u003cspan class=\"start_editing high_confidence\"\u003e፠\u003c/span\u003e\u003cspan class=\"keep high_confidence\"\u003e \u003c/span\u003e\u003cspan class=\"delete high_confidence\"\u003e+= \u003c/span\u003e\u003cspan class=\"insert was_high_confidence\"\u003e = (sum+s[i]-\u0026#x27;0\u0026#x27;)*10 + \u003c/span\u003e\u003cspan class=\"keep low_confidence\"\u003es[i]\u003c/span\u003e\u003cspan class=\"start_editing low_confidence\"\u003e፠\u003c/span\u003e\u003cspan class=\"keep low_confidence\"\u003e\n",
              "\u003c/span\u003e\u003cspan class=\"insert was_low_confidence\"\u003e-\u0026#x27;0\u0026#x27;\n",
              "\u003c/span\u003e\u003cspan class=\"keep low_confidence\"\u003e        count\u003c/span\u003e\u003cspan class=\"start_editing low_confidence\"\u003e፠\u003c/span\u003e\u003cspan class=\"keep low_confidence\"\u003e \u003c/span\u003e\u003cspan class=\"delete low_confidence\"\u003e+= \u003c/span\u003e\u003cspan class=\"insert was_low_confidence\"\u003e = count + \u003c/span\u003e\u003cspan class=\"keep low_confidence\"\u003emp[sum]\n",
              "\u003c/span\u003e\u003cspan class=\"keep high_confidence\"\u003e        mp[sum] += 1\u003c/span\u003e\u003cspan class=\"keep high_confidence\"\u003e\n",
              "    return count\n",
              "\n",
              "\u003c/span\u003e\u003cspan class=\"start_editing low_confidence\"\u003e፠\u003c/span\u003e\u003cspan class=\"delete low_confidence\"\u003eprint(count_Substrings(\u0026quot;abc\u0026quot;,4))\n",
              "\u003c/span\u003e\u003cspan class=\"insert was_low_confidence\"\u003e# s = \u0026quot;aabbaa\u0026quot;\n",
              "# n = 3\n",
              "# print(count_Substrings(s,n))\n",
              "\n",
              "\u003c/span\u003e\u003c/span\u003e\u003cbr\u003e========== Target 6 ==========\u003cbr\u003e\u003cspan style=\"white-space: pre; font-family: monospace;\"\u003e\n",
              "# Write a python function to count number of substrings with the sum of digits equal to their length.\n",
              "\n",
              "from collections import defaultdict\n",
              "def count_Substrings(s,n):\n",
              "    count,sum = 0,0\n",
              "    mp = defaultdict(lambda : 0)\n",
              "    mp[0] += 1\u003c/span\u003e\u003cstyle\u003e\n",
              ".edit_sequence_root {\n",
              "    white-space: pre;\n",
              "    font-family: monospace;\n",
              "}\n",
              ".edit_sequence_root .prefix {\n",
              "    font-weight: bold;\n",
              "    color: black;\n",
              "}\n",
              ".edit_sequence_root .high_confidence,\n",
              ".edit_sequence_root .insert.was_high_confidence{\n",
              "    font-weight: normal;\n",
              "}\n",
              ".edit_sequence_root .low_confidence,\n",
              ".edit_sequence_root .insert.was_low_confidence {\n",
              "    font-weight: normal;\n",
              "    background-color: #ffcc99;\n",
              "}\n",
              ".edit_sequence_root .keep {\n",
              "    color: black;\n",
              "}\n",
              ".edit_sequence_root .delete {\n",
              "    color: darkred;\n",
              "    text-decoration: line-through;\n",
              "}\n",
              ".edit_sequence_root .insert {\n",
              "    color: darkgreen;\n",
              "    text-decoration: underline;\n",
              "    font-weight: normal;\n",
              "}\n",
              ".edit_sequence_root .start_editing {\n",
              "    color: red;\n",
              "    font-weight: bold;\n",
              "}\n",
              "\u003c/style\u003e\u003cspan class=\"edit_sequence_root\"\u003e\u003cspan class=\"prefix\"\u003e\u003c/span\u003e\u003cspan class=\"keep high_confidence\"\u003e\n",
              "\u003c/span\u003e\u003cspan class=\"start_editing low_confidence\"\u003e፠\u003c/span\u003e\u003cspan class=\"insert was_low_confidence\"\u003efor i in range(n):\n",
              "        sum += int(s[i])\n",
              "\u003c/span\u003e\u003cspan class=\"keep high_confidence\"\u003e    for i in range(\u003c/span\u003e\u003cspan class=\"start_editing low_confidence\"\u003e፠\u003c/span\u003e\u003cspan class=\"delete low_confidence\"\u003e0,n\u003c/span\u003e\u003cspan class=\"insert was_low_confidence\"\u003en, len(s)\u003c/span\u003e\u003cspan class=\"keep high_confidence\"\u003e):\n",
              "        sum += \u003c/span\u003e\u003cspan class=\"start_editing low_confidence\"\u003e፠\u003c/span\u003e\u003cspan class=\"delete low_confidence\"\u003es[i]\n",
              "\u003c/span\u003e\u003cspan class=\"insert was_low_confidence\"\u003e int(s[i])\n",
              "\u003c/span\u003e\u003cspan class=\"start_editing low_confidence\"\u003e፠\u003c/span\u003e\u003cspan class=\"insert was_low_confidence\"\u003e        mp[sum] += 1\n",
              "\u003c/span\u003e\u003cspan class=\"keep low_confidence\"\u003e        count += mp[sum]\n",
              "\u003c/span\u003e\u003cspan class=\"start_editing low_confidence\"\u003e፠\u003c/span\u003e\u003cspan class=\"insert was_low_confidence\"\u003esum -= int(s[i-n])\n",
              "\u003c/span\u003e\u003cspan class=\"keep high_confidence\"\u003e        mp[sum]\u003c/span\u003e\u003cspan class=\"start_editing high_confidence\"\u003e፠\u003c/span\u003e\u003cspan class=\"keep high_confidence\"\u003e \u003c/span\u003e\u003cspan class=\"delete high_confidence\"\u003e+\u003c/span\u003e\u003cspan class=\"insert was_high_confidence\"\u003e -\u003c/span\u003e\u003cspan class=\"keep high_confidence\"\u003e= 1\u003c/span\u003e\u003cspan class=\"keep high_confidence\"\u003e\n",
              "    return count\n",
              "\n",
              "\u003c/span\u003e\u003cspan class=\"keep low_confidence\"\u003eprint(count_Substrings(\u003c/span\u003e\u003cspan class=\"start_editing low_confidence\"\u003e፠\u003c/span\u003e\u003cspan class=\"delete low_confidence\"\u003e\u0026quot;abc\u0026quot;,4\u003c/span\u003e\u003cspan class=\"insert was_low_confidence\"\u003e\u0026#x27;1234567\u0026#x27;, 3\u003c/span\u003e\u003cspan class=\"keep low_confidence\"\u003e))\n",
              "\u003c/span\u003e\u003c/span\u003e\u003cbr\u003e========== Target 7 ==========\u003cbr\u003e\u003cspan style=\"white-space: pre; font-family: monospace;\"\u003e\n",
              "# Write a python function to count number of substrings with the sum of digits equal to their length.\n",
              "\n",
              "from collections import defaultdict\n",
              "def count_Substrings(s,n):\n",
              "    count,sum = 0,0\n",
              "    mp = defaultdict(lambda : 0)\n",
              "    mp[0] += 1\u003c/span\u003e\u003cstyle\u003e\n",
              ".edit_sequence_root {\n",
              "    white-space: pre;\n",
              "    font-family: monospace;\n",
              "}\n",
              ".edit_sequence_root .prefix {\n",
              "    font-weight: bold;\n",
              "    color: black;\n",
              "}\n",
              ".edit_sequence_root .high_confidence,\n",
              ".edit_sequence_root .insert.was_high_confidence{\n",
              "    font-weight: normal;\n",
              "}\n",
              ".edit_sequence_root .low_confidence,\n",
              ".edit_sequence_root .insert.was_low_confidence {\n",
              "    font-weight: normal;\n",
              "    background-color: #ffcc99;\n",
              "}\n",
              ".edit_sequence_root .keep {\n",
              "    color: black;\n",
              "}\n",
              ".edit_sequence_root .delete {\n",
              "    color: darkred;\n",
              "    text-decoration: line-through;\n",
              "}\n",
              ".edit_sequence_root .insert {\n",
              "    color: darkgreen;\n",
              "    text-decoration: underline;\n",
              "    font-weight: normal;\n",
              "}\n",
              ".edit_sequence_root .start_editing {\n",
              "    color: red;\n",
              "    font-weight: bold;\n",
              "}\n",
              "\u003c/style\u003e\u003cspan class=\"edit_sequence_root\"\u003e\u003cspan class=\"prefix\"\u003e\u003c/span\u003e\u003cspan class=\"keep high_confidence\"\u003e\n",
              "\u003c/span\u003e\u003cspan class=\"start_editing low_confidence\"\u003e፠\u003c/span\u003e\u003cspan class=\"insert was_low_confidence\"\u003efor i in range(n):\n",
              "        sum += int(s[i])\n",
              "    print(mp)\n",
              "\u003c/span\u003e\u003cspan class=\"keep high_confidence\"\u003e    for i in range(\u003c/span\u003e\u003cspan class=\"start_editing low_confidence\"\u003e፠\u003c/span\u003e\u003cspan class=\"delete low_confidence\"\u003e0,n\u003c/span\u003e\u003cspan class=\"insert was_low_confidence\"\u003en,len(s)\u003c/span\u003e\u003cspan class=\"keep high_confidence\"\u003e):\n",
              "        sum += \u003c/span\u003e\u003cspan class=\"start_editing low_confidence\"\u003e፠\u003c/span\u003e\u003cspan class=\"delete low_confidence\"\u003es[i]\n",
              "\u003c/span\u003e\u003cspan class=\"insert was_low_confidence\"\u003e int(s[i-n])\n",
              "\u003c/span\u003e\u003cspan class=\"start_editing low_confidence\"\u003e፠\u003c/span\u003e\u003cspan class=\"keep low_confidence\"\u003e        \u003c/span\u003e\u003cspan class=\"delete low_confidence\"\u003ecount += mp[sum]\n",
              "\u003c/span\u003e\u003cspan class=\"insert was_low_confidence\"\u003e        sum -= int(s[i-n])\n",
              "\u003c/span\u003e\u003cspan class=\"keep high_confidence\"\u003e        mp[sum] += 1\u003c/span\u003e\u003cspan class=\"start_editing low_confidence\"\u003e፠\u003c/span\u003e\u003cspan class=\"insert was_low_confidence\"\u003eprint(mp)\n",
              "        count += mp[sum]\u003c/span\u003e\u003cspan class=\"keep high_confidence\"\u003e\n",
              "    return count\n",
              "\n",
              "\u003c/span\u003e\u003cspan class=\"keep low_confidence\"\u003eprint(count_Substrings(\u003c/span\u003e\u003cspan class=\"start_editing low_confidence\"\u003e፠\u003c/span\u003e\u003cspan class=\"delete low_confidence\"\u003e\u0026quot;abc\u0026quot;,4\u003c/span\u003e\u003cspan class=\"insert was_low_confidence\"\u003einput(),3\u003c/span\u003e\u003cspan class=\"keep low_confidence\"\u003e))\n",
              "\u003c/span\u003e\u003cspan class=\"start_editing low_confidence\"\u003e፠\u003c/span\u003e\u003cspan class=\"insert was_low_confidence\"\u003e# Write a python function to count number of substrings of a string having all unique characters.\n",
              "\n",
              "\n",
              "def count_Substrings(s,n):\n",
              "    mp = defaultdict(lambda : 0)\n",
              "    mp[0] += 1\n",
              "    count = 0\n",
              "    for i in range(n):\n",
              "        mp[\u003c/span\u003e\u003c/span\u003e\u003cbr\u003e"
            ],
            "text/plain": [
              "\u003cIPython.core.display.HTML object\u003e"
            ]
          },
          "metadata": {},
          "output_type": "display_data"
        }
      ],
      "source": [
        "runner.show_edits(combine_result)"
      ]
    },
    {
      "cell_type": "markdown",
      "metadata": {
        "id": "BR9iC5zOkcw0"
      },
      "source": [
        "We can similarly inspect the utility of our suggestion against each of the hypothetical user intents (the other samples)."
      ]
    },
    {
      "cell_type": "code",
      "execution_count": null,
      "metadata": {
        "id": "3MVD7cyHkliz",
        "outputId": "2212fc91-3cf9-4414-ff4d-b5b1521c7290"
      },
      "outputs": [
        {
          "name": "stdout",
          "output_type": "stream",
          "text": [
            "Target 0: 72.6\n",
            "Target 1: 14.6\n",
            "Target 2: 31.1\n",
            "Target 3: -14.4\n",
            "Target 4: 29.6\n",
            "Target 5: 17.6\n",
            "Target 6: 36.6\n",
            "Target 7: 27.1\n"
          ]
        }
      ],
      "source": [
        "runner.show_utilities(combine_result)"
      ]
    },
    {
      "cell_type": "markdown",
      "metadata": {
        "id": "NuoM12MZBbA1"
      },
      "source": [
        "We can also inspect the convergence of the optimization algorithm. The dashed line represents the utility of the solution we found, averaged over all samples. The blue line shows convergence of the dual bound as we perform coordinate descent on each variable."
      ]
    },
    {
      "cell_type": "code",
      "execution_count": null,
      "metadata": {
        "colab": {
          "height": 334
        },
        "id": "4MDh2gEDBzat",
        "outputId": "c9a555f0-c39e-41b0-fe72-e9c951274b8d"
      },
      "outputs": [
        {
          "data": {
            "image/png": "[encoded data removed]",
            "text/plain": [
              "\u003cFigure size 1500x500 with 3 Axes\u003e"
            ]
          },
          "metadata": {},
          "output_type": "display_data"
        }
      ],
      "source": [
        "runner.show_optimization_details(combine_result)"
      ]
    },
    {
      "cell_type": "markdown",
      "metadata": {
        "id": "fRC-lFLaB_QO"
      },
      "source": [
        "If desired, we can inspect the raw decision diagram vector assignments, which are what are produced by the combinatorial optimization solver. (This is a low level representation of the selected suggestion, and isn't intended to be particularly meaningful alone. For more details on what it means, see the notebook [`Utility_decision_diagrams_details.ipynb`](https://colab.research.google.com/github/google-research/r_u_sure/r_u_sure/notebooks/Utility_decision_diagrams_details.ipynb).)"
      ]
    },
    {
      "cell_type": "code",
      "execution_count": null,
      "metadata": {
        "id": "pd7LFTamB-lM",
        "outputId": "f079478e-7ed3-4511-d8fd-a81b7564536d"
      },
      "outputs": [
        {
          "data": {
            "text/plain": [
              "array([0, 0, 0, 0, 0, 0, 2, 0, 2, 2, 1, 1, 0, 0, 2, 0, 0, 2, 0, 2, 0, 2,\n",
              "       0, 2, 0, 2, 0, 2, 0, 2, 0, 2, 0, 2, 0, 0, 0, 1, 0, 1, 0, 2, 0, 1,\n",
              "       0, 2, 0, 1, 0, 2, 1, 0, 0, 2, 2, 0, 2, 0, 2, 0, 2, 2, 0, 2, 0, 0,\n",
              "       2, 0, 0, 0, 0, 2, 0, 0, 2, 0, 2, 0, 2, 0, 2, 0, 2, 0, 2, 1, 0, 1,\n",
              "       0, 2, 0, 1, 1, 1, 2, 0, 1, 0, 2, 0, 1, 2, 0, 0, 2, 1, 2, 1, 0, 1,\n",
              "       2, 0, 1, 0, 2, 0, 1, 0, 2, 0, 1, 0, 2, 0, 1, 0, 2, 0, 1, 1, 1, 2,\n",
              "       0, 1, 0, 2, 0, 1, 2, 0, 0, 2, 0, 0, 2, 1, 0, 0, 2, 0, 2, 0, 2, 0,\n",
              "       0, 0, 0, 2, 0, 2, 0, 2, 0, 0, 2, 2, 0, 2, 0, 2, 0, 2, 0, 2, 0, 2,\n",
              "       0, 2, 0, 2, 2, 1, 1, 0, 0, 2, 2, 0, 2, 2, 0, 2, 2, 0, 2, 0, 0, 2,\n",
              "       0, 2, 0, 2, 0, 2, 0, 2, 2, 0, 2, 0, 0, 2, 2, 0, 2, 2, 0, 2, 2, 1,\n",
              "       0, 1, 2, 0, 1, 0, 2, 0, 1, 1, 1, 2, 0, 1, 0, 2, 0, 1, 1, 1, 2, 0,\n",
              "       1, 2, 0, 1, 0, 2, 0, 1, 0, 2, 0, 1, 0, 2, 0, 0, 2, 0, 1, 0, 2, 0,\n",
              "       1, 0, 2, 0, 1, 2, 0, 0, 2, 0, 1, 2, 0, 0, 2, 0, 0, 2, 1, 2, 0, 2])"
            ]
          },
          "execution_count": 0,
          "metadata": {},
          "output_type": "execute_result"
        }
      ],
      "source": [
        "# Raw assignment vector.\n",
        "combine_result.assignment_vector"
      ]
    },
    {
      "cell_type": "code",
      "execution_count": null,
      "metadata": {
        "colab": {
          "height": 400
        },
        "id": "UTZFEZuSCFLl",
        "outputId": "b139b765-8e6d-48e1-ff2a-82e04cb35c2a"
      },
      "outputs": [
        {
          "data": {
            "application/javascript": [
              "google.colab.output.setIframeHeight(0, true, {maxHeight: 400})"
            ],
            "text/plain": [
              "\u003cIPython.core.display.Javascript object\u003e"
            ]
          },
          "metadata": {},
          "output_type": "display_data"
        },
        {
          "data": {
            "text/plain": [
              "{DecisionKey(prototype_preorder_index=0, category=\u003cDecisionCategory.NODE_IN_REGION: 3\u003e): \u003cDecisionValue.FALSE: 1\u003e,\n",
              " DecisionKey(prototype_preorder_index=1, category=\u003cDecisionCategory.NODE_IN_REGION: 3\u003e): \u003cDecisionValue.FALSE: 1\u003e,\n",
              " DecisionKey(prototype_preorder_index=2, category=\u003cDecisionCategory.NODE_IN_REGION: 3\u003e): \u003cDecisionValue.FALSE: 1\u003e,\n",
              " DecisionKey(prototype_preorder_index=3, category=\u003cDecisionCategory.NODE_IN_REGION: 3\u003e): \u003cDecisionValue.FALSE: 1\u003e,\n",
              " DecisionKey(prototype_preorder_index=4, category=\u003cDecisionCategory.NODE_IN_REGION: 3\u003e): \u003cDecisionValue.FALSE: 1\u003e,\n",
              " DecisionKey(prototype_preorder_index=5, category=\u003cDecisionCategory.NODE_IN_REGION: 3\u003e): \u003cDecisionValue.FALSE: 1\u003e,\n",
              " DecisionKey(prototype_preorder_index=6, category=\u003cDecisionCategory.REGION_SHOULD_END: 2\u003e): \u003cDecisionValue.NOT_APPLICABLE: 3\u003e,\n",
              " DecisionKey(prototype_preorder_index=8, category=\u003cDecisionCategory.REGION_SHOULD_START: 1\u003e): \u003cDecisionValue.FALSE: 1\u003e,\n",
              " DecisionKey(prototype_preorder_index=9, category=\u003cDecisionCategory.REGION_SHOULD_END: 2\u003e): \u003cDecisionValue.NOT_APPLICABLE: 3\u003e,\n",
              " DecisionKey(prototype_preorder_index=10, category=\u003cDecisionCategory.REGION_SHOULD_END: 2\u003e): \u003cDecisionValue.NOT_APPLICABLE: 3\u003e,\n",
              " DecisionKey(prototype_preorder_index=11, category=\u003cDecisionCategory.REGION_SHOULD_START: 1\u003e): \u003cDecisionValue.TRUE: 2\u003e,\n",
              " DecisionKey(prototype_preorder_index=12, category=\u003cDecisionCategory.REGION_SHOULD_END: 2\u003e): \u003cDecisionValue.TRUE: 2\u003e,\n",
              " DecisionKey(prototype_preorder_index=13, category=\u003cDecisionCategory.NODE_IN_REGION: 3\u003e): \u003cDecisionValue.FALSE: 1\u003e,\n",
              " DecisionKey(prototype_preorder_index=14, category=\u003cDecisionCategory.REGION_SHOULD_START: 1\u003e): \u003cDecisionValue.FALSE: 1\u003e,\n",
              " DecisionKey(prototype_preorder_index=15, category=\u003cDecisionCategory.REGION_SHOULD_END: 2\u003e): \u003cDecisionValue.NOT_APPLICABLE: 3\u003e,\n",
              " DecisionKey(prototype_preorder_index=16, category=\u003cDecisionCategory.NODE_IN_REGION: 3\u003e): \u003cDecisionValue.FALSE: 1\u003e,\n",
              " DecisionKey(prototype_preorder_index=18, category=\u003cDecisionCategory.REGION_SHOULD_START: 1\u003e): \u003cDecisionValue.FALSE: 1\u003e,\n",
              " DecisionKey(prototype_preorder_index=19, category=\u003cDecisionCategory.REGION_SHOULD_END: 2\u003e): \u003cDecisionValue.NOT_APPLICABLE: 3\u003e,\n",
              " DecisionKey(prototype_preorder_index=20, category=\u003cDecisionCategory.NODE_IN_REGION: 3\u003e): \u003cDecisionValue.FALSE: 1\u003e,\n",
              " DecisionKey(prototype_preorder_index=21, category=\u003cDecisionCategory.REGION_SHOULD_END: 2\u003e): \u003cDecisionValue.NOT_APPLICABLE: 3\u003e,\n",
              " DecisionKey(prototype_preorder_index=23, category=\u003cDecisionCategory.REGION_SHOULD_START: 1\u003e): \u003cDecisionValue.FALSE: 1\u003e,\n",
              " DecisionKey(prototype_preorder_index=24, category=\u003cDecisionCategory.REGION_SHOULD_END: 2\u003e): \u003cDecisionValue.NOT_APPLICABLE: 3\u003e,\n",
              " DecisionKey(prototype_preorder_index=25, category=\u003cDecisionCategory.NODE_IN_REGION: 3\u003e): \u003cDecisionValue.FALSE: 1\u003e,\n",
              " DecisionKey(prototype_preorder_index=26, category=\u003cDecisionCategory.REGION_SHOULD_END: 2\u003e): \u003cDecisionValue.NOT_APPLICABLE: 3\u003e,\n",
              " DecisionKey(prototype_preorder_index=28, category=\u003cDecisionCategory.REGION_SHOULD_START: 1\u003e): \u003cDecisionValue.FALSE: 1\u003e,\n",
              " DecisionKey(prototype_preorder_index=29, category=\u003cDecisionCategory.REGION_SHOULD_END: 2\u003e): \u003cDecisionValue.NOT_APPLICABLE: 3\u003e,\n",
              " DecisionKey(prototype_preorder_index=30, category=\u003cDecisionCategory.NODE_IN_REGION: 3\u003e): \u003cDecisionValue.FALSE: 1\u003e,\n",
              " DecisionKey(prototype_preorder_index=31, category=\u003cDecisionCategory.REGION_SHOULD_END: 2\u003e): \u003cDecisionValue.NOT_APPLICABLE: 3\u003e,\n",
              " DecisionKey(prototype_preorder_index=33, category=\u003cDecisionCategory.REGION_SHOULD_START: 1\u003e): \u003cDecisionValue.FALSE: 1\u003e,\n",
              " DecisionKey(prototype_preorder_index=34, category=\u003cDecisionCategory.REGION_SHOULD_END: 2\u003e): \u003cDecisionValue.NOT_APPLICABLE: 3\u003e,\n",
              " DecisionKey(prototype_preorder_index=35, category=\u003cDecisionCategory.NODE_IN_REGION: 3\u003e): \u003cDecisionValue.FALSE: 1\u003e,\n",
              " DecisionKey(prototype_preorder_index=36, category=\u003cDecisionCategory.REGION_SHOULD_END: 2\u003e): \u003cDecisionValue.NOT_APPLICABLE: 3\u003e,\n",
              " DecisionKey(prototype_preorder_index=37, category=\u003cDecisionCategory.REGION_SHOULD_START: 1\u003e): \u003cDecisionValue.FALSE: 1\u003e,\n",
              " DecisionKey(prototype_preorder_index=38, category=\u003cDecisionCategory.REGION_SHOULD_END: 2\u003e): \u003cDecisionValue.NOT_APPLICABLE: 3\u003e,\n",
              " DecisionKey(prototype_preorder_index=39, category=\u003cDecisionCategory.NODE_IN_REGION: 3\u003e): \u003cDecisionValue.FALSE: 1\u003e,\n",
              " DecisionKey(prototype_preorder_index=40, category=\u003cDecisionCategory.NODE_IN_REGION: 3\u003e): \u003cDecisionValue.FALSE: 1\u003e,\n",
              " DecisionKey(prototype_preorder_index=41, category=\u003cDecisionCategory.NODE_IN_REGION: 3\u003e): \u003cDecisionValue.FALSE: 1\u003e,\n",
              " DecisionKey(prototype_preorder_index=42, category=\u003cDecisionCategory.REGION_SHOULD_START: 1\u003e): \u003cDecisionValue.TRUE: 2\u003e,\n",
              " DecisionKey(prototype_preorder_index=43, category=\u003cDecisionCategory.REGION_SHOULD_END: 2\u003e): \u003cDecisionValue.FALSE: 1\u003e,\n",
              " DecisionKey(prototype_preorder_index=44, category=\u003cDecisionCategory.NODE_IN_REGION: 3\u003e): \u003cDecisionValue.TRUE: 2\u003e,\n",
              " DecisionKey(prototype_preorder_index=45, category=\u003cDecisionCategory.REGION_SHOULD_END: 2\u003e): \u003cDecisionValue.FALSE: 1\u003e,\n",
              " DecisionKey(prototype_preorder_index=46, category=\u003cDecisionCategory.REGION_SHOULD_START: 1\u003e): \u003cDecisionValue.NOT_APPLICABLE: 3\u003e,\n",
              " DecisionKey(prototype_preorder_index=47, category=\u003cDecisionCategory.REGION_SHOULD_END: 2\u003e): \u003cDecisionValue.FALSE: 1\u003e,\n",
              " DecisionKey(prototype_preorder_index=48, category=\u003cDecisionCategory.NODE_IN_REGION: 3\u003e): \u003cDecisionValue.TRUE: 2\u003e,\n",
              " DecisionKey(prototype_preorder_index=49, category=\u003cDecisionCategory.REGION_SHOULD_END: 2\u003e): \u003cDecisionValue.FALSE: 1\u003e,\n",
              " DecisionKey(prototype_preorder_index=50, category=\u003cDecisionCategory.REGION_SHOULD_START: 1\u003e): \u003cDecisionValue.NOT_APPLICABLE: 3\u003e,\n",
              " DecisionKey(prototype_preorder_index=51, category=\u003cDecisionCategory.REGION_SHOULD_END: 2\u003e): \u003cDecisionValue.FALSE: 1\u003e,\n",
              " DecisionKey(prototype_preorder_index=52, category=\u003cDecisionCategory.NODE_IN_REGION: 3\u003e): \u003cDecisionValue.TRUE: 2\u003e,\n",
              " DecisionKey(prototype_preorder_index=53, category=\u003cDecisionCategory.REGION_SHOULD_END: 2\u003e): \u003cDecisionValue.FALSE: 1\u003e,\n",
              " DecisionKey(prototype_preorder_index=54, category=\u003cDecisionCategory.REGION_SHOULD_START: 1\u003e): \u003cDecisionValue.NOT_APPLICABLE: 3\u003e,\n",
              " DecisionKey(prototype_preorder_index=55, category=\u003cDecisionCategory.REGION_SHOULD_END: 2\u003e): \u003cDecisionValue.TRUE: 2\u003e,\n",
              " DecisionKey(prototype_preorder_index=56, category=\u003cDecisionCategory.NODE_IN_REGION: 3\u003e): \u003cDecisionValue.FALSE: 1\u003e,\n",
              " DecisionKey(prototype_preorder_index=57, category=\u003cDecisionCategory.REGION_SHOULD_START: 1\u003e): \u003cDecisionValue.FALSE: 1\u003e,\n",
              " DecisionKey(prototype_preorder_index=58, category=\u003cDecisionCategory.REGION_SHOULD_END: 2\u003e): \u003cDecisionValue.NOT_APPLICABLE: 3\u003e,\n",
              " DecisionKey(prototype_preorder_index=59, category=\u003cDecisionCategory.REGION_SHOULD_END: 2\u003e): \u003cDecisionValue.NOT_APPLICABLE: 3\u003e,\n",
              " DecisionKey(prototype_preorder_index=60, category=\u003cDecisionCategory.REGION_SHOULD_START: 1\u003e): \u003cDecisionValue.FALSE: 1\u003e,\n",
              " DecisionKey(prototype_preorder_index=61, category=\u003cDecisionCategory.REGION_SHOULD_END: 2\u003e): \u003cDecisionValue.NOT_APPLICABLE: 3\u003e,\n",
              " DecisionKey(prototype_preorder_index=62, category=\u003cDecisionCategory.NODE_IN_REGION: 3\u003e): \u003cDecisionValue.FALSE: 1\u003e,\n",
              " DecisionKey(prototype_preorder_index=63, category=\u003cDecisionCategory.REGION_SHOULD_END: 2\u003e): \u003cDecisionValue.NOT_APPLICABLE: 3\u003e,\n",
              " DecisionKey(prototype_preorder_index=65, category=\u003cDecisionCategory.REGION_SHOULD_START: 1\u003e): \u003cDecisionValue.FALSE: 1\u003e,\n",
              " DecisionKey(prototype_preorder_index=66, category=\u003cDecisionCategory.REGION_SHOULD_END: 2\u003e): \u003cDecisionValue.NOT_APPLICABLE: 3\u003e,\n",
              " DecisionKey(prototype_preorder_index=67, category=\u003cDecisionCategory.REGION_SHOULD_END: 2\u003e): \u003cDecisionValue.NOT_APPLICABLE: 3\u003e,\n",
              " DecisionKey(prototype_preorder_index=68, category=\u003cDecisionCategory.REGION_SHOULD_START: 1\u003e): \u003cDecisionValue.FALSE: 1\u003e,\n",
              " DecisionKey(prototype_preorder_index=69, category=\u003cDecisionCategory.REGION_SHOULD_END: 2\u003e): \u003cDecisionValue.NOT_APPLICABLE: 3\u003e,\n",
              " DecisionKey(prototype_preorder_index=70, category=\u003cDecisionCategory.NODE_IN_REGION: 3\u003e): \u003cDecisionValue.FALSE: 1\u003e,\n",
              " DecisionKey(prototype_preorder_index=71, category=\u003cDecisionCategory.REGION_SHOULD_START: 1\u003e): \u003cDecisionValue.FALSE: 1\u003e,\n",
              " DecisionKey(prototype_preorder_index=72, category=\u003cDecisionCategory.REGION_SHOULD_END: 2\u003e): \u003cDecisionValue.NOT_APPLICABLE: 3\u003e,\n",
              " DecisionKey(prototype_preorder_index=73, category=\u003cDecisionCategory.NODE_IN_REGION: 3\u003e): \u003cDecisionValue.FALSE: 1\u003e,\n",
              " DecisionKey(prototype_preorder_index=74, category=\u003cDecisionCategory.NODE_IN_REGION: 3\u003e): \u003cDecisionValue.FALSE: 1\u003e,\n",
              " DecisionKey(prototype_preorder_index=75, category=\u003cDecisionCategory.NODE_IN_REGION: 3\u003e): \u003cDecisionValue.FALSE: 1\u003e,\n",
              " DecisionKey(prototype_preorder_index=76, category=\u003cDecisionCategory.REGION_SHOULD_START: 1\u003e): \u003cDecisionValue.FALSE: 1\u003e,\n",
              " DecisionKey(prototype_preorder_index=77, category=\u003cDecisionCategory.REGION_SHOULD_END: 2\u003e): \u003cDecisionValue.NOT_APPLICABLE: 3\u003e,\n",
              " DecisionKey(prototype_preorder_index=78, category=\u003cDecisionCategory.NODE_IN_REGION: 3\u003e): \u003cDecisionValue.FALSE: 1\u003e,\n",
              " DecisionKey(prototype_preorder_index=80, category=\u003cDecisionCategory.REGION_SHOULD_START: 1\u003e): \u003cDecisionValue.FALSE: 1\u003e,\n",
              " DecisionKey(prototype_preorder_index=81, category=\u003cDecisionCategory.REGION_SHOULD_END: 2\u003e): \u003cDecisionValue.NOT_APPLICABLE: 3\u003e,\n",
              " DecisionKey(prototype_preorder_index=82, category=\u003cDecisionCategory.NODE_IN_REGION: 3\u003e): \u003cDecisionValue.FALSE: 1\u003e,\n",
              " DecisionKey(prototype_preorder_index=83, category=\u003cDecisionCategory.REGION_SHOULD_END: 2\u003e): \u003cDecisionValue.NOT_APPLICABLE: 3\u003e,\n",
              " DecisionKey(prototype_preorder_index=85, category=\u003cDecisionCategory.REGION_SHOULD_START: 1\u003e): \u003cDecisionValue.FALSE: 1\u003e,\n",
              " DecisionKey(prototype_preorder_index=86, category=\u003cDecisionCategory.REGION_SHOULD_END: 2\u003e): \u003cDecisionValue.NOT_APPLICABLE: 3\u003e,\n",
              " DecisionKey(prototype_preorder_index=87, category=\u003cDecisionCategory.NODE_IN_REGION: 3\u003e): \u003cDecisionValue.FALSE: 1\u003e,\n",
              " DecisionKey(prototype_preorder_index=88, category=\u003cDecisionCategory.REGION_SHOULD_END: 2\u003e): \u003cDecisionValue.NOT_APPLICABLE: 3\u003e,\n",
              " DecisionKey(prototype_preorder_index=89, category=\u003cDecisionCategory.REGION_SHOULD_START: 1\u003e): \u003cDecisionValue.FALSE: 1\u003e,\n",
              " DecisionKey(prototype_preorder_index=90, category=\u003cDecisionCategory.REGION_SHOULD_END: 2\u003e): \u003cDecisionValue.NOT_APPLICABLE: 3\u003e,\n",
              " DecisionKey(prototype_preorder_index=91, category=\u003cDecisionCategory.NODE_IN_REGION: 3\u003e): \u003cDecisionValue.FALSE: 1\u003e,\n",
              " DecisionKey(prototype_preorder_index=92, category=\u003cDecisionCategory.REGION_SHOULD_END: 2\u003e): \u003cDecisionValue.NOT_APPLICABLE: 3\u003e,\n",
              " DecisionKey(prototype_preorder_index=94, category=\u003cDecisionCategory.REGION_SHOULD_START: 1\u003e): \u003cDecisionValue.TRUE: 2\u003e,\n",
              " DecisionKey(prototype_preorder_index=95, category=\u003cDecisionCategory.REGION_SHOULD_END: 2\u003e): \u003cDecisionValue.FALSE: 1\u003e,\n",
              " DecisionKey(prototype_preorder_index=96, category=\u003cDecisionCategory.NODE_IN_REGION: 3\u003e): \u003cDecisionValue.TRUE: 2\u003e,\n",
              " DecisionKey(prototype_preorder_index=97, category=\u003cDecisionCategory.REGION_SHOULD_END: 2\u003e): \u003cDecisionValue.FALSE: 1\u003e,\n",
              " DecisionKey(prototype_preorder_index=98, category=\u003cDecisionCategory.REGION_SHOULD_START: 1\u003e): \u003cDecisionValue.NOT_APPLICABLE: 3\u003e,\n",
              " DecisionKey(prototype_preorder_index=99, category=\u003cDecisionCategory.REGION_SHOULD_END: 2\u003e): \u003cDecisionValue.FALSE: 1\u003e,\n",
              " DecisionKey(prototype_preorder_index=100, category=\u003cDecisionCategory.NODE_IN_REGION: 3\u003e): \u003cDecisionValue.TRUE: 2\u003e,\n",
              " DecisionKey(prototype_preorder_index=101, category=\u003cDecisionCategory.NODE_IN_REGION: 3\u003e): \u003cDecisionValue.TRUE: 2\u003e,\n",
              " DecisionKey(prototype_preorder_index=102, category=\u003cDecisionCategory.NODE_IN_REGION: 3\u003e): \u003cDecisionValue.TRUE: 2\u003e,\n",
              " DecisionKey(prototype_preorder_index=103, category=\u003cDecisionCategory.REGION_SHOULD_START: 1\u003e): \u003cDecisionValue.NOT_APPLICABLE: 3\u003e,\n",
              " DecisionKey(prototype_preorder_index=104, category=\u003cDecisionCategory.REGION_SHOULD_END: 2\u003e): \u003cDecisionValue.FALSE: 1\u003e,\n",
              " DecisionKey(prototype_preorder_index=105, category=\u003cDecisionCategory.NODE_IN_REGION: 3\u003e): \u003cDecisionValue.TRUE: 2\u003e,\n",
              " DecisionKey(prototype_preorder_index=106, category=\u003cDecisionCategory.REGION_SHOULD_END: 2\u003e): \u003cDecisionValue.FALSE: 1\u003e,\n",
              " DecisionKey(prototype_preorder_index=107, category=\u003cDecisionCategory.REGION_SHOULD_START: 1\u003e): \u003cDecisionValue.NOT_APPLICABLE: 3\u003e,\n",
              " DecisionKey(prototype_preorder_index=108, category=\u003cDecisionCategory.REGION_SHOULD_END: 2\u003e): \u003cDecisionValue.FALSE: 1\u003e,\n",
              " DecisionKey(prototype_preorder_index=109, category=\u003cDecisionCategory.NODE_IN_REGION: 3\u003e): \u003cDecisionValue.TRUE: 2\u003e,\n",
              " DecisionKey(prototype_preorder_index=110, category=\u003cDecisionCategory.REGION_SHOULD_START: 1\u003e): \u003cDecisionValue.NOT_APPLICABLE: 3\u003e,\n",
              " DecisionKey(prototype_preorder_index=111, category=\u003cDecisionCategory.REGION_SHOULD_END: 2\u003e): \u003cDecisionValue.FALSE: 1\u003e,\n",
              " DecisionKey(prototype_preorder_index=112, category=\u003cDecisionCategory.REGION_SHOULD_END: 2\u003e): \u003cDecisionValue.FALSE: 1\u003e,\n",
              " DecisionKey(prototype_preorder_index=114, category=\u003cDecisionCategory.REGION_SHOULD_START: 1\u003e): \u003cDecisionValue.NOT_APPLICABLE: 3\u003e,\n",
              " DecisionKey(prototype_preorder_index=115, category=\u003cDecisionCategory.REGION_SHOULD_END: 2\u003e): \u003cDecisionValue.TRUE: 2\u003e,\n",
              " DecisionKey(prototype_preorder_index=116, category=\u003cDecisionCategory.REGION_SHOULD_END: 2\u003e): \u003cDecisionValue.NOT_APPLICABLE: 3\u003e,\n",
              " DecisionKey(prototype_preorder_index=117, category=\u003cDecisionCategory.REGION_SHOULD_START: 1\u003e): \u003cDecisionValue.TRUE: 2\u003e,\n",
              " DecisionKey(prototype_preorder_index=118, category=\u003cDecisionCategory.REGION_SHOULD_END: 2\u003e): \u003cDecisionValue.FALSE: 1\u003e,\n",
              " DecisionKey(prototype_preorder_index=119, category=\u003cDecisionCategory.NODE_IN_REGION: 3\u003e): \u003cDecisionValue.TRUE: 2\u003e,\n",
              " DecisionKey(prototype_preorder_index=121, category=\u003cDecisionCategory.REGION_SHOULD_START: 1\u003e): \u003cDecisionValue.NOT_APPLICABLE: 3\u003e,\n",
              " DecisionKey(prototype_preorder_index=122, category=\u003cDecisionCategory.REGION_SHOULD_END: 2\u003e): \u003cDecisionValue.FALSE: 1\u003e,\n",
              " DecisionKey(prototype_preorder_index=123, category=\u003cDecisionCategory.NODE_IN_REGION: 3\u003e): \u003cDecisionValue.TRUE: 2\u003e,\n",
              " DecisionKey(prototype_preorder_index=124, category=\u003cDecisionCategory.REGION_SHOULD_END: 2\u003e): \u003cDecisionValue.FALSE: 1\u003e,\n",
              " DecisionKey(prototype_preorder_index=126, category=\u003cDecisionCategory.REGION_SHOULD_START: 1\u003e): \u003cDecisionValue.NOT_APPLICABLE: 3\u003e,\n",
              " DecisionKey(prototype_preorder_index=127, category=\u003cDecisionCategory.REGION_SHOULD_END: 2\u003e): \u003cDecisionValue.FALSE: 1\u003e,\n",
              " DecisionKey(prototype_preorder_index=128, category=\u003cDecisionCategory.NODE_IN_REGION: 3\u003e): \u003cDecisionValue.TRUE: 2\u003e,\n",
              " DecisionKey(prototype_preorder_index=129, category=\u003cDecisionCategory.REGION_SHOULD_END: 2\u003e): \u003cDecisionValue.FALSE: 1\u003e,\n",
              " DecisionKey(prototype_preorder_index=130, category=\u003cDecisionCategory.REGION_SHOULD_START: 1\u003e): \u003cDecisionValue.NOT_APPLICABLE: 3\u003e,\n",
              " DecisionKey(prototype_preorder_index=131, category=\u003cDecisionCategory.REGION_SHOULD_END: 2\u003e): \u003cDecisionValue.FALSE: 1\u003e,\n",
              " DecisionKey(prototype_preorder_index=132, category=\u003cDecisionCategory.NODE_IN_REGION: 3\u003e): \u003cDecisionValue.TRUE: 2\u003e,\n",
              " DecisionKey(prototype_preorder_index=133, category=\u003cDecisionCategory.REGION_SHOULD_END: 2\u003e): \u003cDecisionValue.FALSE: 1\u003e,\n",
              " DecisionKey(prototype_preorder_index=135, category=\u003cDecisionCategory.REGION_SHOULD_START: 1\u003e): \u003cDecisionValue.NOT_APPLICABLE: 3\u003e,\n",
              " DecisionKey(prototype_preorder_index=136, category=\u003cDecisionCategory.REGION_SHOULD_END: 2\u003e): \u003cDecisionValue.FALSE: 1\u003e,\n",
              " DecisionKey(prototype_preorder_index=137, category=\u003cDecisionCategory.NODE_IN_REGION: 3\u003e): \u003cDecisionValue.TRUE: 2\u003e,\n",
              " DecisionKey(prototype_preorder_index=138, category=\u003cDecisionCategory.REGION_SHOULD_END: 2\u003e): \u003cDecisionValue.FALSE: 1\u003e,\n",
              " DecisionKey(prototype_preorder_index=139, category=\u003cDecisionCategory.REGION_SHOULD_START: 1\u003e): \u003cDecisionValue.NOT_APPLICABLE: 3\u003e,\n",
              " DecisionKey(prototype_preorder_index=140, category=\u003cDecisionCategory.REGION_SHOULD_END: 2\u003e): \u003cDecisionValue.FALSE: 1\u003e,\n",
              " DecisionKey(prototype_preorder_index=141, category=\u003cDecisionCategory.NODE_IN_REGION: 3\u003e): \u003cDecisionValue.TRUE: 2\u003e,\n",
              " DecisionKey(prototype_preorder_index=142, category=\u003cDecisionCategory.NODE_IN_REGION: 3\u003e): \u003cDecisionValue.TRUE: 2\u003e,\n",
              " DecisionKey(prototype_preorder_index=143, category=\u003cDecisionCategory.NODE_IN_REGION: 3\u003e): \u003cDecisionValue.TRUE: 2\u003e,\n",
              " DecisionKey(prototype_preorder_index=144, category=\u003cDecisionCategory.REGION_SHOULD_START: 1\u003e): \u003cDecisionValue.NOT_APPLICABLE: 3\u003e,\n",
              " DecisionKey(prototype_preorder_index=145, category=\u003cDecisionCategory.REGION_SHOULD_END: 2\u003e): \u003cDecisionValue.FALSE: 1\u003e,\n",
              " DecisionKey(prototype_preorder_index=146, category=\u003cDecisionCategory.NODE_IN_REGION: 3\u003e): \u003cDecisionValue.TRUE: 2\u003e,\n",
              " DecisionKey(prototype_preorder_index=147, category=\u003cDecisionCategory.REGION_SHOULD_END: 2\u003e): \u003cDecisionValue.FALSE: 1\u003e,\n",
              " DecisionKey(prototype_preorder_index=148, category=\u003cDecisionCategory.REGION_SHOULD_START: 1\u003e): \u003cDecisionValue.NOT_APPLICABLE: 3\u003e,\n",
              " DecisionKey(prototype_preorder_index=149, category=\u003cDecisionCategory.REGION_SHOULD_END: 2\u003e): \u003cDecisionValue.FALSE: 1\u003e,\n",
              " DecisionKey(prototype_preorder_index=150, category=\u003cDecisionCategory.NODE_IN_REGION: 3\u003e): \u003cDecisionValue.TRUE: 2\u003e,\n",
              " DecisionKey(prototype_preorder_index=151, category=\u003cDecisionCategory.REGION_SHOULD_START: 1\u003e): \u003cDecisionValue.NOT_APPLICABLE: 3\u003e,\n",
              " DecisionKey(prototype_preorder_index=152, category=\u003cDecisionCategory.REGION_SHOULD_END: 2\u003e): \u003cDecisionValue.FALSE: 1\u003e,\n",
              " DecisionKey(prototype_preorder_index=153, category=\u003cDecisionCategory.REGION_SHOULD_END: 2\u003e): \u003cDecisionValue.FALSE: 1\u003e,\n",
              " DecisionKey(prototype_preorder_index=155, category=\u003cDecisionCategory.REGION_SHOULD_START: 1\u003e): \u003cDecisionValue.NOT_APPLICABLE: 3\u003e,\n",
              " DecisionKey(prototype_preorder_index=156, category=\u003cDecisionCategory.REGION_SHOULD_END: 2\u003e): \u003cDecisionValue.FALSE: 1\u003e,\n",
              " DecisionKey(prototype_preorder_index=157, category=\u003cDecisionCategory.REGION_SHOULD_END: 2\u003e): \u003cDecisionValue.FALSE: 1\u003e,\n",
              " DecisionKey(prototype_preorder_index=158, category=\u003cDecisionCategory.REGION_SHOULD_START: 1\u003e): \u003cDecisionValue.NOT_APPLICABLE: 3\u003e,\n",
              " DecisionKey(prototype_preorder_index=159, category=\u003cDecisionCategory.REGION_SHOULD_END: 2\u003e): \u003cDecisionValue.TRUE: 2\u003e,\n",
              " DecisionKey(prototype_preorder_index=160, category=\u003cDecisionCategory.NODE_IN_REGION: 3\u003e): \u003cDecisionValue.FALSE: 1\u003e,\n",
              " DecisionKey(prototype_preorder_index=162, category=\u003cDecisionCategory.REGION_SHOULD_START: 1\u003e): \u003cDecisionValue.FALSE: 1\u003e,\n",
              " DecisionKey(prototype_preorder_index=163, category=\u003cDecisionCategory.REGION_SHOULD_END: 2\u003e): \u003cDecisionValue.NOT_APPLICABLE: 3\u003e,\n",
              " DecisionKey(prototype_preorder_index=164, category=\u003cDecisionCategory.NODE_IN_REGION: 3\u003e): \u003cDecisionValue.FALSE: 1\u003e,\n",
              " DecisionKey(prototype_preorder_index=165, category=\u003cDecisionCategory.REGION_SHOULD_END: 2\u003e): \u003cDecisionValue.NOT_APPLICABLE: 3\u003e,\n",
              " DecisionKey(prototype_preorder_index=166, category=\u003cDecisionCategory.REGION_SHOULD_START: 1\u003e): \u003cDecisionValue.FALSE: 1\u003e,\n",
              " DecisionKey(prototype_preorder_index=167, category=\u003cDecisionCategory.REGION_SHOULD_END: 2\u003e): \u003cDecisionValue.NOT_APPLICABLE: 3\u003e,\n",
              " DecisionKey(prototype_preorder_index=168, category=\u003cDecisionCategory.NODE_IN_REGION: 3\u003e): \u003cDecisionValue.FALSE: 1\u003e,\n",
              " DecisionKey(prototype_preorder_index=169, category=\u003cDecisionCategory.NODE_IN_REGION: 3\u003e): \u003cDecisionValue.FALSE: 1\u003e,\n",
              " DecisionKey(prototype_preorder_index=170, category=\u003cDecisionCategory.NODE_IN_REGION: 3\u003e): \u003cDecisionValue.FALSE: 1\u003e,\n",
              " DecisionKey(prototype_preorder_index=171, category=\u003cDecisionCategory.REGION_SHOULD_START: 1\u003e): \u003cDecisionValue.FALSE: 1\u003e,\n",
              " DecisionKey(prototype_preorder_index=172, category=\u003cDecisionCategory.REGION_SHOULD_END: 2\u003e): \u003cDecisionValue.NOT_APPLICABLE: 3\u003e,\n",
              " DecisionKey(prototype_preorder_index=173, category=\u003cDecisionCategory.NODE_IN_REGION: 3\u003e): \u003cDecisionValue.FALSE: 1\u003e,\n",
              " DecisionKey(prototype_preorder_index=174, category=\u003cDecisionCategory.REGION_SHOULD_END: 2\u003e): \u003cDecisionValue.NOT_APPLICABLE: 3\u003e,\n",
              " DecisionKey(prototype_preorder_index=175, category=\u003cDecisionCategory.REGION_SHOULD_START: 1\u003e): \u003cDecisionValue.FALSE: 1\u003e,\n",
              " DecisionKey(prototype_preorder_index=176, category=\u003cDecisionCategory.REGION_SHOULD_END: 2\u003e): \u003cDecisionValue.NOT_APPLICABLE: 3\u003e,\n",
              " DecisionKey(prototype_preorder_index=177, category=\u003cDecisionCategory.NODE_IN_REGION: 3\u003e): \u003cDecisionValue.FALSE: 1\u003e,\n",
              " DecisionKey(prototype_preorder_index=178, category=\u003cDecisionCategory.REGION_SHOULD_START: 1\u003e): \u003cDecisionValue.FALSE: 1\u003e,\n",
              " DecisionKey(prototype_preorder_index=179, category=\u003cDecisionCategory.REGION_SHOULD_END: 2\u003e): \u003cDecisionValue.NOT_APPLICABLE: 3\u003e,\n",
              " DecisionKey(prototype_preorder_index=180, category=\u003cDecisionCategory.REGION_SHOULD_END: 2\u003e): \u003cDecisionValue.NOT_APPLICABLE: 3\u003e,\n",
              " DecisionKey(prototype_preorder_index=182, category=\u003cDecisionCategory.REGION_SHOULD_START: 1\u003e): \u003cDecisionValue.FALSE: 1\u003e,\n",
              " DecisionKey(prototype_preorder_index=183, category=\u003cDecisionCategory.REGION_SHOULD_END: 2\u003e): \u003cDecisionValue.NOT_APPLICABLE: 3\u003e,\n",
              " DecisionKey(prototype_preorder_index=184, category=\u003cDecisionCategory.NODE_IN_REGION: 3\u003e): \u003cDecisionValue.FALSE: 1\u003e,\n",
              " DecisionKey(prototype_preorder_index=185, category=\u003cDecisionCategory.REGION_SHOULD_END: 2\u003e): \u003cDecisionValue.NOT_APPLICABLE: 3\u003e,\n",
              " DecisionKey(prototype_preorder_index=186, category=\u003cDecisionCategory.REGION_SHOULD_START: 1\u003e): \u003cDecisionValue.FALSE: 1\u003e,\n",
              " DecisionKey(prototype_preorder_index=187, category=\u003cDecisionCategory.REGION_SHOULD_END: 2\u003e): \u003cDecisionValue.NOT_APPLICABLE: 3\u003e,\n",
              " DecisionKey(prototype_preorder_index=188, category=\u003cDecisionCategory.NODE_IN_REGION: 3\u003e): \u003cDecisionValue.FALSE: 1\u003e,\n",
              " DecisionKey(prototype_preorder_index=189, category=\u003cDecisionCategory.REGION_SHOULD_END: 2\u003e): \u003cDecisionValue.NOT_APPLICABLE: 3\u003e,\n",
              " DecisionKey(prototype_preorder_index=191, category=\u003cDecisionCategory.REGION_SHOULD_START: 1\u003e): \u003cDecisionValue.FALSE: 1\u003e,\n",
              " DecisionKey(prototype_preorder_index=192, category=\u003cDecisionCategory.REGION_SHOULD_END: 2\u003e): \u003cDecisionValue.NOT_APPLICABLE: 3\u003e,\n",
              " DecisionKey(prototype_preorder_index=193, category=\u003cDecisionCategory.NODE_IN_REGION: 3\u003e): \u003cDecisionValue.FALSE: 1\u003e,\n",
              " DecisionKey(prototype_preorder_index=194, category=\u003cDecisionCategory.REGION_SHOULD_END: 2\u003e): \u003cDecisionValue.NOT_APPLICABLE: 3\u003e,\n",
              " DecisionKey(prototype_preorder_index=195, category=\u003cDecisionCategory.REGION_SHOULD_START: 1\u003e): \u003cDecisionValue.FALSE: 1\u003e,\n",
              " DecisionKey(prototype_preorder_index=196, category=\u003cDecisionCategory.REGION_SHOULD_END: 2\u003e): \u003cDecisionValue.NOT_APPLICABLE: 3\u003e,\n",
              " DecisionKey(prototype_preorder_index=197, category=\u003cDecisionCategory.REGION_SHOULD_END: 2\u003e): \u003cDecisionValue.NOT_APPLICABLE: 3\u003e,\n",
              " DecisionKey(prototype_preorder_index=198, category=\u003cDecisionCategory.REGION_SHOULD_START: 1\u003e): \u003cDecisionValue.TRUE: 2\u003e,\n",
              " DecisionKey(prototype_preorder_index=199, category=\u003cDecisionCategory.REGION_SHOULD_END: 2\u003e): \u003cDecisionValue.TRUE: 2\u003e,\n",
              " DecisionKey(prototype_preorder_index=200, category=\u003cDecisionCategory.NODE_IN_REGION: 3\u003e): \u003cDecisionValue.FALSE: 1\u003e,\n",
              " DecisionKey(prototype_preorder_index=201, category=\u003cDecisionCategory.REGION_SHOULD_START: 1\u003e): \u003cDecisionValue.FALSE: 1\u003e,\n",
              " DecisionKey(prototype_preorder_index=202, category=\u003cDecisionCategory.REGION_SHOULD_END: 2\u003e): \u003cDecisionValue.NOT_APPLICABLE: 3\u003e,\n",
              " DecisionKey(prototype_preorder_index=203, category=\u003cDecisionCategory.REGION_SHOULD_END: 2\u003e): \u003cDecisionValue.NOT_APPLICABLE: 3\u003e,\n",
              " DecisionKey(prototype_preorder_index=205, category=\u003cDecisionCategory.REGION_SHOULD_START: 1\u003e): \u003cDecisionValue.FALSE: 1\u003e,\n",
              " DecisionKey(prototype_preorder_index=206, category=\u003cDecisionCategory.REGION_SHOULD_END: 2\u003e): \u003cDecisionValue.NOT_APPLICABLE: 3\u003e,\n",
              " DecisionKey(prototype_preorder_index=207, category=\u003cDecisionCategory.REGION_SHOULD_END: 2\u003e): \u003cDecisionValue.NOT_APPLICABLE: 3\u003e,\n",
              " DecisionKey(prototype_preorder_index=208, category=\u003cDecisionCategory.REGION_SHOULD_START: 1\u003e): \u003cDecisionValue.FALSE: 1\u003e,\n",
              " DecisionKey(prototype_preorder_index=209, category=\u003cDecisionCategory.REGION_SHOULD_END: 2\u003e): \u003cDecisionValue.NOT_APPLICABLE: 3\u003e,\n",
              " DecisionKey(prototype_preorder_index=210, category=\u003cDecisionCategory.REGION_SHOULD_END: 2\u003e): \u003cDecisionValue.NOT_APPLICABLE: 3\u003e,\n",
              " DecisionKey(prototype_preorder_index=211, category=\u003cDecisionCategory.REGION_SHOULD_START: 1\u003e): \u003cDecisionValue.FALSE: 1\u003e,\n",
              " DecisionKey(prototype_preorder_index=212, category=\u003cDecisionCategory.REGION_SHOULD_END: 2\u003e): \u003cDecisionValue.NOT_APPLICABLE: 3\u003e,\n",
              " DecisionKey(prototype_preorder_index=213, category=\u003cDecisionCategory.NODE_IN_REGION: 3\u003e): \u003cDecisionValue.FALSE: 1\u003e,\n",
              " DecisionKey(prototype_preorder_index=215, category=\u003cDecisionCategory.REGION_SHOULD_START: 1\u003e): \u003cDecisionValue.FALSE: 1\u003e,\n",
              " DecisionKey(prototype_preorder_index=216, category=\u003cDecisionCategory.REGION_SHOULD_END: 2\u003e): \u003cDecisionValue.NOT_APPLICABLE: 3\u003e,\n",
              " DecisionKey(prototype_preorder_index=217, category=\u003cDecisionCategory.NODE_IN_REGION: 3\u003e): \u003cDecisionValue.FALSE: 1\u003e,\n",
              " DecisionKey(prototype_preorder_index=218, category=\u003cDecisionCategory.REGION_SHOULD_END: 2\u003e): \u003cDecisionValue.NOT_APPLICABLE: 3\u003e,\n",
              " DecisionKey(prototype_preorder_index=220, category=\u003cDecisionCategory.REGION_SHOULD_START: 1\u003e): \u003cDecisionValue.FALSE: 1\u003e,\n",
              " DecisionKey(prototype_preorder_index=221, category=\u003cDecisionCategory.REGION_SHOULD_END: 2\u003e): \u003cDecisionValue.NOT_APPLICABLE: 3\u003e,\n",
              " DecisionKey(prototype_preorder_index=222, category=\u003cDecisionCategory.NODE_IN_REGION: 3\u003e): \u003cDecisionValue.FALSE: 1\u003e,\n",
              " DecisionKey(prototype_preorder_index=223, category=\u003cDecisionCategory.REGION_SHOULD_END: 2\u003e): \u003cDecisionValue.NOT_APPLICABLE: 3\u003e,\n",
              " DecisionKey(prototype_preorder_index=225, category=\u003cDecisionCategory.REGION_SHOULD_START: 1\u003e): \u003cDecisionValue.FALSE: 1\u003e,\n",
              " DecisionKey(prototype_preorder_index=226, category=\u003cDecisionCategory.REGION_SHOULD_END: 2\u003e): \u003cDecisionValue.NOT_APPLICABLE: 3\u003e,\n",
              " DecisionKey(prototype_preorder_index=227, category=\u003cDecisionCategory.REGION_SHOULD_END: 2\u003e): \u003cDecisionValue.NOT_APPLICABLE: 3\u003e,\n",
              " DecisionKey(prototype_preorder_index=228, category=\u003cDecisionCategory.REGION_SHOULD_START: 1\u003e): \u003cDecisionValue.FALSE: 1\u003e,\n",
              " DecisionKey(prototype_preorder_index=229, category=\u003cDecisionCategory.REGION_SHOULD_END: 2\u003e): \u003cDecisionValue.NOT_APPLICABLE: 3\u003e,\n",
              " DecisionKey(prototype_preorder_index=230, category=\u003cDecisionCategory.NODE_IN_REGION: 3\u003e): \u003cDecisionValue.FALSE: 1\u003e,\n",
              " DecisionKey(prototype_preorder_index=231, category=\u003cDecisionCategory.REGION_SHOULD_START: 1\u003e): \u003cDecisionValue.FALSE: 1\u003e,\n",
              " DecisionKey(prototype_preorder_index=232, category=\u003cDecisionCategory.REGION_SHOULD_END: 2\u003e): \u003cDecisionValue.NOT_APPLICABLE: 3\u003e,\n",
              " DecisionKey(prototype_preorder_index=233, category=\u003cDecisionCategory.REGION_SHOULD_END: 2\u003e): \u003cDecisionValue.NOT_APPLICABLE: 3\u003e,\n",
              " DecisionKey(prototype_preorder_index=235, category=\u003cDecisionCategory.REGION_SHOULD_START: 1\u003e): \u003cDecisionValue.FALSE: 1\u003e,\n",
              " DecisionKey(prototype_preorder_index=236, category=\u003cDecisionCategory.REGION_SHOULD_END: 2\u003e): \u003cDecisionValue.NOT_APPLICABLE: 3\u003e,\n",
              " DecisionKey(prototype_preorder_index=237, category=\u003cDecisionCategory.REGION_SHOULD_END: 2\u003e): \u003cDecisionValue.NOT_APPLICABLE: 3\u003e,\n",
              " DecisionKey(prototype_preorder_index=238, category=\u003cDecisionCategory.REGION_SHOULD_START: 1\u003e): \u003cDecisionValue.FALSE: 1\u003e,\n",
              " DecisionKey(prototype_preorder_index=239, category=\u003cDecisionCategory.REGION_SHOULD_END: 2\u003e): \u003cDecisionValue.NOT_APPLICABLE: 3\u003e,\n",
              " DecisionKey(prototype_preorder_index=240, category=\u003cDecisionCategory.REGION_SHOULD_END: 2\u003e): \u003cDecisionValue.NOT_APPLICABLE: 3\u003e,\n",
              " DecisionKey(prototype_preorder_index=241, category=\u003cDecisionCategory.REGION_SHOULD_START: 1\u003e): \u003cDecisionValue.TRUE: 2\u003e,\n",
              " DecisionKey(prototype_preorder_index=242, category=\u003cDecisionCategory.REGION_SHOULD_END: 2\u003e): \u003cDecisionValue.FALSE: 1\u003e,\n",
              " DecisionKey(prototype_preorder_index=243, category=\u003cDecisionCategory.NODE_IN_REGION: 3\u003e): \u003cDecisionValue.TRUE: 2\u003e,\n",
              " DecisionKey(prototype_preorder_index=244, category=\u003cDecisionCategory.REGION_SHOULD_START: 1\u003e): \u003cDecisionValue.NOT_APPLICABLE: 3\u003e,\n",
              " DecisionKey(prototype_preorder_index=245, category=\u003cDecisionCategory.REGION_SHOULD_END: 2\u003e): \u003cDecisionValue.FALSE: 1\u003e,\n",
              " DecisionKey(prototype_preorder_index=246, category=\u003cDecisionCategory.NODE_IN_REGION: 3\u003e): \u003cDecisionValue.TRUE: 2\u003e,\n",
              " DecisionKey(prototype_preorder_index=247, category=\u003cDecisionCategory.REGION_SHOULD_END: 2\u003e): \u003cDecisionValue.FALSE: 1\u003e,\n",
              " DecisionKey(prototype_preorder_index=248, category=\u003cDecisionCategory.REGION_SHOULD_START: 1\u003e): \u003cDecisionValue.NOT_APPLICABLE: 3\u003e,\n",
              " DecisionKey(prototype_preorder_index=249, category=\u003cDecisionCategory.REGION_SHOULD_END: 2\u003e): \u003cDecisionValue.FALSE: 1\u003e,\n",
              " DecisionKey(prototype_preorder_index=250, category=\u003cDecisionCategory.NODE_IN_REGION: 3\u003e): \u003cDecisionValue.TRUE: 2\u003e,\n",
              " DecisionKey(prototype_preorder_index=251, category=\u003cDecisionCategory.NODE_IN_REGION: 3\u003e): \u003cDecisionValue.TRUE: 2\u003e,\n",
              " DecisionKey(prototype_preorder_index=252, category=\u003cDecisionCategory.NODE_IN_REGION: 3\u003e): \u003cDecisionValue.TRUE: 2\u003e,\n",
              " DecisionKey(prototype_preorder_index=253, category=\u003cDecisionCategory.REGION_SHOULD_START: 1\u003e): \u003cDecisionValue.NOT_APPLICABLE: 3\u003e,\n",
              " DecisionKey(prototype_preorder_index=254, category=\u003cDecisionCategory.REGION_SHOULD_END: 2\u003e): \u003cDecisionValue.FALSE: 1\u003e,\n",
              " DecisionKey(prototype_preorder_index=255, category=\u003cDecisionCategory.NODE_IN_REGION: 3\u003e): \u003cDecisionValue.TRUE: 2\u003e,\n",
              " DecisionKey(prototype_preorder_index=256, category=\u003cDecisionCategory.REGION_SHOULD_END: 2\u003e): \u003cDecisionValue.FALSE: 1\u003e,\n",
              " DecisionKey(prototype_preorder_index=257, category=\u003cDecisionCategory.REGION_SHOULD_START: 1\u003e): \u003cDecisionValue.NOT_APPLICABLE: 3\u003e,\n",
              " DecisionKey(prototype_preorder_index=258, category=\u003cDecisionCategory.REGION_SHOULD_END: 2\u003e): \u003cDecisionValue.FALSE: 1\u003e,\n",
              " DecisionKey(prototype_preorder_index=259, category=\u003cDecisionCategory.NODE_IN_REGION: 3\u003e): \u003cDecisionValue.TRUE: 2\u003e,\n",
              " DecisionKey(prototype_preorder_index=260, category=\u003cDecisionCategory.NODE_IN_REGION: 3\u003e): \u003cDecisionValue.TRUE: 2\u003e,\n",
              " DecisionKey(prototype_preorder_index=261, category=\u003cDecisionCategory.NODE_IN_REGION: 3\u003e): \u003cDecisionValue.TRUE: 2\u003e,\n",
              " DecisionKey(prototype_preorder_index=262, category=\u003cDecisionCategory.REGION_SHOULD_START: 1\u003e): \u003cDecisionValue.NOT_APPLICABLE: 3\u003e,\n",
              " DecisionKey(prototype_preorder_index=263, category=\u003cDecisionCategory.REGION_SHOULD_END: 2\u003e): \u003cDecisionValue.FALSE: 1\u003e,\n",
              " DecisionKey(prototype_preorder_index=264, category=\u003cDecisionCategory.NODE_IN_REGION: 3\u003e): \u003cDecisionValue.TRUE: 2\u003e,\n",
              " DecisionKey(prototype_preorder_index=265, category=\u003cDecisionCategory.REGION_SHOULD_START: 1\u003e): \u003cDecisionValue.NOT_APPLICABLE: 3\u003e,\n",
              " DecisionKey(prototype_preorder_index=266, category=\u003cDecisionCategory.REGION_SHOULD_END: 2\u003e): \u003cDecisionValue.FALSE: 1\u003e,\n",
              " DecisionKey(prototype_preorder_index=267, category=\u003cDecisionCategory.NODE_IN_REGION: 3\u003e): \u003cDecisionValue.TRUE: 2\u003e,\n",
              " DecisionKey(prototype_preorder_index=268, category=\u003cDecisionCategory.REGION_SHOULD_END: 2\u003e): \u003cDecisionValue.FALSE: 1\u003e,\n",
              " DecisionKey(prototype_preorder_index=269, category=\u003cDecisionCategory.REGION_SHOULD_START: 1\u003e): \u003cDecisionValue.NOT_APPLICABLE: 3\u003e,\n",
              " DecisionKey(prototype_preorder_index=270, category=\u003cDecisionCategory.REGION_SHOULD_END: 2\u003e): \u003cDecisionValue.FALSE: 1\u003e,\n",
              " DecisionKey(prototype_preorder_index=271, category=\u003cDecisionCategory.NODE_IN_REGION: 3\u003e): \u003cDecisionValue.TRUE: 2\u003e,\n",
              " DecisionKey(prototype_preorder_index=272, category=\u003cDecisionCategory.REGION_SHOULD_END: 2\u003e): \u003cDecisionValue.FALSE: 1\u003e,\n",
              " DecisionKey(prototype_preorder_index=273, category=\u003cDecisionCategory.REGION_SHOULD_START: 1\u003e): \u003cDecisionValue.NOT_APPLICABLE: 3\u003e,\n",
              " DecisionKey(prototype_preorder_index=274, category=\u003cDecisionCategory.REGION_SHOULD_END: 2\u003e): \u003cDecisionValue.FALSE: 1\u003e,\n",
              " DecisionKey(prototype_preorder_index=275, category=\u003cDecisionCategory.NODE_IN_REGION: 3\u003e): \u003cDecisionValue.TRUE: 2\u003e,\n",
              " DecisionKey(prototype_preorder_index=276, category=\u003cDecisionCategory.REGION_SHOULD_END: 2\u003e): \u003cDecisionValue.FALSE: 1\u003e,\n",
              " DecisionKey(prototype_preorder_index=277, category=\u003cDecisionCategory.REGION_SHOULD_START: 1\u003e): \u003cDecisionValue.NOT_APPLICABLE: 3\u003e,\n",
              " DecisionKey(prototype_preorder_index=278, category=\u003cDecisionCategory.REGION_SHOULD_END: 2\u003e): \u003cDecisionValue.FALSE: 1\u003e,\n",
              " DecisionKey(prototype_preorder_index=279, category=\u003cDecisionCategory.REGION_SHOULD_END: 2\u003e): \u003cDecisionValue.FALSE: 1\u003e,\n",
              " DecisionKey(prototype_preorder_index=280, category=\u003cDecisionCategory.REGION_SHOULD_START: 1\u003e): \u003cDecisionValue.NOT_APPLICABLE: 3\u003e,\n",
              " DecisionKey(prototype_preorder_index=281, category=\u003cDecisionCategory.REGION_SHOULD_END: 2\u003e): \u003cDecisionValue.FALSE: 1\u003e,\n",
              " DecisionKey(prototype_preorder_index=282, category=\u003cDecisionCategory.NODE_IN_REGION: 3\u003e): \u003cDecisionValue.TRUE: 2\u003e,\n",
              " DecisionKey(prototype_preorder_index=283, category=\u003cDecisionCategory.REGION_SHOULD_END: 2\u003e): \u003cDecisionValue.FALSE: 1\u003e,\n",
              " DecisionKey(prototype_preorder_index=284, category=\u003cDecisionCategory.REGION_SHOULD_START: 1\u003e): \u003cDecisionValue.NOT_APPLICABLE: 3\u003e,\n",
              " DecisionKey(prototype_preorder_index=285, category=\u003cDecisionCategory.REGION_SHOULD_END: 2\u003e): \u003cDecisionValue.FALSE: 1\u003e,\n",
              " DecisionKey(prototype_preorder_index=286, category=\u003cDecisionCategory.NODE_IN_REGION: 3\u003e): \u003cDecisionValue.TRUE: 2\u003e,\n",
              " DecisionKey(prototype_preorder_index=287, category=\u003cDecisionCategory.REGION_SHOULD_END: 2\u003e): \u003cDecisionValue.FALSE: 1\u003e,\n",
              " DecisionKey(prototype_preorder_index=288, category=\u003cDecisionCategory.REGION_SHOULD_START: 1\u003e): \u003cDecisionValue.NOT_APPLICABLE: 3\u003e,\n",
              " DecisionKey(prototype_preorder_index=289, category=\u003cDecisionCategory.REGION_SHOULD_END: 2\u003e): \u003cDecisionValue.FALSE: 1\u003e,\n",
              " DecisionKey(prototype_preorder_index=290, category=\u003cDecisionCategory.NODE_IN_REGION: 3\u003e): \u003cDecisionValue.TRUE: 2\u003e,\n",
              " DecisionKey(prototype_preorder_index=291, category=\u003cDecisionCategory.REGION_SHOULD_START: 1\u003e): \u003cDecisionValue.NOT_APPLICABLE: 3\u003e,\n",
              " DecisionKey(prototype_preorder_index=292, category=\u003cDecisionCategory.REGION_SHOULD_END: 2\u003e): \u003cDecisionValue.FALSE: 1\u003e,\n",
              " DecisionKey(prototype_preorder_index=293, category=\u003cDecisionCategory.REGION_SHOULD_END: 2\u003e): \u003cDecisionValue.FALSE: 1\u003e,\n",
              " DecisionKey(prototype_preorder_index=294, category=\u003cDecisionCategory.REGION_SHOULD_START: 1\u003e): \u003cDecisionValue.NOT_APPLICABLE: 3\u003e,\n",
              " DecisionKey(prototype_preorder_index=295, category=\u003cDecisionCategory.REGION_SHOULD_END: 2\u003e): \u003cDecisionValue.FALSE: 1\u003e,\n",
              " DecisionKey(prototype_preorder_index=296, category=\u003cDecisionCategory.NODE_IN_REGION: 3\u003e): \u003cDecisionValue.TRUE: 2\u003e,\n",
              " DecisionKey(prototype_preorder_index=297, category=\u003cDecisionCategory.REGION_SHOULD_START: 1\u003e): \u003cDecisionValue.NOT_APPLICABLE: 3\u003e,\n",
              " DecisionKey(prototype_preorder_index=298, category=\u003cDecisionCategory.REGION_SHOULD_END: 2\u003e): \u003cDecisionValue.FALSE: 1\u003e,\n",
              " DecisionKey(prototype_preorder_index=299, category=\u003cDecisionCategory.REGION_SHOULD_END: 2\u003e): \u003cDecisionValue.FALSE: 1\u003e,\n",
              " DecisionKey(prototype_preorder_index=301, category=\u003cDecisionCategory.REGION_SHOULD_START: 1\u003e): \u003cDecisionValue.NOT_APPLICABLE: 3\u003e,\n",
              " DecisionKey(prototype_preorder_index=302, category=\u003cDecisionCategory.REGION_SHOULD_END: 2\u003e): \u003cDecisionValue.FALSE: 1\u003e,\n",
              " DecisionKey(prototype_preorder_index=303, category=\u003cDecisionCategory.REGION_SHOULD_END: 2\u003e): \u003cDecisionValue.FALSE: 1\u003e,\n",
              " DecisionKey(prototype_preorder_index=304, category=\u003cDecisionCategory.REGION_SHOULD_START: 1\u003e): \u003cDecisionValue.NOT_APPLICABLE: 3\u003e,\n",
              " DecisionKey(prototype_preorder_index=305, category=\u003cDecisionCategory.REGION_SHOULD_END: 2\u003e): \u003cDecisionValue.TRUE: 2\u003e,\n",
              " DecisionKey(prototype_preorder_index=306, category=\u003cDecisionCategory.REGION_SHOULD_END: 2\u003e): \u003cDecisionValue.NOT_APPLICABLE: 3\u003e,\n",
              " DecisionKey(prototype_preorder_index=307, category=\u003cDecisionCategory.REGION_SHOULD_START: 1\u003e): \u003cDecisionValue.FALSE: 1\u003e,\n",
              " DecisionKey(prototype_preorder_index=308, category=\u003cDecisionCategory.REGION_SHOULD_END: 2\u003e): \u003cDecisionValue.NOT_APPLICABLE: 3\u003e}"
            ]
          },
          "execution_count": 0,
          "metadata": {},
          "output_type": "execute_result"
        }
      ],
      "source": [
        "# Limit the size of the output area.\n",
        "display.display(display.Javascript('google.colab.output.setIframeHeight(0, true, {maxHeight: 400})'))\n",
        "\n",
        "combine_result.assignment_map"
      ]
    },
    {
      "cell_type": "markdown",
      "metadata": {
        "id": "E2TWRG8dB6IP"
      },
      "source": [
        "## Token probabilities and baseline suggestions"
      ]
    },
    {
      "cell_type": "markdown",
      "metadata": {
        "id": "Zy6Wo2aXGUa8"
      },
      "source": [
        "If the generative model produces per-token conditional probabilities, we can use them to construct the baseline suggestions shown in the paper. For this demo, we'll just look it up in our saved results."
      ]
    },
    {
      "cell_type": "code",
      "execution_count": null,
      "metadata": {
        "id": "D58LCCSgCXy-"
      },
      "outputs": [],
      "source": [
        "context, model_samples_with_log_probs = demo_examples.get_context_and_token_probs(demo_example_key)\n",
        "one_sample_with_log_probs = model_samples_with_log_probs[0]"
      ]
    },
    {
      "cell_type": "markdown",
      "metadata": {
        "id": "f0rvcDQGSm7s"
      },
      "source": [
        "We can then visualize the probabilities given by the model (here red denotes lower-confidence tokens):"
      ]
    },
    {
      "cell_type": "code",
      "execution_count": null,
      "metadata": {
        "colab": {
          "height": 277
        },
        "id": "jMbUGN3dSmiC",
        "outputId": "cad4216c-d700-4547-87fb-82b537c35962"
      },
      "outputs": [
        {
          "data": {
            "text/html": [
              "\u003cspan style=\"white-space: pre; font-family: monospace;\"\u003e\n",
              "# Write a python function to count number of substrings with the sum of digits equal to their length.\n",
              "\n",
              "from collections import defaultdict\n",
              "def count_Substrings(s,n):\n",
              "    count,sum = 0,0\n",
              "    mp = defaultdict(lambda : 0)\n",
              "    mp[0] += 1\u003c/span\u003e\u003cspan style=\"white-space: pre; font-family: monospace; font-weight: bold\"\u003e\u003cspan style=\"background-color: rgb(100.0%, 94.15761995115669%, 94.15761995115669%)\"\u003e↩\n",
              "\u003c/span\u003e\u003cspan style=\"background-color: rgb(100.0%, 75.07369161321245%, 75.07369161321245%)\"\u003e \u003c/span\u003e\u003cspan style=\"background-color: rgb(100.0%, 99.84012793176063%, 99.84012793176063%)\"\u003e \u003c/span\u003e\u003cspan style=\"background-color: rgb(100.0%, 99.92003199146838%, 99.92003199146838%)\"\u003e \u003c/span\u003e\u003cspan style=\"background-color: rgb(100.0%, 88.763025695677%, 88.763025695677%)\"\u003e for\u003c/span\u003e\u003cspan style=\"background-color: rgb(100.0%, 92.18248877336897%, 92.18248877336897%)\"\u003e i\u003c/span\u003e\u003cspan style=\"background-color: rgb(100.0%, 96.36761353490535%, 96.36761353490535%)\"\u003e in\u003c/span\u003e\u003cspan style=\"background-color: rgb(100.0%, 78.55273525967388%, 78.55273525967388%)\"\u003e range\u003c/span\u003e\u003cspan style=\"background-color: rgb(100.0%, 99.0941279690043%, 99.0941279690043%)\"\u003e(\u003c/span\u003e\u003cspan style=\"background-color: rgb(100.0%, 17.9927731568004%, 17.9927731568004%)\"\u003e0\u003c/span\u003e\u003cspan style=\"background-color: rgb(100.0%, 99.05449824429004%, 99.05449824429004%)\"\u003e,\u003c/span\u003e\u003cspan style=\"background-color: rgb(100.0%, 53.1633998046356%, 53.1633998046356%)\"\u003en\u003c/span\u003e\u003cspan style=\"background-color: rgb(100.0%, 94.7621611873004%, 94.7621611873004%)\"\u003e):\u003c/span\u003e\u003cspan style=\"background-color: rgb(100.0%, 98.14737602089659%, 98.14737602089659%)\"\u003e↩\n",
              "\u003c/span\u003e\u003cspan style=\"background-color: rgb(100.0%, 98.44226025414599%, 98.44226025414599%)\"\u003e        \u003c/span\u003e\u003cspan style=\"background-color: rgb(100.0%, 94.17645335842487%, 94.17645335842487%)\"\u003esum\u003c/span\u003e\u003cspan style=\"background-color: rgb(100.0%, 75.41982609358783%, 75.41982609358783%)\"\u003e +=\u003c/span\u003e\u003cspan style=\"background-color: rgb(100.0%, 29.537781891739844%, 29.537781891739844%)\"\u003e \u003c/span\u003e\u003cspan style=\"background-color: rgb(100.0%, 97.62857097579094%, 97.62857097579094%)\"\u003es\u003c/span\u003e\u003cspan style=\"background-color: rgb(100.0%, 99.93002449428432%, 99.93002449428432%)\"\u003e[\u003c/span\u003e\u003cspan style=\"background-color: rgb(100.0%, 99.5908393524931%, 99.5908393524931%)\"\u003ei\u003c/span\u003e\u003cspan style=\"background-color: rgb(100.0%, 99.77026429733321%, 99.77026429733321%)\"\u003e]\u003c/span\u003e\u003cspan style=\"background-color: rgb(100.0%, 90.01444756870384%, 90.01444756870384%)\"\u003e↩\n",
              "\u003c/span\u003e\u003cspan style=\"background-color: rgb(100.0%, 51.07372545380405%, 51.07372545380405%)\"\u003e        \u003c/span\u003e\u003cspan style=\"background-color: rgb(100.0%, 27.709357886746727%, 27.709357886746727%)\"\u003ecount\u003c/span\u003e\u003cspan style=\"background-color: rgb(100.0%, 97.60904721403702%, 97.60904721403702%)\"\u003e +=\u003c/span\u003e\u003cspan style=\"background-color: rgb(100.0%, 98.78741182794751%, 98.78741182794751%)\"\u003e \u003c/span\u003e\u003cspan style=\"background-color: rgb(100.0%, 99.50124791926824%, 99.50124791926824%)\"\u003emp\u003c/span\u003e\u003cspan style=\"background-color: rgb(100.0%, 98.95549325678992%, 98.95549325678992%)\"\u003e[\u003c/span\u003e\u003cspan style=\"background-color: rgb(100.0%, 98.7380304684022%, 98.7380304684022%)\"\u003esum\u003c/span\u003e\u003cspan style=\"background-color: rgb(100.0%, 90.78283137792172%, 90.78283137792172%)\"\u003e]\u003c/span\u003e\u003cspan style=\"background-color: rgb(100.0%, 96.86034375800998%, 96.86034375800998%)\"\u003e↩\n",
              "\u003c/span\u003e\u003cspan style=\"background-color: rgb(100.0%, 98.78741182794751%, 98.78741182794751%)\"\u003e        \u003c/span\u003e\u003cspan style=\"background-color: rgb(100.0%, 97.27773999494099%, 97.27773999494099%)\"\u003emp\u003c/span\u003e\u003cspan style=\"background-color: rgb(100.0%, 99.89006047782276%, 99.89006047782276%)\"\u003e[\u003c/span\u003e\u003cspan style=\"background-color: rgb(100.0%, 81.59517954225929%, 81.59517954225929%)\"\u003esum\u003c/span\u003e\u003cspan style=\"background-color: rgb(100.0%, 99.0049833749168%, 99.0049833749168%)\"\u003e]\u003c/span\u003e\u003cspan style=\"background-color: rgb(100.0%, 99.82016190284372%, 99.82016190284372%)\"\u003e +=\u003c/span\u003e\u003cspan style=\"background-color: rgb(100.0%, 95.59974818331%, 95.59974818331%)\"\u003e \u003c/span\u003e\u003cspan style=\"background-color: rgb(100.0%, 99.95001249791693%, 99.95001249791693%)\"\u003e1\u003c/span\u003e\u003cspan style=\"background-color: rgb(100.0%, 97.34585825154576%, 97.34585825154576%)\"\u003e↩\n",
              "\u003c/span\u003e\u003cspan style=\"background-color: rgb(100.0%, 81.79942268867133%, 81.79942268867133%)\"\u003e    \u003c/span\u003e\u003cspan style=\"background-color: rgb(100.0%, 95.84863093596111%, 95.84863093596111%)\"\u003ereturn\u003c/span\u003e\u003cspan style=\"background-color: rgb(100.0%, 97.80446065677002%, 97.80446065677002%)\"\u003e count\u003c/span\u003e\u003cspan style=\"background-color: rgb(100.0%, 93.07170206022266%, 93.07170206022266%)\"\u003e↩\n",
              "\u003c/span\u003e\u003cspan style=\"background-color: rgb(100.0%, 67.75987367137502%, 67.75987367137502%)\"\u003e↩\n",
              "\u003c/span\u003e\u003cspan style=\"background-color: rgb(100.0%, 21.73818053151582%, 21.73818053151582%)\"\u003eprint\u003c/span\u003e\u003cspan style=\"background-color: rgb(100.0%, 90.28489638179302%, 90.28489638179302%)\"\u003e(\u003c/span\u003e\u003cspan style=\"background-color: rgb(100.0%, 99.16351814230984%, 99.16351814230984%)\"\u003ecount\u003c/span\u003e\u003cspan style=\"background-color: rgb(100.0%, 99.96000799893345%, 99.96000799893345%)\"\u003e_\u003c/span\u003e\u003cspan style=\"background-color: rgb(100.0%, 99.93002449428432%, 99.93002449428432%)\"\u003eSubstring\u003c/span\u003e\u003cspan style=\"background-color: rgb(100.0%, 99.95001249791693%, 99.95001249791693%)\"\u003es\u003c/span\u003e\u003cspan style=\"background-color: rgb(100.0%, 50.23289977249746%, 50.23289977249746%)\"\u003e(\u0026quot;\u003c/span\u003e\u003cspan style=\"background-color: rgb(100.0%, 11.037186760835194%, 11.037186760835194%)\"\u003eabc\u003c/span\u003e\u003cspan style=\"background-color: rgb(100.0%, 38.66250185490707%, 38.66250185490707%)\"\u003e\u0026quot;,\u003c/span\u003e\u003cspan style=\"background-color: rgb(100.0%, 13.638138724936324%, 13.638138724936324%)\"\u003e4\u003c/span\u003e\u003cspan style=\"background-color: rgb(100.0%, 98.68867379336503%, 98.68867379336503%)\"\u003e))\u003c/span\u003e\u003cspan style=\"background-color: rgb(100.0%, 68.9423181395361%, 68.9423181395361%)\"\u003e↩\n",
              "\u003c/span\u003e\u003c/span\u003e"
            ],
            "text/plain": [
              "\u003cIPython.core.display.HTML object\u003e"
            ]
          },
          "metadata": {},
          "output_type": "display_data"
        }
      ],
      "source": [
        "runner.show_token_probs(context, one_sample_with_log_probs, parse_and_realign=False)"
      ]
    },
    {
      "cell_type": "markdown",
      "metadata": {
        "id": "O9Qqcra1DaKJ"
      },
      "source": [
        "Note that model tokens might not exactly align with parser tokens, so we first align arbitrary substring probabilities with the parser tokens. Here's the same output after applying our parser:"
      ]
    },
    {
      "cell_type": "code",
      "execution_count": null,
      "metadata": {
        "colab": {
          "height": 277
        },
        "id": "fJFy8eXCDjMq",
        "outputId": "d2c1229c-0e3c-478d-e8cd-b8c94000b31e"
      },
      "outputs": [
        {
          "data": {
            "text/html": [
              "\u003cspan style=\"white-space: pre; font-family: monospace;\"\u003e\n",
              "# Write a python function to count number of substrings with the sum of digits equal to their length.\n",
              "\n",
              "from collections import defaultdict\n",
              "def count_Substrings(s,n):\n",
              "    count,sum = 0,0\n",
              "    mp = defaultdict(lambda : 0)\n",
              "    mp[0] += 1\u003c/span\u003e\u003cspan style=\"white-space: pre; font-family: monospace; font-weight: bold\"\u003e\u003cspan style=\"background-color: rgb(100.0%, 100.0%, 100.0%)\"\u003e↩\n",
              "\u003c/span\u003e\u003cspan style=\"background-color: rgb(100.0%, 100.0%, 100.0%)\"\u003e    \u003c/span\u003e\u003cspan style=\"background-color: rgb(100.0%, 88.763025695677%, 88.763025695677%)\"\u003efor\u003c/span\u003e\u003cspan style=\"background-color: rgb(100.0%, 100.0%, 100.0%)\"\u003e \u003c/span\u003e\u003cspan style=\"background-color: rgb(100.0%, 92.18248877336897%, 92.18248877336897%)\"\u003ei\u003c/span\u003e\u003cspan style=\"background-color: rgb(100.0%, 100.0%, 100.0%)\"\u003e \u003c/span\u003e\u003cspan style=\"background-color: rgb(100.0%, 96.36761353490535%, 96.36761353490535%)\"\u003ein\u003c/span\u003e\u003cspan style=\"background-color: rgb(100.0%, 100.0%, 100.0%)\"\u003e \u003c/span\u003e\u003cspan style=\"background-color: rgb(100.0%, 78.55273525967388%, 78.55273525967388%)\"\u003erange\u003c/span\u003e\u003cspan style=\"background-color: rgb(100.0%, 99.0941279690043%, 99.0941279690043%)\"\u003e(\u003c/span\u003e\u003cspan style=\"background-color: rgb(100.0%, 17.9927731568004%, 17.9927731568004%)\"\u003e0\u003c/span\u003e\u003cspan style=\"background-color: rgb(100.0%, 99.05449824429004%, 99.05449824429004%)\"\u003e,\u003c/span\u003e\u003cspan style=\"background-color: rgb(100.0%, 53.1633998046356%, 53.1633998046356%)\"\u003en\u003c/span\u003e\u003cspan style=\"background-color: rgb(100.0%, 94.7621611873004%, 94.7621611873004%)\"\u003e)\u003c/span\u003e\u003cspan style=\"background-color: rgb(100.0%, 94.7621611873004%, 94.7621611873004%)\"\u003e:\u003c/span\u003e\u003cspan style=\"background-color: rgb(100.0%, 100.0%, 100.0%)\"\u003e↩\n",
              "\u003c/span\u003e\u003cspan style=\"background-color: rgb(100.0%, 98.44226025414599%, 98.44226025414599%)\"\u003e\u003c/span\u003e\u003cspan style=\"background-color: rgb(100.0%, 100.0%, 100.0%)\"\u003e        \u003c/span\u003e\u003cspan style=\"background-color: rgb(100.0%, 94.17645335842487%, 94.17645335842487%)\"\u003esum\u003c/span\u003e\u003cspan style=\"background-color: rgb(100.0%, 100.0%, 100.0%)\"\u003e \u003c/span\u003e\u003cspan style=\"background-color: rgb(100.0%, 75.41982609358783%, 75.41982609358783%)\"\u003e+\u003c/span\u003e\u003cspan style=\"background-color: rgb(100.0%, 75.41982609358783%, 75.41982609358783%)\"\u003e=\u003c/span\u003e\u003cspan style=\"background-color: rgb(100.0%, 100.0%, 100.0%)\"\u003e \u003c/span\u003e\u003cspan style=\"background-color: rgb(100.0%, 97.62857097579094%, 97.62857097579094%)\"\u003es\u003c/span\u003e\u003cspan style=\"background-color: rgb(100.0%, 99.93002449428432%, 99.93002449428432%)\"\u003e[\u003c/span\u003e\u003cspan style=\"background-color: rgb(100.0%, 99.5908393524931%, 99.5908393524931%)\"\u003ei\u003c/span\u003e\u003cspan style=\"background-color: rgb(100.0%, 99.77026429733321%, 99.77026429733321%)\"\u003e]\u003c/span\u003e\u003cspan style=\"background-color: rgb(100.0%, 100.0%, 100.0%)\"\u003e↩\n",
              "\u003c/span\u003e\u003cspan style=\"background-color: rgb(100.0%, 100.0%, 100.0%)\"\u003e        \u003c/span\u003e\u003cspan style=\"background-color: rgb(100.0%, 27.709357886746727%, 27.709357886746727%)\"\u003ecount\u003c/span\u003e\u003cspan style=\"background-color: rgb(100.0%, 100.0%, 100.0%)\"\u003e \u003c/span\u003e\u003cspan style=\"background-color: rgb(100.0%, 97.60904721403702%, 97.60904721403702%)\"\u003e+\u003c/span\u003e\u003cspan style=\"background-color: rgb(100.0%, 97.60904721403702%, 97.60904721403702%)\"\u003e=\u003c/span\u003e\u003cspan style=\"background-color: rgb(100.0%, 100.0%, 100.0%)\"\u003e \u003c/span\u003e\u003cspan style=\"background-color: rgb(100.0%, 99.50124791926824%, 99.50124791926824%)\"\u003emp\u003c/span\u003e\u003cspan style=\"background-color: rgb(100.0%, 98.95549325678992%, 98.95549325678992%)\"\u003e[\u003c/span\u003e\u003cspan style=\"background-color: rgb(100.0%, 98.7380304684022%, 98.7380304684022%)\"\u003esum\u003c/span\u003e\u003cspan style=\"background-color: rgb(100.0%, 90.78283137792172%, 90.78283137792172%)\"\u003e]\u003c/span\u003e\u003cspan style=\"background-color: rgb(100.0%, 100.0%, 100.0%)\"\u003e↩\n",
              "\u003c/span\u003e\u003cspan style=\"background-color: rgb(100.0%, 100.0%, 100.0%)\"\u003e        \u003c/span\u003e\u003cspan style=\"background-color: rgb(100.0%, 97.27773999494099%, 97.27773999494099%)\"\u003emp\u003c/span\u003e\u003cspan style=\"background-color: rgb(100.0%, 99.89006047782276%, 99.89006047782276%)\"\u003e[\u003c/span\u003e\u003cspan style=\"background-color: rgb(100.0%, 81.59517954225929%, 81.59517954225929%)\"\u003esum\u003c/span\u003e\u003cspan style=\"background-color: rgb(100.0%, 99.0049833749168%, 99.0049833749168%)\"\u003e]\u003c/span\u003e\u003cspan style=\"background-color: rgb(100.0%, 100.0%, 100.0%)\"\u003e \u003c/span\u003e\u003cspan style=\"background-color: rgb(100.0%, 99.82016190284372%, 99.82016190284372%)\"\u003e+\u003c/span\u003e\u003cspan style=\"background-color: rgb(100.0%, 99.82016190284372%, 99.82016190284372%)\"\u003e=\u003c/span\u003e\u003cspan style=\"background-color: rgb(100.0%, 100.0%, 100.0%)\"\u003e \u003c/span\u003e\u003cspan style=\"background-color: rgb(100.0%, 99.95001249791693%, 99.95001249791693%)\"\u003e1\u003c/span\u003e\u003cspan style=\"background-color: rgb(100.0%, 97.34585825154576%, 97.34585825154576%)\"\u003e\u003c/span\u003e\u003cspan style=\"background-color: rgb(100.0%, 100.0%, 100.0%)\"\u003e↩\n",
              "\u003c/span\u003e\u003cspan style=\"background-color: rgb(100.0%, 100.0%, 100.0%)\"\u003e    \u003c/span\u003e\u003cspan style=\"background-color: rgb(100.0%, 95.84863093596111%, 95.84863093596111%)\"\u003ereturn\u003c/span\u003e\u003cspan style=\"background-color: rgb(100.0%, 100.0%, 100.0%)\"\u003e \u003c/span\u003e\u003cspan style=\"background-color: rgb(100.0%, 97.80446065677002%, 97.80446065677002%)\"\u003ecount\u003c/span\u003e\u003cspan style=\"background-color: rgb(100.0%, 100.0%, 100.0%)\"\u003e↩\n",
              "\u003c/span\u003e\u003cspan style=\"background-color: rgb(100.0%, 67.75987367137502%, 67.75987367137502%)\"\u003e\u003c/span\u003e\u003cspan style=\"background-color: rgb(100.0%, 100.0%, 100.0%)\"\u003e↩\n",
              "\u003c/span\u003e\u003cspan style=\"background-color: rgb(100.0%, 21.73818053151582%, 21.73818053151582%)\"\u003eprint\u003c/span\u003e\u003cspan style=\"background-color: rgb(100.0%, 90.28489638179302%, 90.28489638179302%)\"\u003e(\u003c/span\u003e\u003cspan style=\"background-color: rgb(100.0%, 99.0049833749168%, 99.0049833749168%)\"\u003ecount_Substrings\u003c/span\u003e\u003cspan style=\"background-color: rgb(100.0%, 50.23289977249746%, 50.23289977249746%)\"\u003e(\u003c/span\u003e\u003cspan style=\"background-color: rgb(100.0%, 50.23289977249746%, 50.23289977249746%)\"\u003e\u0026quot;\u003c/span\u003e\u003cspan style=\"background-color: rgb(100.0%, 11.037186760835194%, 11.037186760835194%)\"\u003eabc\u003c/span\u003e\u003cspan style=\"background-color: rgb(100.0%, 38.66250185490707%, 38.66250185490707%)\"\u003e\u0026quot;\u003c/span\u003e\u003cspan style=\"background-color: rgb(100.0%, 38.66250185490707%, 38.66250185490707%)\"\u003e,\u003c/span\u003e\u003cspan style=\"background-color: rgb(100.0%, 13.638138724936324%, 13.638138724936324%)\"\u003e4\u003c/span\u003e\u003cspan style=\"background-color: rgb(100.0%, 98.68867379336503%, 98.68867379336503%)\"\u003e)\u003c/span\u003e\u003cspan style=\"background-color: rgb(100.0%, 98.68867379336503%, 98.68867379336503%)\"\u003e)\u003c/span\u003e\u003cspan style=\"background-color: rgb(100.0%, 100.0%, 100.0%)\"\u003e↩\n",
              "\u003c/span\u003e\u003c/span\u003e"
            ],
            "text/plain": [
              "\u003cIPython.core.display.HTML object\u003e"
            ]
          },
          "metadata": {},
          "output_type": "display_data"
        }
      ],
      "source": [
        "runner.show_token_probs(context, one_sample_with_log_probs, parse_and_realign=True)"
      ]
    },
    {
      "cell_type": "markdown",
      "metadata": {
        "id": "LWV9nX5-SsPY"
      },
      "source": [
        "This is used to construct our baseline assignments.\n",
        "\n",
        "Note the following correspondence to the names of the baselines in out research paper:\n",
        "- `prob_threshold_x_nonempty` = \"Token Prob. Thresh x\"\n",
        "- `prob_threshold_x_cumulative` = \"Prefix Prob. Thresh x\"\n",
        "- `example_fraction_x` = \"Example Fraction x\""
      ]
    },
    {
      "cell_type": "code",
      "execution_count": null,
      "metadata": {
        "id": "uTrZmeFeSwnz"
      },
      "outputs": [],
      "source": [
        "baseline_results = runner.build_baselines(context, one_sample_with_log_probs)"
      ]
    },
    {
      "cell_type": "code",
      "execution_count": null,
      "metadata": {
        "colab": {
          "height": 1000
        },
        "id": "FKCgoAdqEla0",
        "outputId": "f51e3b21-49e9-418f-9728-5c5289f8364f"
      },
      "outputs": [
        {
          "name": "stdout",
          "output_type": "stream",
          "text": [
            "==== prob_threshold_0.3_nonempty ====\n"
          ]
        },
        {
          "data": {
            "text/html": [
              "\u003cspan style=\"white-space: pre; font-family: monospace; color: #72A0C1;\"\u003e\n",
              "# Write a python function to count number of substrings with the sum of digits equal to their length.\n",
              "\n",
              "from collections import defaultdict\n",
              "def count_Substrings(s,n):\n",
              "    count,sum = 0,0\n",
              "    mp = defaultdict(lambda : 0)\n",
              "    mp[0] += 1\u003c/span\u003e\u003cstyle\u003e\n",
              "        .regions_root {\n",
              "            white-space: pre;\n",
              "            font-family: monospace;\n",
              "            color: black;\n",
              "            font-weight: bold;\n",
              "        }\n",
              "        .regions_root .in_region {\n",
              "            color: darkorange;\n",
              "            border: solid 1px orange;\n",
              "            border-radius: 3px;\n",
              "            background-color: yellow;\n",
              "        }\n",
              "      \u003c/style\u003e\u003cspan class=\"regions_root\"\u003e\n",
              "    for i in range(\u003cspan class=\"in_region\"\u003e0\u003c/span\u003e,n):\n",
              "        sum += s[i]\n",
              "        \u003cspan class=\"in_region\"\u003ecount \u003c/span\u003e+= mp[sum]\n",
              "        mp[sum] += 1\n",
              "    return count\n",
              "\n",
              "\u003cspan class=\"in_region\"\u003eprint\u003c/span\u003e(count_Substrings(\u0026quot;\u003cspan class=\"in_region\"\u003eabc\u003c/span\u003e\u0026quot;,\u003cspan class=\"in_region\"\u003e4\u003c/span\u003e))\n",
              "\u003c/span\u003e\u003cbr\u003e"
            ],
            "text/plain": [
              "\u003cIPython.core.display.HTML object\u003e"
            ]
          },
          "metadata": {},
          "output_type": "display_data"
        },
        {
          "name": "stdout",
          "output_type": "stream",
          "text": [
            "==== prob_threshold_0.3_cumulative ====\n"
          ]
        },
        {
          "data": {
            "text/html": [
              "\u003cspan style=\"white-space: pre; font-family: monospace; color: #72A0C1;\"\u003e\n",
              "# Write a python function to count number of substrings with the sum of digits equal to their length.\n",
              "\n",
              "from collections import defaultdict\n",
              "def count_Substrings(s,n):\n",
              "    count,sum = 0,0\n",
              "    mp = defaultdict(lambda : 0)\n",
              "    mp[0] += 1\u003c/span\u003e\u003cstyle\u003e\n",
              "        .regions_root {\n",
              "            white-space: pre;\n",
              "            font-family: monospace;\n",
              "            color: black;\n",
              "            font-weight: bold;\n",
              "        }\n",
              "        .regions_root .in_region {\n",
              "            color: darkorange;\n",
              "            border: solid 1px orange;\n",
              "            border-radius: 3px;\n",
              "            background-color: yellow;\n",
              "        }\n",
              "      \u003c/style\u003e\u003cspan class=\"regions_root\"\u003e\n",
              "    for i in range\u003cspan class=\"in_region\"\u003e(0,n):\n",
              "\u003c/span\u003e\u003cspan class=\"in_region\"\u003e        sum += s[i]\n",
              "        count += mp[sum]\n",
              "        mp[sum] += 1\u003c/span\u003e\n",
              "    \u003cspan class=\"in_region\"\u003ereturn count\n",
              "\u003c/span\u003e\n",
              "\u003cspan class=\"in_region\"\u003eprint(count_Substrings(\u0026quot;abc\u0026quot;,4))\n",
              "\u003c/span\u003e\u003c/span\u003e\u003cbr\u003e"
            ],
            "text/plain": [
              "\u003cIPython.core.display.HTML object\u003e"
            ]
          },
          "metadata": {},
          "output_type": "display_data"
        },
        {
          "name": "stdout",
          "output_type": "stream",
          "text": [
            "==== prob_threshold_0.5_nonempty ====\n"
          ]
        },
        {
          "data": {
            "text/html": [
              "\u003cspan style=\"white-space: pre; font-family: monospace; color: #72A0C1;\"\u003e\n",
              "# Write a python function to count number of substrings with the sum of digits equal to their length.\n",
              "\n",
              "from collections import defaultdict\n",
              "def count_Substrings(s,n):\n",
              "    count,sum = 0,0\n",
              "    mp = defaultdict(lambda : 0)\n",
              "    mp[0] += 1\u003c/span\u003e\u003cstyle\u003e\n",
              "        .regions_root {\n",
              "            white-space: pre;\n",
              "            font-family: monospace;\n",
              "            color: black;\n",
              "            font-weight: bold;\n",
              "        }\n",
              "        .regions_root .in_region {\n",
              "            color: darkorange;\n",
              "            border: solid 1px orange;\n",
              "            border-radius: 3px;\n",
              "            background-color: yellow;\n",
              "        }\n",
              "      \u003c/style\u003e\u003cspan class=\"regions_root\"\u003e\n",
              "    for i in range(\u003cspan class=\"in_region\"\u003e0\u003c/span\u003e,n):\n",
              "        sum += s[i]\n",
              "        \u003cspan class=\"in_region\"\u003ecount \u003c/span\u003e+= mp[sum]\n",
              "        mp[sum] += 1\n",
              "    return count\n",
              "\n",
              "\u003cspan class=\"in_region\"\u003eprint\u003c/span\u003e(count_Substrings(\u003cspan class=\"in_region\"\u003e\u0026quot;abc\u0026quot;,4\u003c/span\u003e))\n",
              "\u003c/span\u003e\u003cbr\u003e"
            ],
            "text/plain": [
              "\u003cIPython.core.display.HTML object\u003e"
            ]
          },
          "metadata": {},
          "output_type": "display_data"
        },
        {
          "name": "stdout",
          "output_type": "stream",
          "text": [
            "==== prob_threshold_0.5_cumulative ====\n"
          ]
        },
        {
          "data": {
            "text/html": [
              "\u003cspan style=\"white-space: pre; font-family: monospace; color: #72A0C1;\"\u003e\n",
              "# Write a python function to count number of substrings with the sum of digits equal to their length.\n",
              "\n",
              "from collections import defaultdict\n",
              "def count_Substrings(s,n):\n",
              "    count,sum = 0,0\n",
              "    mp = defaultdict(lambda : 0)\n",
              "    mp[0] += 1\u003c/span\u003e\u003cstyle\u003e\n",
              "        .regions_root {\n",
              "            white-space: pre;\n",
              "            font-family: monospace;\n",
              "            color: black;\n",
              "            font-weight: bold;\n",
              "        }\n",
              "        .regions_root .in_region {\n",
              "            color: darkorange;\n",
              "            border: solid 1px orange;\n",
              "            border-radius: 3px;\n",
              "            background-color: yellow;\n",
              "        }\n",
              "      \u003c/style\u003e\u003cspan class=\"regions_root\"\u003e\n",
              "    for i in range\u003cspan class=\"in_region\"\u003e(0,n):\n",
              "\u003c/span\u003e\u003cspan class=\"in_region\"\u003e        sum += s[i]\n",
              "        count += mp[sum]\n",
              "        mp[sum] += 1\u003c/span\u003e\n",
              "    \u003cspan class=\"in_region\"\u003ereturn count\n",
              "\u003c/span\u003e\n",
              "\u003cspan class=\"in_region\"\u003eprint(count_Substrings(\u0026quot;abc\u0026quot;,4))\n",
              "\u003c/span\u003e\u003c/span\u003e\u003cbr\u003e"
            ],
            "text/plain": [
              "\u003cIPython.core.display.HTML object\u003e"
            ]
          },
          "metadata": {},
          "output_type": "display_data"
        },
        {
          "name": "stdout",
          "output_type": "stream",
          "text": [
            "==== prob_threshold_0.7_nonempty ====\n"
          ]
        },
        {
          "data": {
            "text/html": [
              "\u003cspan style=\"white-space: pre; font-family: monospace; color: #72A0C1;\"\u003e\n",
              "# Write a python function to count number of substrings with the sum of digits equal to their length.\n",
              "\n",
              "from collections import defaultdict\n",
              "def count_Substrings(s,n):\n",
              "    count,sum = 0,0\n",
              "    mp = defaultdict(lambda : 0)\n",
              "    mp[0] += 1\u003c/span\u003e\u003cstyle\u003e\n",
              "        .regions_root {\n",
              "            white-space: pre;\n",
              "            font-family: monospace;\n",
              "            color: black;\n",
              "            font-weight: bold;\n",
              "        }\n",
              "        .regions_root .in_region {\n",
              "            color: darkorange;\n",
              "            border: solid 1px orange;\n",
              "            border-radius: 3px;\n",
              "            background-color: yellow;\n",
              "        }\n",
              "      \u003c/style\u003e\u003cspan class=\"regions_root\"\u003e\n",
              "    for i in range(\u003cspan class=\"in_region\"\u003e0,n\u003c/span\u003e):\n",
              "        sum += s[i]\n",
              "        \u003cspan class=\"in_region\"\u003ecount \u003c/span\u003e+= mp[sum]\n",
              "        mp[sum] += 1\n",
              "    return count\n",
              "\n",
              "\u003cspan class=\"in_region\"\u003eprint\u003c/span\u003e(count_Substrings\u003cspan class=\"in_region\"\u003e(\u0026quot;abc\u0026quot;,4)\u003c/span\u003e)\n",
              "\u003c/span\u003e\u003cbr\u003e"
            ],
            "text/plain": [
              "\u003cIPython.core.display.HTML object\u003e"
            ]
          },
          "metadata": {},
          "output_type": "display_data"
        },
        {
          "name": "stdout",
          "output_type": "stream",
          "text": [
            "==== prob_threshold_0.7_cumulative ====\n"
          ]
        },
        {
          "data": {
            "text/html": [
              "\u003cspan style=\"white-space: pre; font-family: monospace; color: #72A0C1;\"\u003e\n",
              "# Write a python function to count number of substrings with the sum of digits equal to their length.\n",
              "\n",
              "from collections import defaultdict\n",
              "def count_Substrings(s,n):\n",
              "    count,sum = 0,0\n",
              "    mp = defaultdict(lambda : 0)\n",
              "    mp[0] += 1\u003c/span\u003e\u003cstyle\u003e\n",
              "        .regions_root {\n",
              "            white-space: pre;\n",
              "            font-family: monospace;\n",
              "            color: black;\n",
              "            font-weight: bold;\n",
              "        }\n",
              "        .regions_root .in_region {\n",
              "            color: darkorange;\n",
              "            border: solid 1px orange;\n",
              "            border-radius: 3px;\n",
              "            background-color: yellow;\n",
              "        }\n",
              "      \u003c/style\u003e\u003cspan class=\"regions_root\"\u003e\n",
              "    for i in \u003cspan class=\"in_region\"\u003erange(0,n):\n",
              "\u003c/span\u003e\u003cspan class=\"in_region\"\u003e        sum += s[i]\n",
              "        count += mp[sum]\n",
              "        mp[sum] += 1\u003c/span\u003e\n",
              "    \u003cspan class=\"in_region\"\u003ereturn count\n",
              "\u003c/span\u003e\n",
              "\u003cspan class=\"in_region\"\u003eprint(count_Substrings(\u0026quot;abc\u0026quot;,4))\n",
              "\u003c/span\u003e\u003c/span\u003e\u003cbr\u003e"
            ],
            "text/plain": [
              "\u003cIPython.core.display.HTML object\u003e"
            ]
          },
          "metadata": {},
          "output_type": "display_data"
        },
        {
          "name": "stdout",
          "output_type": "stream",
          "text": [
            "==== prob_threshold_0.9_nonempty ====\n"
          ]
        },
        {
          "data": {
            "text/html": [
              "\u003cspan style=\"white-space: pre; font-family: monospace; color: #72A0C1;\"\u003e\n",
              "# Write a python function to count number of substrings with the sum of digits equal to their length.\n",
              "\n",
              "from collections import defaultdict\n",
              "def count_Substrings(s,n):\n",
              "    count,sum = 0,0\n",
              "    mp = defaultdict(lambda : 0)\n",
              "    mp[0] += 1\u003c/span\u003e\u003cstyle\u003e\n",
              "        .regions_root {\n",
              "            white-space: pre;\n",
              "            font-family: monospace;\n",
              "            color: black;\n",
              "            font-weight: bold;\n",
              "        }\n",
              "        .regions_root .in_region {\n",
              "            color: darkorange;\n",
              "            border: solid 1px orange;\n",
              "            border-radius: 3px;\n",
              "            background-color: yellow;\n",
              "        }\n",
              "      \u003c/style\u003e\u003cspan class=\"regions_root\"\u003e\n",
              "    \u003cspan class=\"in_region\"\u003efor \u003c/span\u003ei in \u003cspan class=\"in_region\"\u003erange(0,n)\u003c/span\u003e:\n",
              "        sum \u003cspan class=\"in_region\"\u003e+= \u003c/span\u003es[i]\n",
              "        \u003cspan class=\"in_region\"\u003ecount \u003c/span\u003e+= mp[sum]\n",
              "        mp[\u003cspan class=\"in_region\"\u003esum\u003c/span\u003e] += 1\n",
              "    return count\n",
              "\n",
              "\u003cspan class=\"in_region\"\u003eprint\u003c/span\u003e(count_Substrings\u003cspan class=\"in_region\"\u003e(\u0026quot;abc\u0026quot;,4)\u003c/span\u003e)\n",
              "\u003c/span\u003e\u003cbr\u003e"
            ],
            "text/plain": [
              "\u003cIPython.core.display.HTML object\u003e"
            ]
          },
          "metadata": {},
          "output_type": "display_data"
        },
        {
          "name": "stdout",
          "output_type": "stream",
          "text": [
            "==== prob_threshold_0.9_cumulative ====\n"
          ]
        },
        {
          "data": {
            "text/html": [
              "\u003cspan style=\"white-space: pre; font-family: monospace; color: #72A0C1;\"\u003e\n",
              "# Write a python function to count number of substrings with the sum of digits equal to their length.\n",
              "\n",
              "from collections import defaultdict\n",
              "def count_Substrings(s,n):\n",
              "    count,sum = 0,0\n",
              "    mp = defaultdict(lambda : 0)\n",
              "    mp[0] += 1\u003c/span\u003e\u003cstyle\u003e\n",
              "        .regions_root {\n",
              "            white-space: pre;\n",
              "            font-family: monospace;\n",
              "            color: black;\n",
              "            font-weight: bold;\n",
              "        }\n",
              "        .regions_root .in_region {\n",
              "            color: darkorange;\n",
              "            border: solid 1px orange;\n",
              "            border-radius: 3px;\n",
              "            background-color: yellow;\n",
              "        }\n",
              "      \u003c/style\u003e\u003cspan class=\"regions_root\"\u003e\n",
              "\u003cspan class=\"in_region\"\u003e    for i in range(0,n):\n",
              "        sum += s[i]\n",
              "        count += mp[sum]\n",
              "        mp[sum] += 1\n",
              "    return count\n",
              "\u003c/span\u003e\n",
              "\u003cspan class=\"in_region\"\u003eprint(count_Substrings(\u0026quot;abc\u0026quot;,4))\n",
              "\u003c/span\u003e\u003c/span\u003e\u003cbr\u003e"
            ],
            "text/plain": [
              "\u003cIPython.core.display.HTML object\u003e"
            ]
          },
          "metadata": {},
          "output_type": "display_data"
        },
        {
          "name": "stdout",
          "output_type": "stream",
          "text": [
            "==== example_fraction_0.0 ====\n"
          ]
        },
        {
          "data": {
            "text/html": [
              "\u003cspan style=\"white-space: pre; font-family: monospace; color: #72A0C1;\"\u003e\n",
              "# Write a python function to count number of substrings with the sum of digits equal to their length.\n",
              "\n",
              "from collections import defaultdict\n",
              "def count_Substrings(s,n):\n",
              "    count,sum = 0,0\n",
              "    mp = defaultdict(lambda : 0)\n",
              "    mp[0] += 1\u003c/span\u003e\u003cstyle\u003e\n",
              "        .regions_root {\n",
              "            white-space: pre;\n",
              "            font-family: monospace;\n",
              "            color: black;\n",
              "            font-weight: bold;\n",
              "        }\n",
              "        .regions_root .in_region {\n",
              "            color: darkorange;\n",
              "            border: solid 1px orange;\n",
              "            border-radius: 3px;\n",
              "            background-color: yellow;\n",
              "        }\n",
              "      \u003c/style\u003e\u003cspan class=\"regions_root\"\u003e\n",
              "\u003cspan class=\"in_region\"\u003e    for i in range(0,n):\n",
              "        sum += s[i]\n",
              "        count += mp[sum]\n",
              "        mp[sum] += 1\n",
              "    return count\n",
              "\u003c/span\u003e\n",
              "\u003cspan class=\"in_region\"\u003eprint(count_Substrings(\u0026quot;abc\u0026quot;,4))\n",
              "\u003c/span\u003e\u003c/span\u003e\u003cbr\u003e"
            ],
            "text/plain": [
              "\u003cIPython.core.display.HTML object\u003e"
            ]
          },
          "metadata": {},
          "output_type": "display_data"
        },
        {
          "name": "stdout",
          "output_type": "stream",
          "text": [
            "==== example_fraction_0.5 ====\n"
          ]
        },
        {
          "data": {
            "text/html": [
              "\u003cspan style=\"white-space: pre; font-family: monospace; color: #72A0C1;\"\u003e\n",
              "# Write a python function to count number of substrings with the sum of digits equal to their length.\n",
              "\n",
              "from collections import defaultdict\n",
              "def count_Substrings(s,n):\n",
              "    count,sum = 0,0\n",
              "    mp = defaultdict(lambda : 0)\n",
              "    mp[0] += 1\u003c/span\u003e\u003cstyle\u003e\n",
              "        .regions_root {\n",
              "            white-space: pre;\n",
              "            font-family: monospace;\n",
              "            color: black;\n",
              "            font-weight: bold;\n",
              "        }\n",
              "        .regions_root .in_region {\n",
              "            color: darkorange;\n",
              "            border: solid 1px orange;\n",
              "            border-radius: 3px;\n",
              "            background-color: yellow;\n",
              "        }\n",
              "      \u003c/style\u003e\u003cspan class=\"regions_root\"\u003e\n",
              "    for i in range(0,n):\n",
              "        sum += s[i]\n",
              "        count += mp[sum]\n",
              "        \u003cspan class=\"in_region\"\u003emp[sum] += 1\u003c/span\u003e\n",
              "    \u003cspan class=\"in_region\"\u003ereturn count\n",
              "\u003c/span\u003e\n",
              "\u003cspan class=\"in_region\"\u003eprint(count_Substrings(\u0026quot;abc\u0026quot;,4))\n",
              "\u003c/span\u003e\u003c/span\u003e\u003cbr\u003e"
            ],
            "text/plain": [
              "\u003cIPython.core.display.HTML object\u003e"
            ]
          },
          "metadata": {},
          "output_type": "display_data"
        },
        {
          "name": "stdout",
          "output_type": "stream",
          "text": [
            "==== example_fraction_1.0 ====\n"
          ]
        },
        {
          "data": {
            "text/html": [
              "\u003cspan style=\"white-space: pre; font-family: monospace; color: #72A0C1;\"\u003e\n",
              "# Write a python function to count number of substrings with the sum of digits equal to their length.\n",
              "\n",
              "from collections import defaultdict\n",
              "def count_Substrings(s,n):\n",
              "    count,sum = 0,0\n",
              "    mp = defaultdict(lambda : 0)\n",
              "    mp[0] += 1\u003c/span\u003e\u003cstyle\u003e\n",
              "        .regions_root {\n",
              "            white-space: pre;\n",
              "            font-family: monospace;\n",
              "            color: black;\n",
              "            font-weight: bold;\n",
              "        }\n",
              "        .regions_root .in_region {\n",
              "            color: darkorange;\n",
              "            border: solid 1px orange;\n",
              "            border-radius: 3px;\n",
              "            background-color: yellow;\n",
              "        }\n",
              "      \u003c/style\u003e\u003cspan class=\"regions_root\"\u003e\n",
              "    for i in range(0,n):\n",
              "        sum += s[i]\n",
              "        count += mp[sum]\n",
              "        mp[sum] += 1\n",
              "    return count\n",
              "\n",
              "print(count_Substrings(\u0026quot;abc\u0026quot;,4))\n",
              "\u003c/span\u003e\u003cbr\u003e"
            ],
            "text/plain": [
              "\u003cIPython.core.display.HTML object\u003e"
            ]
          },
          "metadata": {},
          "output_type": "display_data"
        }
      ],
      "source": [
        "for name, baseline_result in baseline_results.items():\n",
        "  print(f\"==== {name} ====\")\n",
        "  runner.show_suggestion(baseline_result)"
      ]
    },
    {
      "cell_type": "code",
      "execution_count": null,
      "metadata": {
        "id": "ot8SXopbEt9A"
      },
      "outputs": [],
      "source": []
    }
  ],
  "metadata": {
    "colab": {
      "collapsed_sections": [
        "JndnmDMp66FL"
      ],
      "provenance": []
    },
    "kernelspec": {
      "display_name": "Python 3",
      "name": "python3"
    },
    "language_info": {
      "name": "python"
    }
  },
  "nbformat": 4,
  "nbformat_minor": 0
}
